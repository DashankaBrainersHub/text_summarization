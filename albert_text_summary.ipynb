{
 "cells": [
  {
   "cell_type": "code",
   "execution_count": 1,
   "metadata": {},
   "outputs": [],
   "source": [
    "import os\n",
    "import pickle\n",
    "\n",
    "import numpy as np\n",
    "import pandas as pd\n",
    "\n",
    "import torch\n",
    "\n",
    "import tensorflow_datasets as tfds\n",
    "import tensorflow as tf\n",
    "\n",
    "from flair.data import Sentence\n",
    "from flair.embeddings import BertEmbeddings, DocumentPoolEmbeddings"
   ]
  },
  {
   "cell_type": "markdown",
   "metadata": {},
   "source": [
    "# Dataset"
   ]
  },
  {
   "cell_type": "markdown",
   "metadata": {},
   "source": [
    "## Tensorflow Dataset to numpy Dataset"
   ]
  },
  {
   "cell_type": "code",
   "execution_count": 2,
   "metadata": {},
   "outputs": [],
   "source": [
    "from segtok.segmenter import split_single\n",
    "def split_in_sentences(text):\n",
    "    return split_single(text)"
   ]
  },
  {
   "cell_type": "code",
   "execution_count": 3,
   "metadata": {},
   "outputs": [
    {
     "name": "stderr",
     "output_type": "stream",
     "text": [
      "INFO:absl:No config specified, defaulting to first: cnn_dailymail/plain_text\n",
      "INFO:absl:Overwrite dataset info from restored data version.\n",
      "INFO:absl:Reusing dataset cnn_dailymail (/home/yannik/tensorflow_datasets/cnn_dailymail/plain_text/3.0.0)\n",
      "INFO:absl:Constructing tf.data.Dataset for split None, from /home/yannik/tensorflow_datasets/cnn_dailymail/plain_text/3.0.0\n"
     ]
    }
   ],
   "source": [
    "cnn_dailymail = tfds.load(name=\"cnn_dailymail\")"
   ]
  },
  {
   "cell_type": "code",
   "execution_count": 3,
   "metadata": {},
   "outputs": [],
   "source": [
    "train_tfds = cnn_dailymail['train']\n",
    "test_tfds = cnn_dailymail['test']\n",
    "val_tfds = cnn_dailymail['validation']"
   ]
  },
  {
   "cell_type": "code",
   "execution_count": 5,
   "metadata": {},
   "outputs": [],
   "source": [
    "def normalize_text(text):\n",
    "    \"\"\"Lowercase and remove quotes from a TensorFlow string.\"\"\"\n",
    "    text = tf.strings.lower(text)\n",
    "    text = tf.strings.regex_replace(text,\"'(.*)'\", r\"\\1\")\n",
    "    return text\n",
    "\n",
    "\n",
    "def map_func(features):\n",
    "    article_text = normalize_text(features[\"article\"])\n",
    "    highlights_text = normalize_text(features['highlights'])\n",
    "    \n",
    "    return article_text.numpy().decode('UTF-8'), highlights_text.numpy().decode('UTF-8')"
   ]
  },
  {
   "cell_type": "code",
   "execution_count": 3,
   "metadata": {},
   "outputs": [],
   "source": [
    "def tfds_to_numpy(ds):\n",
    "    new_ds = pd.DataFrame(columns=[\"articles\", \"highlights\"])\n",
    "    for i, item in enumerate(ds):\n",
    "        article, higlights = map_func(item)\n",
    "        new_ds = new_ds.append({\"articles\": article, \"highlights\": higlights}, ignore_index =True)\n",
    "    return new_ds\n",
    "\n"
   ]
  },
  {
   "cell_type": "code",
   "execution_count": 3,
   "metadata": {},
   "outputs": [],
   "source": [
    "def save_to_csv(ds, name):\n",
    "    ds.to_csv(str(\"data/\" + name + \".tsv\"), sep=\"\\t\", index=False)\n",
    "    \n",
    "def load_csv(name):\n",
    "    return pd.read_csv(str(\"data/\" + name + \".tsv\"), sep=\"\\t\")\n",
    "\n",
    "def create_new_csv():\n",
    "    test_df = tfds_to_numpy(test_tfds)\n",
    "    val_df = tfds_to_numpy(val_tfds)\n",
    "    train_df = tfds_to_numpy(train_tfds)\n",
    "    \n",
    "    save_to_csv(test_df, \"test\")\n",
    "    save_to_csv(train_np_ds, \"train\")\n",
    "    save_to_csv(val_df, \"val\")\n",
    "    return train_df, val_df, test_df\n",
    "\n",
    "def load_data():\n",
    "    train_df = load_csv(\"train\")\n",
    "    test_df = load_csv(\"test\")\n",
    "    val_df = load_csv(\"val\")\n",
    "    return train_df, val_df, test_df\n",
    "\n",
    "train_df, val_df, test_df = load_data()"
   ]
  },
  {
   "cell_type": "markdown",
   "metadata": {},
   "source": [
    "## Sentence Piece\n",
    "- https://github.com/google/sentencepiece\n",
    "- use a Vocab size like Albert and BERT (30000) "
   ]
  },
  {
   "cell_type": "code",
   "execution_count": 4,
   "metadata": {},
   "outputs": [],
   "source": [
    "import sentencepiece as spm\n",
    "\n",
    "# train Sentence Piece with train.tsv\n",
    "spm_model_name = \"models/spm_train.model\"\n",
    "spm_train_file_name = \"data/train.tsv\"\n",
    "\n",
    "if not os.path.exists(spm_model_name):\n",
    "    spm.SentencePieceTrainer.Train(\n",
    "            '--input=' + os.path.join(spm_train_file_name) +\n",
    "            ' --model_prefix='+ os.path.join(spm_model_name) +\n",
    "            ' --vocab_size=30000')"
   ]
  },
  {
   "cell_type": "code",
   "execution_count": 5,
   "metadata": {},
   "outputs": [
    {
     "name": "stdout",
     "output_type": "stream",
     "text": [
      "vocab len: 30000 \n",
      "Top 15: vocabs: ['<unk>', '<s>', '</s>', '▁the', ',', '.', '▁to', '▁a', 's', '▁of', '▁and', '▁in', '▁.', \"'\", '▁was']\n"
     ]
    }
   ],
   "source": [
    "sp_model = spm.SentencePieceProcessor()\n",
    "sp_model.Load(spm_model_name)\n",
    "vocab = {sp_model.IdToPiece(i): i for i in range(sp_model.GetPieceSize())}\n",
    "vocab_list = list(vocab.keys())\n",
    "print(\"vocab len:\", len(vocab), \"\\nTop 15: vocabs:\", vocab_list[:15])"
   ]
  },
  {
   "cell_type": "code",
   "execution_count": 6,
   "metadata": {},
   "outputs": [
    {
     "name": "stdout",
     "output_type": "stream",
     "text": [
      "[1429, 292, 4, 47, 13, 108, 851, 5, 52, 18, 195, 5435, 5, 2]\n",
      " hallo, i'm leaving. this is another sentences.</s>\n"
     ]
    }
   ],
   "source": [
    "eos_token = sp_model.eos_id() \n",
    "bos_token = sp_model.bos_id()\n",
    "def get_real_text_from_ids(tokens):\n",
    "    text = \"\"\n",
    "    for token in tokens:\n",
    "        word = vocab_list[token]\n",
    "        text += word.replace(\"▁\", \" \")\n",
    "    return text\n",
    "\n",
    "def get_ids_from_vocab(text):\n",
    "    ids = sp_model.encode_as_ids(text)\n",
    "    return ids + [eos_token]\n",
    "\n",
    "test = \"hallo, i'm leaving. this is another sentences.\"\n",
    "tokens = get_ids_from_vocab(test)\n",
    "print(tokens)\n",
    "print(get_real_text_from_ids(tokens))"
   ]
  },
  {
   "cell_type": "markdown",
   "metadata": {},
   "source": [
    "## Analyse Dataset"
   ]
  },
  {
   "cell_type": "code",
   "execution_count": 7,
   "metadata": {},
   "outputs": [],
   "source": [
    "n_article_sent = []\n",
    "n_article_sent_words = []\n",
    "n_highlights_words = []\n",
    "\n",
    "for i, (article, highlight) in test_df.iterrows():\n",
    "    split_sentences = split_in_sentences(article)\n",
    "    n_article_sent.append(len(split_sentences))\n",
    "    for sent in split_sentences:\n",
    "        n_article_sent_words.append(len(sent))\n",
    "    n_highlights_words.append(len(get_ids_from_vocab(highlight)))"
   ]
  },
  {
   "cell_type": "code",
   "execution_count": 8,
   "metadata": {},
   "outputs": [
    {
     "name": "stdout",
     "output_type": "stream",
     "text": [
      "--- article sentence ---\n",
      "mean: 26\tmedian: 23 min/max: [1/106]\n",
      "--- article sentence words ---\n",
      "mean: 151\tmedian: 129 min/max: [0/10915]\n",
      "--- higlights words ---\n",
      "mean: 63\tmedian: 59 min/max: [11/784]\n"
     ]
    }
   ],
   "source": [
    "def print_mean(name, list_len):\n",
    "    print(\"---\", name, \"---\")\n",
    "    print(\"mean: %d\\tmedian: %d min/max: [%d/%d]\"%(np.mean(list_len), np.median(list_len),\\\n",
    "                                                   np.min(list_len), np.max(list_len)))\n",
    "    \n",
    "print_mean(\"article sentence\",n_article_sent)\n",
    "print_mean(\"article sentence words\",n_article_sent_words)\n",
    "print_mean(\"higlights words\", n_highlights_words)"
   ]
  },
  {
   "cell_type": "code",
   "execution_count": 17,
   "metadata": {},
   "outputs": [
    {
     "data": {
      "image/png": "[encoded data removed]",
      "text/plain": [
       "<Figure size 432x288 with 1 Axes>"
      ]
     },
     "metadata": {
      "needs_background": "light"
     },
     "output_type": "display_data"
    },
    {
     "data": {
      "image/png": "[encoded data removed]",
      "text/plain": [
       "<Figure size 432x288 with 1 Axes>"
      ]
     },
     "metadata": {
      "needs_background": "light"
     },
     "output_type": "display_data"
    },
    {
     "data": {
      "image/png": "[encoded data removed]",
      "text/plain": [
       "<Figure size 432x288 with 1 Axes>"
      ]
     },
     "metadata": {
      "needs_background": "light"
     },
     "output_type": "display_data"
    }
   ],
   "source": [
    "import matplotlib.pyplot as plt\n",
    "%matplotlib inline\n",
    "\n",
    "plt.title(\"Word count\")\n",
    "plt.hist(n_highlights_words, range=(0,500))\n",
    "plt.show()\n",
    "plt.title(\"Sentence count\")\n",
    "plt.hist(n_article_sent)\n",
    "plt.show()\n",
    "plt.title(\"Sentence Word count\")\n",
    "plt.hist(n_article_sent_words, range=(0,500))\n",
    "plt.show()"
   ]
  },
  {
   "cell_type": "markdown",
   "metadata": {},
   "source": [
    "## Params Dataset"
   ]
  },
  {
   "cell_type": "code",
   "execution_count": 18,
   "metadata": {},
   "outputs": [],
   "source": [
    "MAX_SENT_N = 30\n",
    "MAX_WORD_N = 125\n",
    "MAX_WORD_SENT_N = 300"
   ]
  },
  {
   "cell_type": "markdown",
   "metadata": {},
   "source": [
    "# Model \n",
    "1. Use the flair Embedding to get the Context Matrix and then user your one decoder\n",
    "2. then try to get the vocab input for addidtional information and better results\n",
    "\n",
    "\n",
    "![Model](img/TextSummaryModel.png)"
   ]
  },
  {
   "cell_type": "markdown",
   "metadata": {},
   "source": [
    "## Compute pytorch Dataset with flair\n",
    "- for faster training, we will clean the data, compute the Albert-Base Embedding of all articles and save it to Files, so that we don't have to do it while training"
   ]
  },
  {
   "cell_type": "code",
   "execution_count": 11,
   "metadata": {},
   "outputs": [],
   "source": [
    "albert = BertEmbeddings(bert_model_or_path=\"albert-base-v2\")\n",
    "\n",
    "albert_embedding = DocumentPoolEmbeddings([albert])"
   ]
  },
  {
   "cell_type": "code",
   "execution_count": 12,
   "metadata": {},
   "outputs": [
    {
     "name": "stdout",
     "output_type": "stream",
     "text": [
      "torch.Size([3072])\n",
      "tensor([-0.6863, -0.5820,  1.0685,  ...,  0.7118,  0.6721,  0.5402],\n",
      "       device='cuda:0', grad_fn=<CatBackward>)\n"
     ]
    }
   ],
   "source": [
    "sent = Sentence(\"Berlin and Munich are nice cities .\")\n",
    "albert_embedding.embed(sent)\n",
    "\n",
    "embedd_result = sent.get_embedding()\n",
    "print(embedd_result.shape)\n",
    "print(embedd_result)"
   ]
  },
  {
   "cell_type": "code",
   "execution_count": 13,
   "metadata": {},
   "outputs": [
    {
     "data": {
      "text/plain": [
       "\"ever noticed how plane seats appear to be getting smaller and smaller? with increasing numbers of people taking to the skies, some experts are questioning if having such packed out planes is putting passengers at risk. they say that the shrinking space on aeroplanes is not only uncomfortable - its putting our health and safety in danger. more than squabbling over the arm rest, shrinking space on planes putting our health and safety in danger? this week, a u.s consumer advisory group set up by the department of transportation said at a public hearing that while the government is happy to set standards for animals flying on planes, it doesn't stipulate a minimum amount of space for humans. 'in a world where animals have more rights to space and food than humans,' said charlie leocha, consumer representative on the committee.\\xa0'it is time that the dot and faa take a stand for humane treatment of passengers.' but could crowding on planes lead to more serious issues than fighting for space in the overhead lockers, crashing elbows and seat back kicking? tests conducted by the faa use planes with a 31 inch pitch, a standard which on some airlines has decreased . many economy seats on united airlines have 30 inches of room, while some airlines offer as little as 28 inches . cynthia corbertt, a human factors researcher with the federal aviation administration, that it conducts tests on how quickly passengers can leave a plane. but these tests are conducted using planes with 31 inches between each row of seats, a standard which on some airlines has decreased, reported the detroit news. the distance between two seats from one point on a seat to the same point on the seat behind it is known as the pitch. while most airlines stick to a pitch of 31 inches or above, some fall below this. while united airlines has 30 inches of space, gulf air economy seats have between 29 and 32 inches, air asia offers 29 inches and spirit airlines offers just 28 inches. british airways has a seat pitch of 31 inches, while easyjet has 29 inches, thomson's short haul seat pitch is 28 inches, and virgin atlantics is 30-31.\""
      ]
     },
     "execution_count": 13,
     "metadata": {},
     "output_type": "execute_result"
    }
   ],
   "source": [
    "test_df.articles[0]"
   ]
  },
  {
   "cell_type": "code",
   "execution_count": 14,
   "metadata": {},
   "outputs": [
    {
     "data": {
      "text/plain": [
       "array([[-0.29389992, -0.61128634,  0.81932145, ...,  0.24466176,\n",
       "         0.49967241,  0.05831024],\n",
       "       [-0.32905218, -0.78435558,  0.76937222, ...,  0.01339742,\n",
       "         0.41064164,  0.31893224],\n",
       "       [-0.27227682, -0.1669098 ,  0.35558695, ...,  0.15596575,\n",
       "         0.48800981,  0.51321387],\n",
       "       ...,\n",
       "       [ 0.        ,  0.        ,  0.        , ...,  0.        ,\n",
       "         0.        ,  0.        ],\n",
       "       [ 0.        ,  0.        ,  0.        , ...,  0.        ,\n",
       "         0.        ,  0.        ],\n",
       "       [ 0.        ,  0.        ,  0.        , ...,  0.        ,\n",
       "         0.        ,  0.        ]])"
      ]
     },
     "execution_count": 14,
     "metadata": {},
     "output_type": "execute_result"
    }
   ],
   "source": [
    "def embed_sentences(sentences):\n",
    "    arr_embedding = np.zeros((MAX_SENT_N, 3072))\n",
    "    for i, sentence in enumerate(sentences):\n",
    "        if len(sentence) > 0 and i < MAX_SENT_N:\n",
    "            sent = Sentence(sentence[:MAX_WORD_SENT_N])\n",
    "\n",
    "            albert_embedding.embed(sent)\n",
    "            x = sent.get_embedding()\n",
    "            x = x.to('cpu').detach().numpy()\n",
    "            arr_embedding[i] = x\n",
    "    \n",
    "    return arr_embedding\n",
    "\n",
    "embed_sentences(split_in_sentences(test_df.articles[0]))"
   ]
  },
  {
   "cell_type": "code",
   "execution_count": null,
   "metadata": {},
   "outputs": [],
   "source": [
    "def transform_to_numpy(ds):\n",
    "    ds_numpy = pd.DataFrame(columns=[\"article\", \"n_highlights\", \"highlights\"])\n",
    "    for i, (article, highlight) in ds.iterrows():\n",
    "        article_sent = split_in_sentences(article)\n",
    "        embedded_sent = embed_sentences(article_sent)\n",
    "        highlight_ids = np.array(get_ids_from_vocab(highlight)).reshape(-1,1)\n",
    "        n_highlight = highlight_ids.shape[0] \n",
    "\n",
    "        ds_numpy = ds_numpy.append({\"article\":embedded_sent, \"n_highlights\": n_highlight, \"highlights\": highlight_ids},\\\n",
    "                                   ignore_index=True)\n",
    "\n",
    "    return ds_numpy\n",
    "\n",
    "test_np = transform_to_numpy(test_df)"
   ]
  },
  {
   "cell_type": "code",
   "execution_count": null,
   "metadata": {},
   "outputs": [],
   "source": [
    "save_to_csv(test_np, \"test_np\")"
   ]
  },
  {
   "cell_type": "code",
   "execution_count": null,
   "metadata": {},
   "outputs": [],
   "source": [
    "val_np = transform_to_numpy(val_df)\n",
    "save_to_csv(val_np, \"val_np\")"
   ]
  },
  {
   "cell_type": "code",
   "execution_count": null,
   "metadata": {},
   "outputs": [],
   "source": [
    "# load csv\n",
    "train_np = load_csv(\"val_np\")\n",
    "test_np = load_csv(\"test_np\")"
   ]
  },
  {
   "cell_type": "markdown",
   "metadata": {},
   "source": [
    "### Define Pytorch Dataset and Dataloader"
   ]
  },
  {
   "cell_type": "code",
   "execution_count": null,
   "metadata": {},
   "outputs": [],
   "source": [
    "class MyDataset(torch.utils.data.Dataset):\n",
    "    def __init__(self, ds, transform=None):\n",
    "        self.x = torch.from_numpy(ds.article)\n",
    "        self.y_n = torch.from_numpy(ds.n_highlights)\n",
    "        self.y = torch.from_numpy(ds.highlights)\n",
    "        \n",
    "    def __getitem__(self, index):\n",
    "        x = self.x[index]\n",
    "        y_n = self.y_n[index]\n",
    "        y = self.y[index]\n",
    "            \n",
    "        return x, y_n, y\n",
    "\n",
    "    def __len__(self):\n",
    "        return len(self.x)"
   ]
  },
  {
   "cell_type": "code",
   "execution_count": null,
   "metadata": {},
   "outputs": [],
   "source": [
    "train_ds = MyDataset(train_np)\n",
    "test_ds = MyDataset(test_np)"
   ]
  },
  {
   "cell_type": "code",
   "execution_count": null,
   "metadata": {},
   "outputs": [],
   "source": [
    "BATCHSIZE = 20\n",
    "trainloader = torch.utils.data.DataLoader(train_ds, batch_size=BATCHSIZE)\n",
    "testloader = torch.utils.data.DataLoader(test_ds, batch_size=BATCHSIZE)"
   ]
  },
  {
   "cell_type": "code",
   "execution_count": null,
   "metadata": {},
   "outputs": [],
   "source": []
  },
  {
   "cell_type": "code",
   "execution_count": null,
   "metadata": {},
   "outputs": [],
   "source": []
  },
  {
   "cell_type": "code",
   "execution_count": null,
   "metadata": {},
   "outputs": [],
   "source": []
  },
  {
   "cell_type": "markdown",
   "metadata": {},
   "source": [
    "## Define Decoder"
   ]
  },
  {
   "cell_type": "markdown",
   "metadata": {},
   "source": [
    "# Train"
   ]
  },
  {
   "cell_type": "code",
   "execution_count": null,
   "metadata": {},
   "outputs": [],
   "source": []
  },
  {
   "cell_type": "code",
   "execution_count": null,
   "metadata": {},
   "outputs": [],
   "source": []
  }
 ],
 "metadata": {
  "kernelspec": {
   "display_name": "myenv",
   "language": "python",
   "name": "myenv"
  },
  "language_info": {
   "codemirror_mode": {
    "name": "ipython",
    "version": 3
   },
   "file_extension": ".py",
   "mimetype": "text/x-python",
   "name": "python",
   "nbconvert_exporter": "python",
   "pygments_lexer": "ipython3",
   "version": "3.7.5"
  }
 },
 "nbformat": 4,
 "nbformat_minor": 2
}
