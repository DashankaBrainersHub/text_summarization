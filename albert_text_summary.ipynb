{
 "cells": [
  {
   "cell_type": "code",
   "execution_count": 1,
   "metadata": {},
   "outputs": [],
   "source": [
    "import os\n",
    "import math\n",
    "import time\n",
    "\n",
    "import numpy as np\n",
    "import pandas as pd\n",
    "\n",
    "import torch\n",
    "import torch.nn as nn\n",
    "import torch.nn.functional as F\n",
    "\n",
    "import tensorflow_datasets as tfds\n",
    "import tensorflow as tf\n",
    "\n",
    "from flair.data import Sentence\n",
    "from flair.embeddings import BertEmbeddings, DocumentPoolEmbeddings"
   ]
  },
  {
   "cell_type": "code",
   "execution_count": 6,
   "metadata": {},
   "outputs": [
    {
     "data": {
      "text/plain": [
       "(0, 'GeForce RTX 2080 Ti')"
      ]
     },
     "execution_count": 6,
     "metadata": {},
     "output_type": "execute_result"
    }
   ],
   "source": [
    "torch.cuda.current_device(), torch.cuda.get_device_name(device=None)"
   ]
  },
  {
   "cell_type": "markdown",
   "metadata": {
    "pycharm": {
     "name": "#%% md\n"
    }
   },
   "source": [
    "## Params"
   ]
  },
  {
   "cell_type": "code",
   "execution_count": 7,
   "metadata": {
    "pycharm": {
     "name": "#%%\n"
    }
   },
   "outputs": [],
   "source": [
    "MAX_SENT_N = 30\n",
    "\n",
    "MAX_WORD_N = 150\n",
    "\n",
    "MAX_WORD_SENT_N = 300\n",
    "\n",
    "BATCHSIZE = 20\n",
    "\n",
    "device = torch.device(\"cuda:0\" if torch.cuda.is_available() else \"cpu\")"
   ]
  },
  {
   "cell_type": "markdown",
   "metadata": {},
   "source": [
    "# Dataset"
   ]
  },
  {
   "cell_type": "markdown",
   "metadata": {
    "pycharm": {
     "name": "#%% md\n"
    }
   },
   "source": [
    "## Tensorflow Dataset to numpy Dataset"
   ]
  },
  {
   "cell_type": "code",
   "execution_count": 3,
   "metadata": {},
   "outputs": [],
   "source": [
    "from segtok.segmenter import split_single\n",
    "def split_in_sentences(text):\n",
    "    return split_single(text)"
   ]
  },
  {
   "cell_type": "code",
   "execution_count": 4,
   "metadata": {},
   "outputs": [
    {
     "name": "stderr",
     "output_type": "stream",
     "text": [
      "INFO:absl:No config specified, defaulting to first: cnn_dailymail/plain_text\n",
      "INFO:absl:Overwrite dataset info from restored data version.\n",
      "INFO:absl:Reusing dataset cnn_dailymail (/home/yannik/tensorflow_datasets/cnn_dailymail/plain_text/3.0.0)\n",
      "INFO:absl:Constructing tf.data.Dataset for split None, from /home/yannik/tensorflow_datasets/cnn_dailymail/plain_text/3.0.0\n"
     ]
    }
   ],
   "source": [
    "cnn_dailymail = tfds.load(name=\"cnn_dailymail\")"
   ]
  },
  {
   "cell_type": "code",
   "execution_count": 3,
   "metadata": {},
   "outputs": [],
   "source": [
    "train_tfds = cnn_dailymail['train']\n",
    "test_tfds = cnn_dailymail['test']\n",
    "val_tfds = cnn_dailymail['validation']"
   ]
  },
  {
   "cell_type": "code",
   "execution_count": 5,
   "metadata": {},
   "outputs": [],
   "source": [
    "def normalize_text(text):\n",
    "    \"\"\"Lowercase and remove quotes from a TensorFlow string.\"\"\"\n",
    "    text = tf.strings.lower(text)\n",
    "    text = tf.strings.regex_replace(text,\"'(.*)'\", r\"\\1\")\n",
    "    return text\n",
    "\n",
    "\n",
    "def map_func(features):\n",
    "    article_text = normalize_text(features[\"article\"])\n",
    "    highlights_text = normalize_text(features['highlights'])\n",
    "    \n",
    "    return article_text.numpy().decode('UTF-8'), highlights_text.numpy().decode('UTF-8')"
   ]
  },
  {
   "cell_type": "code",
   "execution_count": 3,
   "metadata": {},
   "outputs": [],
   "source": [
    "def tfds_to_numpy(ds):\n",
    "    new_ds = pd.DataFrame(columns=[\"articles\", \"highlights\"])\n",
    "    for i, item in enumerate(ds):\n",
    "        article, higlights = map_func(item)\n",
    "        new_ds = new_ds.append({\"articles\": article, \"highlights\": higlights}, ignore_index =True)\n",
    "    return new_ds\n",
    "\n"
   ]
  },
  {
   "cell_type": "code",
   "execution_count": 3,
   "metadata": {},
   "outputs": [],
   "source": [
    "def save_to_csv(ds, name):\n",
    "    ds.to_csv(str(\"data/\" + name + \".tsv\"), sep=\"\\t\", index=False)\n",
    "    \n",
    "def load_csv(name):\n",
    "    return pd.read_csv(str(\"data/\" + name + \".tsv\"), sep=\"\\t\")\n",
    "\n",
    "def create_new_csv():\n",
    "    test_df = tfds_to_numpy(test_tfds)\n",
    "    val_df = tfds_to_numpy(val_tfds)\n",
    "    train_df = tfds_to_numpy(train_tfds)\n",
    "    \n",
    "    save_to_csv(test_df, \"test\")\n",
    "    save_to_csv(train_np_ds, \"train\")\n",
    "    save_to_csv(val_df, \"val\")\n",
    "    return train_df, val_df, test_df\n",
    "\n",
    "def load_data():\n",
    "    train_df = load_csv(\"train\")\n",
    "    test_df = load_csv(\"test\")\n",
    "    val_df = load_csv(\"val\")\n",
    "    return train_df, val_df, test_df\n"
   ]
  },
  {
   "cell_type": "code",
   "execution_count": 12,
   "metadata": {
    "pycharm": {
     "name": "#%%\n"
    }
   },
   "outputs": [],
   "source": [
    "train_df, val_df, test_df = load_data()"
   ]
  },
  {
   "cell_type": "markdown",
   "metadata": {
    "pycharm": {
     "name": "#%% md\n"
    }
   },
   "source": [
    "## Sentence Piece\n",
    "- https://github.com/google/sentencepiece\n",
    "- use a Vocab size like Albert and BERT (30000) "
   ]
  },
  {
   "cell_type": "code",
   "execution_count": 3,
   "metadata": {},
   "outputs": [],
   "source": [
    "import sentencepiece as spm\n",
    "\n",
    "# train Sentence Piece with train.tsv\n",
    "spm_model_name = \"models/spm_train.model\"\n",
    "spm_train_file_name = \"data/train.tsv\"\n",
    "\n",
    "if not os.path.exists(spm_model_name):\n",
    "    spm.SentencePieceTrainer.Train(\n",
    "            '--input=' + os.path.join(spm_train_file_name) +\n",
    "            ' --model_prefix='+ os.path.join(spm_model_name) +\n",
    "            ' --vocab_size=30000')"
   ]
  },
  {
   "cell_type": "code",
   "execution_count": 4,
   "metadata": {},
   "outputs": [
    {
     "name": "stdout",
     "output_type": "stream",
     "text": [
      "vocab len: 30000 \n",
      "Top 15: vocabs: ['<unk>', '<s>', '</s>', '▁the', ',', '.', '▁to', '▁a', 's', '▁of', '▁and', '▁in', '▁.', \"'\", '▁was']\n"
     ]
    }
   ],
   "source": [
    "sp_model = spm.SentencePieceProcessor()\n",
    "sp_model.Load(spm_model_name)\n",
    "vocab = {sp_model.IdToPiece(i): i for i in range(sp_model.GetPieceSize())}\n",
    "vocab_list = list(vocab.keys())\n",
    "print(\"vocab len:\", len(vocab), \"\\nTop 15: vocabs:\", vocab_list[:15])"
   ]
  },
  {
   "cell_type": "code",
   "execution_count": 5,
   "metadata": {
    "pycharm": {
     "name": "#%%\n"
    }
   },
   "outputs": [
    {
     "name": "stdout",
     "output_type": "stream",
     "text": [
      "[1429, 292, 4, 47, 13, 108, 851, 5, 52, 18, 195, 5435, 5, 2]\n",
      " hallo, i'm leaving. this is another sentences.</s>\n"
     ]
    }
   ],
   "source": [
    "eos_token = sp_model.eos_id() \n",
    "bos_token = sp_model.bos_id()\n",
    "def get_real_text_from_ids(tokens):\n",
    "    text = \"\"\n",
    "    for token in tokens:\n",
    "        word = vocab_list[token]\n",
    "        text += word.replace(\"▁\", \" \")\n",
    "    return text\n",
    "\n",
    "def get_ids_from_vocab(text):\n",
    "    ids = sp_model.encode_as_ids(text)\n",
    "    return ids + [eos_token]\n",
    "\n",
    "test = \"hallo, i'm leaving. this is another sentences.\"\n",
    "tokens = get_ids_from_vocab(test)\n",
    "print(tokens)\n",
    "print(get_real_text_from_ids(tokens))"
   ]
  },
  {
   "cell_type": "markdown",
   "metadata": {
    "pycharm": {
     "name": "#%% md\n"
    }
   },
   "source": [
    "## Analyse Dataset"
   ]
  },
  {
   "cell_type": "code",
   "execution_count": 7,
   "metadata": {},
   "outputs": [],
   "source": [
    "n_article_sent = []\n",
    "n_article_sent_words = []\n",
    "n_highlights_words = []\n",
    "\n",
    "for i, (article, highlight) in test_df.iterrows():\n",
    "    split_sentences = split_in_sentences(article)\n",
    "    n_article_sent.append(len(split_sentences))\n",
    "    for sent in split_sentences:\n",
    "        n_article_sent_words.append(len(sent))\n",
    "    n_highlights_words.append(len(get_ids_from_vocab(highlight)))"
   ]
  },
  {
   "cell_type": "code",
   "execution_count": 8,
   "metadata": {},
   "outputs": [
    {
     "name": "stdout",
     "output_type": "stream",
     "text": [
      "--- article sentence ---\n",
      "mean: 26\tmedian: 23 min/max: [1/106]\n",
      "--- article sentence words ---\n",
      "mean: 151\tmedian: 129 min/max: [0/10915]\n",
      "--- higlights words ---\n",
      "mean: 63\tmedian: 59 min/max: [11/784]\n"
     ]
    }
   ],
   "source": [
    "def print_mean(name, list_len):\n",
    "    print(\"---\", name, \"---\")\n",
    "    print(\"mean: %d\\tmedian: %d min/max: [%d/%d]\"%(np.mean(list_len), np.median(list_len),\\\n",
    "                                                   np.min(list_len), np.max(list_len)))\n",
    "    \n",
    "print_mean(\"article sentence\",n_article_sent)\n",
    "print_mean(\"article sentence words\",n_article_sent_words)\n",
    "print_mean(\"higlights words\", n_highlights_words)"
   ]
  },
  {
   "cell_type": "code",
   "execution_count": 17,
   "metadata": {
    "pycharm": {
     "name": "#%%\n"
    }
   },
   "outputs": [
    {
     "data": {
      "image/png": "[encoded data removed]",
      "text/plain": [
       "<Figure size 432x288 with 1 Axes>"
      ]
     },
     "metadata": {
      "needs_background": "light"
     },
     "output_type": "display_data"
    },
    {
     "data": {
      "image/png": "[encoded data removed]",
      "text/plain": [
       "<Figure size 432x288 with 1 Axes>"
      ]
     },
     "metadata": {
      "needs_background": "light"
     },
     "output_type": "display_data"
    },
    {
     "data": {
      "image/png": "[encoded data removed]",
      "text/plain": [
       "<Figure size 432x288 with 1 Axes>"
      ]
     },
     "metadata": {
      "needs_background": "light"
     },
     "output_type": "display_data"
    }
   ],
   "source": [
    "import matplotlib.pyplot as plt\n",
    "%matplotlib inline\n",
    "\n",
    "plt.title(\"Word count\")\n",
    "plt.hist(n_highlights_words, range=(0,500))\n",
    "plt.show()\n",
    "plt.title(\"Sentence count\")\n",
    "plt.hist(n_article_sent)\n",
    "plt.show()\n",
    "plt.title(\"Sentence Word count\")\n",
    "plt.hist(n_article_sent_words, range=(0,500))\n",
    "plt.show()"
   ]
  },
  {
   "cell_type": "markdown",
   "metadata": {},
   "source": [
    "## Params Dataset"
   ]
  },
  {
   "cell_type": "markdown",
   "metadata": {},
   "source": [
    "# Model \n",
    "1. Use the flair Embedding to get the Context Matrix and then user your one decoder\n",
    "2. then try to get the vocab input for addidtional information and better results\n",
    "\n",
    "![Model](img/TextSummaryModel.png)\n",
    "\n",
    "## Attention\n",
    "\n",
    "$$ Attention(Q,K,V) = softmax(\\frac{Q*K^{T}}{\\sqrt{d_k}} ) * V  $$\n",
    " \n",
    "Query $Q$ and Key $K$ represent the input, the dot product of them shows which key words the query word should focus on. The softmax gives them probabilistic values which define which words from the Value Matrix $V$ are relevant.\n",
    "   "
   ]
  },
  {
   "cell_type": "markdown",
   "metadata": {
    "pycharm": {
     "name": "#%% md\n"
    }
   },
   "source": [
    "## Compute pytorch Dataset with flair\n",
    "- for faster training, we will clean the data, compute the Albert-Base Embedding of all articles and save it to Files, so that we don't have to do it while training"
   ]
  },
  {
   "cell_type": "code",
   "execution_count": 7,
   "metadata": {},
   "outputs": [],
   "source": [
    "albert = BertEmbeddings(bert_model_or_path=\"albert-base-v2\")\n",
    "\n",
    "albert_embedding = DocumentPoolEmbeddings([albert])"
   ]
  },
  {
   "cell_type": "code",
   "execution_count": 8,
   "metadata": {},
   "outputs": [
    {
     "name": "stdout",
     "output_type": "stream",
     "text": [
      "torch.Size([3072])\n",
      "tensor([-0.6863, -0.5820,  1.0685,  ...,  0.7118,  0.6721,  0.5402],\n",
      "       device='cuda:0', grad_fn=<CatBackward>)\n"
     ]
    }
   ],
   "source": [
    "sent = Sentence(\"Berlin and Munich are nice cities .\")\n",
    "albert_embedding.embed(sent)\n",
    "\n",
    "embedd_result = sent.get_embedding()\n",
    "print(embedd_result.shape)\n",
    "print(embedd_result)"
   ]
  },
  {
   "cell_type": "code",
   "execution_count": 13,
   "metadata": {
    "pycharm": {
     "name": "#%%\n"
    }
   },
   "outputs": [
    {
     "data": {
      "text/plain": [
       "\"ever noticed how plane seats appear to be getting smaller and smaller? with increasing numbers of people taking to the skies, some experts are questioning if having such packed out planes is putting passengers at risk. they say that the shrinking space on aeroplanes is not only uncomfortable - its putting our health and safety in danger. more than squabbling over the arm rest, shrinking space on planes putting our health and safety in danger? this week, a u.s consumer advisory group set up by the department of transportation said at a public hearing that while the government is happy to set standards for animals flying on planes, it doesn't stipulate a minimum amount of space for humans. 'in a world where animals have more rights to space and food than humans,' said charlie leocha, consumer representative on the committee.\\xa0'it is time that the dot and faa take a stand for humane treatment of passengers.' but could crowding on planes lead to more serious issues than fighting for space in the overhead lockers, crashing elbows and seat back kicking? tests conducted by the faa use planes with a 31 inch pitch, a standard which on some airlines has decreased . many economy seats on united airlines have 30 inches of room, while some airlines offer as little as 28 inches . cynthia corbertt, a human factors researcher with the federal aviation administration, that it conducts tests on how quickly passengers can leave a plane. but these tests are conducted using planes with 31 inches between each row of seats, a standard which on some airlines has decreased, reported the detroit news. the distance between two seats from one point on a seat to the same point on the seat behind it is known as the pitch. while most airlines stick to a pitch of 31 inches or above, some fall below this. while united airlines has 30 inches of space, gulf air economy seats have between 29 and 32 inches, air asia offers 29 inches and spirit airlines offers just 28 inches. british airways has a seat pitch of 31 inches, while easyjet has 29 inches, thomson's short haul seat pitch is 28 inches, and virgin atlantics is 30-31.\""
      ]
     },
     "execution_count": 13,
     "metadata": {},
     "output_type": "execute_result"
    }
   ],
   "source": [
    "test_df.articles[0]"
   ]
  },
  {
   "cell_type": "markdown",
   "metadata": {
    "pycharm": {
     "name": "#%% md\n"
    }
   },
   "source": [
    "#### Error with pandas writing np.array to csv\n",
    "[-2.46214211e-01 -3.16317886e-01  8.51760387e-01 ... -3.47209573e-02\n",
    "   4.56400543e-01 -9.96351242e-04]\n",
    "  \n",
    "\n",
    "- We need to disable the numpy option to cut (summarize) the array. We have a (30,3072) array so we just set the threshold higher than that."
   ]
  },
  {
   "cell_type": "code",
   "execution_count": 14,
   "metadata": {},
   "outputs": [],
   "source": [
    "np.set_printoptions(threshold=np.inf)"
   ]
  },
  {
   "cell_type": "code",
   "execution_count": 15,
   "metadata": {},
   "outputs": [
    {
     "data": {
      "text/plain": [
       "array([-2.46214211e-01, -3.16317886e-01,  8.51760387e-01, -2.93171015e-02,\n",
       "        5.78818977e-01, -3.80471021e-01,  3.12003791e-02, -3.77522111e-01,\n",
       "        5.39302051e-01,  8.84509861e-01,  3.32353301e-02, -2.74741799e-01,\n",
       "       -2.54008502e-01, -2.98147742e-03,  3.23375106e-01, -3.57275933e-01,\n",
       "        1.04109079e-01, -5.15647531e-01,  3.60354334e-01, -5.80869377e-01,\n",
       "       -4.20482069e-01,  3.63524258e-01, -1.82922602e-01,  4.86208171e-01,\n",
       "        2.26162538e-01, -7.90269852e-01, -1.87414542e-01, -2.91367203e-01,\n",
       "        1.84498042e-01,  2.94901311e-01, -6.27313077e-01,  9.57504287e-03,\n",
       "       -1.10631859e+00,  2.27907583e-01, -9.94201851e+00, -3.00383233e-02,\n",
       "        1.94614053e-01,  9.88482773e-01,  7.98843443e-01, -3.48279506e-01,\n",
       "       -4.10172567e-02, -3.61480832e-01,  5.89700818e-01, -3.61467212e-01,\n",
       "       -1.65746331e-01, -3.50877374e-01, -1.75636828e-01, -5.61444350e-02,\n",
       "        6.23916447e-01,  5.15762329e-01,  4.36273694e-01,  3.59326214e-01,\n",
       "        9.76894200e-02,  7.09533393e-02,  6.38564050e-01,  5.32493889e-01,\n",
       "       -6.79244161e-01,  4.15152699e-01, -2.92987168e-01,  4.38861728e-01,\n",
       "       -1.89178854e-01, -4.17376161e-01,  3.99572909e-01, -1.16318375e-01,\n",
       "       -5.10508835e-01, -5.62325060e-01,  5.18246114e-01, -3.12527030e-04,\n",
       "       -9.19740975e-01,  1.71273008e-01, -5.10577083e-01, -6.66154474e-02,\n",
       "        3.32282990e-01, -1.63341209e-01,  4.09374624e-01, -3.48184630e-02,\n",
       "        4.53304827e-01, -7.77914464e-01,  8.74969140e-02, -6.21492267e-01,\n",
       "       -2.71254122e-01, -1.04600847e+00, -1.00453950e-01,  3.41804087e-01,\n",
       "        2.07941830e-01,  2.56880432e-01,  3.03749442e-01, -2.17291489e-01,\n",
       "       -7.92938769e-01, -6.08740926e-01,  4.32487011e-01, -1.77681997e-01,\n",
       "       -2.22072437e-01,  2.82781541e-01,  3.22135180e-01,  1.83535904e-01,\n",
       "        1.12414278e-01,  5.24869084e-01, -4.03246790e-01, -1.93564609e-01,\n",
       "        4.98583943e-01, -1.77803338e-01, -2.98659861e-01,  3.54375452e-01,\n",
       "       -2.38688052e-01, -7.22156584e-01,  6.35590672e-01, -2.84869879e-01,\n",
       "        3.62058789e-01,  6.89061940e-01,  1.72295022e+00,  3.14789385e-01,\n",
       "        5.82741737e-01, -2.85530061e-01, -4.10630971e-01,  7.67024457e-01,\n",
       "        7.37713277e-01, -2.21261904e-01,  4.77749467e-01,  4.05322015e-01,\n",
       "        4.50555265e-01,  1.22858912e-01,  9.17134583e-01,  2.19543055e-02,\n",
       "       -1.69564471e-01, -2.05305532e-01,  8.62006396e-02,  2.52330780e-01,\n",
       "        1.12573731e+00, -1.21776685e-01, -4.89046164e-02, -3.99440080e-01,\n",
       "       -1.38247681e+00, -1.17746902e+00, -6.21453166e-01, -2.78116494e-01,\n",
       "        5.28695881e-01,  1.73699722e-01, -2.73707509e-01, -1.21750511e-01,\n",
       "        3.70029300e-01, -2.56146759e-01, -5.85704148e-01,  1.45564973e+00,\n",
       "        2.54463941e-01, -9.92941037e-02, -7.55248964e-01, -9.91509259e-01,\n",
       "       -1.70241557e-02,  7.16301739e-01,  3.95637184e-01,  5.53198159e-01,\n",
       "       -2.44189605e-01, -4.17286545e-01,  4.71755564e-01, -4.60639745e-01,\n",
       "        8.83224979e-03, -1.31208554e-01,  6.89525485e-01,  3.66290957e-01,\n",
       "       -1.69491157e-01,  6.08230531e-01,  5.63204698e-02,  7.80940577e-02,\n",
       "        2.65667826e-01,  1.53996676e-01,  2.82642037e-01,  6.38541996e-01,\n",
       "       -1.94810376e-01, -2.28929549e-01,  1.12002158e+00, -8.58226195e-02,\n",
       "        2.37710886e-02, -7.06921697e-01, -3.65250021e-01,  4.69839156e-01,\n",
       "        1.77056417e-01, -5.36771655e-01, -1.52842477e-01, -5.28153479e-01,\n",
       "        1.04069948e-01, -2.13009626e-01, -3.16044867e-01, -4.82235141e-02,\n",
       "       -6.36446059e-01,  6.50925279e-01,  6.81623340e-01,  4.08688635e-01,\n",
       "       -1.41434833e-01, -1.18472493e+00,  8.65550816e-01, -2.93893248e-01,\n",
       "        1.67453885e-02,  2.53668964e-01, -4.75580126e-01, -1.11666572e+00,\n",
       "        2.21034121e-02,  7.40872473e-02, -4.80505258e-01,  2.06612572e-01,\n",
       "        7.21322238e-01,  7.20293581e-01,  3.31835538e-01, -5.11410415e-01,\n",
       "        5.29832900e-01,  8.55291009e-01,  3.40400815e-01,  3.38561177e-01,\n",
       "       -6.62547350e-01,  8.91621828e-01,  4.35275823e-01, -3.52126621e-02,\n",
       "       -4.62146670e-01, -8.55079174e-01,  7.85935223e-01, -2.56666273e-01,\n",
       "        7.30681866e-02,  1.41608924e-01,  1.39336240e+00, -7.09478080e-01,\n",
       "        4.60159034e-01, -1.31151736e-01,  2.46212587e-01,  1.30288854e-01,\n",
       "       -7.28768930e-02, -1.82528451e-01,  2.85838753e-01,  2.80147463e-01,\n",
       "        6.39635205e-01, -6.82350039e-01,  8.51215497e-02, -2.22944945e-01,\n",
       "        6.53049052e-01, -6.12569630e-01, -1.23365469e-01, -1.57138079e-01,\n",
       "       -7.11912811e-01, -4.77257185e-02, -2.51260698e-01, -9.67931449e-01,\n",
       "        1.39013797e-01, -4.06231791e-01, -7.20547497e-01, -9.43892598e-01,\n",
       "       -3.57826591e-01, -1.40123332e+00, -6.85351670e-01, -5.87848663e-01,\n",
       "        8.40734303e-01, -7.12298691e-01,  3.72801945e-02, -2.24673197e-01,\n",
       "       -3.48249674e-01,  3.43457073e-01, -8.35115761e-02, -2.39204377e-01,\n",
       "       -6.88723147e-01,  3.19448531e-01, -1.91001385e-01, -2.29326829e-01,\n",
       "       -5.17961800e-01,  3.21960300e-01, -6.76030934e-01,  7.86674395e-02,\n",
       "        4.53652302e-03, -1.93537250e-02, -6.16479933e-01,  6.43463805e-02,\n",
       "       -1.12327203e-01, -3.92409474e-01,  1.01292872e+00, -3.52620125e-01,\n",
       "        6.18767142e-01, -4.22964513e-01,  7.31491745e-01,  5.66153347e-01,\n",
       "        8.23731482e-01, -5.35552800e-01,  3.74785870e-01, -4.60325837e-01,\n",
       "       -2.56199956e-01, -1.96951210e-01, -6.26259923e-01, -5.35546422e-01,\n",
       "       -7.10061550e-01,  2.99665242e-01,  4.30198610e-01, -1.77622676e-01,\n",
       "       -1.54733911e-01,  1.01779491e-01,  1.00354105e-01,  4.76221601e-03,\n",
       "       -1.81756258e-01, -4.24021453e-01,  7.27300793e-02,  5.48956752e-01,\n",
       "        5.83759367e-01,  2.20114022e-01, -7.17231870e-01,  7.23770082e-01,\n",
       "       -5.14374115e-02,  1.37562618e-01,  3.93087536e-01,  6.86327973e-03,\n",
       "       -7.70301521e-02,  1.85270309e-01, -3.35824519e-01, -1.50769711e-01,\n",
       "       -9.30568397e-01, -2.82588750e-01,  3.45679998e-01, -1.17038786e+00,\n",
       "        9.64800537e-01,  3.23664322e-02,  8.10670197e-01,  5.84722042e-01,\n",
       "       -3.46882820e-01, -9.78295147e-01, -4.36219811e-01, -5.09847581e-01,\n",
       "        9.42837179e-01, -4.35086519e-01, -1.93389818e-01, -2.40384445e-01,\n",
       "       -3.91056925e-01, -4.56618845e-01, -4.66501653e-01,  1.25832185e-01,\n",
       "        8.04250091e-02,  1.63351774e-01, -6.44890845e-01, -8.27079713e-01,\n",
       "       -3.48142147e-01,  3.18040252e-01, -2.25819662e-01,  8.71788442e-01,\n",
       "       -6.33762419e-01, -6.07205510e-01,  5.31560361e-01,  1.00706063e-01,\n",
       "        5.77365696e-01, -3.20075274e-01,  1.76570475e+00,  1.07489623e-01,\n",
       "       -8.85805860e-03,  9.27179977e-02, -1.52158901e-01,  5.65070033e-01,\n",
       "       -7.08606303e-01, -5.41812122e-01, -5.20123132e-02,  2.65813947e-01,\n",
       "        9.41637233e-02, -4.27950144e-01,  6.74382150e-01,  7.13673413e-01,\n",
       "        5.41268587e-02,  2.19761565e-01,  2.43714258e-01,  2.85860717e-01,\n",
       "       -2.97941148e-01, -6.31909221e-02, -2.62922794e-01, -7.85170972e-01,\n",
       "       -7.84907520e-01, -1.02233744e+00, -5.61522961e-01, -3.85836035e-01,\n",
       "        3.35176677e-01, -2.07726825e-02,  3.24018627e-01,  6.44274294e-01,\n",
       "       -2.36010984e-01, -1.24556832e-01, -4.27595228e-02, -3.31344277e-01,\n",
       "       -5.81969142e-01,  4.13632631e-01, -5.12098670e-02,  5.47237098e-01,\n",
       "        5.39542595e-03, -6.99170604e-02, -6.84019208e-01, -1.83039874e-01,\n",
       "       -9.26429987e-01, -1.87499970e-01,  2.47848064e-01,  6.38350546e-01,\n",
       "       -1.82204545e-02, -2.72284836e-01,  1.16200738e-01, -1.10526955e+00,\n",
       "        5.26074827e-01, -1.95414051e-01, -4.31380421e-01,  1.15541734e-01,\n",
       "       -8.97130743e-02,  5.78917623e-01, -3.99951845e-01, -9.25982296e-02,\n",
       "       -1.83721513e-01, -1.61327124e-01,  3.55047971e-01,  2.60454603e-02,\n",
       "       -1.25874206e-01,  1.09690821e+00, -3.20466459e-01,  4.41587031e-01,\n",
       "        5.23680389e-01, -5.70543587e-01, -8.44090760e-01, -7.30120540e-01,\n",
       "       -1.93023935e-01, -1.03820771e-01, -3.46489310e-01,  1.39229923e-01,\n",
       "        1.08694173e-02, -3.85404378e-01,  9.65109289e-01,  6.21160150e-01,\n",
       "        4.00046974e-01,  5.44685841e-01, -3.40786725e-01,  8.58310238e-02,\n",
       "       -2.71333396e-01,  1.24787398e-01,  3.95890713e-01,  4.12785739e-01,\n",
       "        2.73633003e-01, -6.77848101e-01,  4.34309483e-01,  1.09535551e+00,\n",
       "        2.51228474e-02,  1.52122512e-01,  1.33692992e+00,  1.29919261e-01,\n",
       "        4.58642215e-01,  4.40648347e-01,  5.04259586e-01,  1.51563609e+00,\n",
       "        2.99225926e-01, -2.77382612e-01, -2.48032063e-01,  2.65868992e-01,\n",
       "       -7.28664935e-01, -8.40105295e-01, -9.36826617e-02, -4.31965798e-01,\n",
       "       -1.07645281e-01,  5.73803067e-01, -4.07964349e-01,  8.58340085e-01,\n",
       "       -1.31562769e+00,  5.32238245e-01,  2.68309265e-01,  1.93252355e-01,\n",
       "       -2.53762245e-01,  6.35476708e-02,  3.04592382e-02, -9.09360349e-01,\n",
       "       -2.23735288e-01, -3.46594393e-01,  3.59647814e-03, -1.37369588e-01,\n",
       "        1.53011590e-01, -2.82021672e-01, -4.63616282e-01,  4.65759188e-01,\n",
       "        5.93458474e-01, -7.77943313e-01,  6.56853974e-01, -6.99102700e-01,\n",
       "       -2.90829659e-01,  3.22432846e-01, -1.46060511e-01,  1.57888487e-01,\n",
       "        5.92621505e-01, -9.90186557e-02, -9.64189827e-01,  1.67753428e-01,\n",
       "       -6.27886355e-01, -6.52245283e-01, -7.15588868e-01,  1.04821235e-01,\n",
       "       -1.24086648e-01, -1.52334245e-02, -3.82382870e-01, -2.80969858e-01,\n",
       "        2.69568413e-01,  1.15933485e-01, -7.67353296e-01, -1.12134792e-01,\n",
       "        1.23804860e-01,  3.40962052e-01, -4.32451040e-01, -1.16843954e-01,\n",
       "        6.28411919e-02, -8.82508099e-01,  6.49709582e-01,  2.38758087e-01,\n",
       "        6.44010127e-01,  7.62738347e-01,  1.42522410e-01, -6.33881032e-01,\n",
       "        2.00947866e-01, -1.47533476e-01, -5.24589956e-01, -1.40573069e-01,\n",
       "        1.48521185e-01, -1.19039524e+00,  1.55696338e-02,  4.75815564e-01,\n",
       "       -5.68463981e-01, -3.26464549e-02, -4.25939023e-01, -3.65900755e-01,\n",
       "       -2.42602542e-01,  2.85025865e-01, -5.03631651e-01,  3.03909212e-01,\n",
       "       -1.66752353e-01,  5.37318349e-01,  5.77942193e-01,  7.21612275e-01,\n",
       "       -4.54710811e-01,  2.15022638e-01,  2.87023913e-02,  4.79693800e-01,\n",
       "        2.02837661e-01, -5.59161425e-01, -1.05860934e-01, -5.85058667e-02,\n",
       "        3.19281459e-01, -2.00289413e-01, -1.37498096e-01, -4.12548184e-02,\n",
       "       -4.01733249e-01, -9.24353838e-01,  3.05906206e-01, -3.17835033e-01,\n",
       "        1.34622777e+00,  4.70419526e-01,  7.50116050e-01, -2.89015353e-01,\n",
       "       -8.30798149e-01,  1.66686088e-01, -9.97313857e-02,  5.93443774e-02,\n",
       "       -6.89206421e-01,  3.14452082e-01,  3.48544329e-01, -2.18461365e-01,\n",
       "       -5.30382097e-01, -7.42043495e-01, -1.84095606e-01, -5.54682538e-02,\n",
       "       -2.09970295e-01,  9.08322155e-01, -8.86284411e-01,  7.99543977e-01,\n",
       "        1.52666587e-02, -5.74521720e-01, -1.07028830e+00,  1.92533642e-01,\n",
       "        3.17833853e+00,  2.46976301e-01, -8.55416119e-01,  2.55391717e-01,\n",
       "        5.09357572e-01, -4.47102666e-01,  4.16911036e-01, -4.61200625e-01,\n",
       "       -3.21697980e-01, -1.29521236e-01,  3.02429229e-01, -6.85693860e-01,\n",
       "       -6.60065770e-01,  4.59717005e-01, -1.80530414e-01, -4.76722836e-01,\n",
       "       -6.70681715e-01, -4.94150281e-01,  6.63482174e-02, -6.78580776e-02,\n",
       "        8.07452559e-01,  4.78887081e-01,  2.64455318e-01, -7.16172278e-01,\n",
       "        1.17905676e+00, -3.44216734e-01, -6.16450846e-01, -7.32187390e-01,\n",
       "       -6.10136032e-01,  4.43013251e-01, -2.21797913e-01, -4.68093306e-01,\n",
       "        5.88827193e-01, -5.01392424e-01,  4.14431095e-02,  2.32442454e-01,\n",
       "       -2.27513984e-01, -2.31572449e-01, -5.93706608e-01, -5.62306121e-02,\n",
       "        7.75063396e-01,  2.15453893e-01, -1.79521120e+00, -1.85449556e-01,\n",
       "       -1.90377429e-01, -2.61070549e-01,  4.49472020e-04, -1.21704996e+00,\n",
       "       -7.46426463e-01,  1.45342588e-01,  5.50067604e-01, -7.66596913e-01,\n",
       "       -6.53726816e-01, -5.52641988e-01,  4.65034693e-01, -3.62554491e-01,\n",
       "       -6.72163581e-03, -3.69578868e-01,  5.66818058e-01,  3.30600888e-01,\n",
       "        4.34807867e-01, -1.47003204e-01, -4.21159813e-04, -2.50981823e-02,\n",
       "       -4.04743254e-01, -1.07035124e+00, -1.34571046e-01,  2.08485872e-01,\n",
       "        7.14543462e-01, -2.83176377e-02,  7.07559466e-01,  4.78450358e-01,\n",
       "        1.25475422e-01,  2.33526230e-01,  2.32551843e-01,  1.20476820e-02,\n",
       "       -1.09788351e-01,  3.42952520e-01,  1.92807928e-01, -4.81829017e-01,\n",
       "       -7.39027441e-01,  4.43702787e-01, -1.88933820e-01, -1.04479110e+00,\n",
       "       -8.21559951e-02, -2.08476618e-01, -2.10115269e-01, -5.28169632e-01,\n",
       "        1.33550242e-01,  4.04555708e-01, -1.99932888e-01, -4.96677786e-01,\n",
       "       -3.17041188e-01, -6.32782936e-01,  3.19495350e-01, -5.36451161e-01,\n",
       "        6.63370013e-01, -5.52296937e-01,  3.57614726e-01, -3.58689755e-01,\n",
       "       -2.50784308e-01,  2.26067845e-02, -7.14165926e-01, -4.84618515e-01,\n",
       "       -2.29039505e-01,  8.94693192e-03,  5.89096220e-03,  9.90508646e-02,\n",
       "       -3.52996022e-01, -1.93544582e-01, -1.29022952e-02,  1.38828337e+00,\n",
       "        1.00614035e+00, -3.54401648e-01, -3.55805337e-01, -1.83082655e-01,\n",
       "        7.72789195e-02, -6.84399381e-02, -2.88909107e-01, -3.28691155e-01,\n",
       "       -4.13095742e-01, -1.31957734e+00, -1.35922506e-01, -1.19875205e+00,\n",
       "       -1.86085310e-02, -6.86830953e-02, -3.97622466e-01, -5.68635128e-02,\n",
       "       -1.93468586e-01, -2.85973344e-02,  5.73034525e-01,  6.19550943e-01,\n",
       "       -2.23884895e-01,  2.51900047e-01,  2.17358917e-01,  1.09657250e-01,\n",
       "       -1.42461956e-02, -1.58456099e+00,  4.87310410e-01, -7.40677789e-02,\n",
       "        1.60564750e-01, -3.23819667e-02,  8.65614116e-02,  2.90675700e-01,\n",
       "       -5.07952929e-01, -4.05748755e-01, -1.12174308e+00, -3.37532192e-01,\n",
       "        4.77784425e-01, -4.06449378e-01, -2.36808941e-01,  2.02238426e-01,\n",
       "       -2.35515729e-01,  1.15193594e+00,  1.16650152e+01, -4.32127982e-01,\n",
       "        8.26319575e-01,  3.11335415e-01,  5.19854575e-03, -3.60059649e-01,\n",
       "       -7.70975128e-02,  2.16425419e-01,  6.20111525e-01,  1.36917546e-01,\n",
       "        5.49654424e-01,  2.60910898e-01,  3.96674454e-01,  5.65577507e-01,\n",
       "        5.41360378e-01, -3.71512445e-03, -5.90254128e-01, -6.77108765e-04,\n",
       "       -3.16300869e-01, -4.08394963e-01, -2.37030402e-01, -9.83203873e-02,\n",
       "       -4.52199904e-03, -1.60300702e-01, -3.34306449e-01, -1.02673578e+00,\n",
       "        5.77296972e-01, -8.25916678e-02,  1.33391306e-01,  1.47715062e-01,\n",
       "       -1.20723498e+00,  4.85489964e-01,  4.77348715e-01,  1.05229713e-01,\n",
       "       -6.84417248e-01,  7.40572393e-01, -2.71025211e-01, -2.47583866e-01,\n",
       "       -3.77074838e-01,  3.63227993e-01, -3.31583112e-01,  1.41115874e-01,\n",
       "        3.57634187e-01, -6.41366780e-01,  2.43765831e-01,  2.25895986e-01,\n",
       "        2.11549595e-01,  2.01352909e-01,  5.87202072e-01, -6.54097974e-01,\n",
       "        3.16955626e-01, -4.63828966e-02,  1.66472241e-01,  1.25025705e-01,\n",
       "       -3.29533108e-02, -2.40829047e-02,  3.46682779e-02,  7.63884857e-02,\n",
       "        7.46814013e-01,  4.29007918e-01, -4.52856958e-01, -3.54626447e-01,\n",
       "       -4.04372871e-01,  8.67056996e-02,  9.92361903e-01, -3.40709358e-01,\n",
       "       -7.39800036e-02, -4.79129046e-01,  9.07608986e-01, -4.66750532e-01,\n",
       "       -1.33824065e-01, -6.15402460e-02,  1.20596714e-01, -5.41143604e-02,\n",
       "        3.85575652e-01, -6.24412298e-01,  2.50901431e-01, -4.45154309e-01,\n",
       "        3.57851297e-01, -1.63125440e-01, -1.82484433e-01,  8.34744751e-01,\n",
       "       -5.33557773e-01,  3.08556825e-01, -1.09914427e+01, -3.13908100e-01,\n",
       "        3.70118141e-01,  1.32210219e+00,  6.39410853e-01, -3.58808368e-01,\n",
       "        8.92620683e-02,  4.68688428e-01,  7.81056061e-02, -7.64874890e-02,\n",
       "       -5.00388324e-01, -2.97978073e-01, -3.60971063e-01,  5.44238277e-02,\n",
       "        6.71469346e-02,  6.46837234e-01, -6.82553947e-02,  3.55214141e-02,\n",
       "        5.58101952e-01,  1.72253579e-01,  6.13466680e-01, -1.15378127e-01,\n",
       "       -3.14527512e-01,  5.20527840e-01, -6.52443543e-02,  1.05374165e-01,\n",
       "       -1.14280544e-01,  1.08186685e-01,  6.00365782e-03, -5.57020120e-02,\n",
       "       -5.39497375e-01, -7.50398695e-01,  4.46857035e-01, -5.85502267e-01,\n",
       "       -7.94487774e-01, -2.81506181e-01, -5.55788100e-01,  2.46352062e-01,\n",
       "       -1.60271302e-01,  8.15425813e-02, -1.60924807e-01, -1.30111903e-01,\n",
       "       -1.05766337e-02,  3.43711436e-01,  3.42358172e-01, -5.07525027e-01,\n",
       "       -4.41033840e-01,  3.17748263e-02, -8.86255875e-02,  8.51526484e-02,\n",
       "        3.42399985e-01,  1.81388736e-01,  2.00346038e-01, -4.19922084e-01,\n",
       "       -4.96711850e-01, -5.07832348e-01,  5.36241412e-01,  5.32630265e-01,\n",
       "       -2.15706214e-01,  2.99926668e-01,  1.27734244e-01, -4.90867347e-01,\n",
       "        9.42445770e-02,  3.75854731e-01, -3.53367031e-01,  4.86356393e-02,\n",
       "        8.55104268e-01,  3.20975095e-01, -1.79637372e-01,  2.19154805e-01,\n",
       "        2.02399999e-01, -9.38590288e-01, -3.74663202e-03,  3.33355129e-01,\n",
       "        1.54234931e-01,  3.35163593e-01,  1.04864204e+00, -7.12514576e-03,\n",
       "        2.97792971e-01, -5.50274134e-01, -4.01019990e-01,  3.09542865e-01,\n",
       "        3.01615447e-01, -6.21953666e-01,  4.23003376e-01, -3.15110266e-01,\n",
       "        7.41212890e-02,  2.40593776e-01,  6.32259190e-01, -5.64072020e-02,\n",
       "       -3.01617458e-02, -2.00747490e-01,  3.44177395e-01,  1.02305055e-01,\n",
       "        3.39022338e-01, -4.37009841e-01,  3.51204187e-01, -7.32085183e-02,\n",
       "       -1.50752425e+00, -9.07814026e-01, -4.73025531e-01,  2.02793315e-01,\n",
       "        2.87096322e-01, -1.95296511e-01, -4.72545952e-01,  7.53270239e-02,\n",
       "        3.08710933e-01,  8.52785632e-02, -5.16027212e-01,  9.63704348e-01,\n",
       "       -6.83824182e-01,  1.62444070e-01, -8.82295907e-01, -3.47291678e-02,\n",
       "       -1.12859912e-01,  3.82999390e-01,  2.79253721e-02,  2.58974612e-01,\n",
       "       -9.88770500e-02,  1.57273844e-01, -1.53619260e-01, -4.34438914e-01,\n",
       "        4.47114650e-03, -8.20435435e-02,  8.15697014e-01,  4.67435360e-01,\n",
       "        3.77529450e-02,  5.11715233e-01, -4.12597239e-01,  1.27022445e-01,\n",
       "       -3.83468606e-02, -3.77977863e-02,  9.18852270e-01,  2.23405465e-01,\n",
       "        3.86039764e-01, -6.36576265e-02,  5.81341267e-01,  6.45794421e-02,\n",
       "        5.43174922e-01, -2.30423421e-01,  1.24425091e-01, -1.13357678e-01,\n",
       "        1.53890058e-01, -7.04723656e-01, -5.80508232e-01, -1.60192266e-01,\n",
       "        1.84654340e-01, -1.21131927e-01, -8.78173485e-02,  1.38448671e-01,\n",
       "       -5.62662005e-01,  1.05902620e-01,  1.95534199e-01,  1.26148820e-01,\n",
       "       -2.36955434e-01, -1.07743824e+00,  1.40206170e+00, -3.88489723e-01,\n",
       "       -1.40382633e-01,  3.13725710e-01, -3.71658117e-01, -1.05109227e+00,\n",
       "       -1.61594748e-01,  8.20650626e-03, -8.94866526e-01,  1.98238626e-01,\n",
       "        5.82407236e-01,  4.25006032e-01,  3.90028477e-01, -2.27805033e-01,\n",
       "        2.07657620e-01,  4.61415827e-01,  1.51550129e-01,  5.16660035e-01,\n",
       "       -4.49891239e-01,  6.40264392e-01,  4.49571252e-01, -6.47111654e-01,\n",
       "       -4.94287282e-01, -2.63284475e-01,  4.42778051e-01,  3.42646211e-01,\n",
       "        1.04717404e-01, -3.72255474e-01,  9.95252430e-01, -4.00487870e-01,\n",
       "        3.22914392e-01, -1.27761567e+00,  1.86462566e-01, -4.38264273e-02,\n",
       "       -8.68267119e-02,  1.88889980e-01,  3.35250229e-01, -4.71650064e-02,\n",
       "        2.65445083e-01, -4.82117862e-01, -8.20439532e-02, -3.69550556e-01,\n",
       "        3.05184782e-01,  3.18963766e-01, -1.83410063e-01, -1.57430563e-02,\n",
       "       -6.30360126e-01, -2.78167397e-01,  4.04959805e-02, -4.50842321e-01,\n",
       "        5.08467913e-01, -5.58009446e-01, -3.11544180e-01, -1.31957650e-01,\n",
       "       -1.18962675e-01, -1.40186024e+00, -4.80694503e-01, -6.43467069e-01,\n",
       "        1.01165259e+00, -2.10239053e-01,  1.59144536e-01,  6.67270720e-02,\n",
       "       -4.44719940e-01, -3.47271979e-01, -4.74994667e-02,  7.17274696e-02,\n",
       "       -3.41115832e-01,  1.90959811e-01, -6.33968353e-01, -2.90458828e-01,\n",
       "       -9.65003252e-01,  5.64213879e-02, -3.22951004e-02,  1.06634952e-01,\n",
       "        1.97874352e-01, -2.00096339e-01, -1.18944220e-01, -9.69269574e-01,\n",
       "        6.34007573e-01, -5.72954059e-01,  7.54921436e-01, -1.51812108e-02,\n",
       "        1.70602560e-01,  5.38973808e-01,  4.14351374e-01,  4.61793095e-01,\n",
       "        6.30970299e-01, -7.50034630e-01, -1.14188686e-01,  5.15334420e-02,\n",
       "       -4.51861054e-01, -1.79810718e-01, -4.20007288e-01, -9.66045797e-01,\n",
       "       -7.16510296e-01,  3.83176655e-01,  6.40463009e-02, -3.87915522e-01,\n",
       "        1.25209525e-01,  3.65487859e-02, -1.43659592e-01, -6.01379812e-01,\n",
       "       -3.60204056e-02, -5.62503099e-01, -1.85794905e-01,  1.01649866e-01,\n",
       "        1.60580325e+00,  2.66220361e-01, -2.59037107e-01,  4.54492897e-01,\n",
       "        3.33160102e-01,  5.33741951e-01, -7.18802273e-01, -7.52301142e-02,\n",
       "       -2.53038350e-02,  4.22385894e-02,  2.75547415e-01, -2.75149137e-01,\n",
       "       -3.74512881e-01, -3.03283408e-02, -6.08737707e-01, -8.97832036e-01,\n",
       "        1.25463223e+00,  3.11788589e-01,  1.03152001e+00,  8.39527667e-01,\n",
       "        5.22962332e-01, -4.58476067e-01, -5.56074262e-01, -3.28850359e-01,\n",
       "        9.47984576e-01, -3.45485628e-01,  4.55917686e-01,  3.01077276e-01,\n",
       "       -4.25135046e-01,  3.57051976e-02, -1.52797803e-01,  1.27539113e-01,\n",
       "       -8.43168944e-02,  1.02106012e-01, -6.75150037e-01, -3.11287314e-01,\n",
       "        3.18992734e-01, -3.38626504e-01, -1.91010371e-01, -2.16714621e-01,\n",
       "       -1.70902275e-02, -3.34639773e-02,  6.20784998e-01,  1.98130667e-01,\n",
       "        8.71661961e-01, -2.08043549e-02,  1.45930517e+00,  4.75231797e-01,\n",
       "        1.48135379e-01, -7.85703734e-02, -6.05847165e-02,  5.73693633e-01,\n",
       "        5.92454553e-01, -2.62275636e-01, -2.41776228e-01,  2.51395345e-01,\n",
       "        3.51927459e-01, -7.01055944e-01,  3.76339257e-01,  1.50602490e-01,\n",
       "        2.12771967e-01,  8.73732865e-01, -6.87666237e-01, -3.30532789e-01,\n",
       "       -3.41633260e-01, -1.65834799e-01, -4.85311300e-01, -3.47947925e-01,\n",
       "       -5.59370279e-01, -9.79786217e-01, -1.51204646e-01, -3.48851830e-01,\n",
       "        1.21106707e-01, -3.60820621e-01,  3.14253509e-01,  6.11929715e-01,\n",
       "        5.28254509e-01, -1.41240045e-01,  9.21180308e-01, -7.64134765e-01,\n",
       "       -4.47873116e-01, -2.44338781e-01,  1.14286877e-01,  7.50962853e-01,\n",
       "       -5.02163887e-01, -6.00801766e-01, -2.29260817e-01, -1.88923284e-01,\n",
       "       -6.06993377e-01, -3.58421147e-01, -4.68583226e-01,  3.95636708e-01,\n",
       "        1.54157085e-02,  1.73060313e-01, -1.41035989e-01, -1.02632761e+00,\n",
       "        6.85726944e-03, -2.95287400e-01,  1.82107523e-01, -3.22870761e-01,\n",
       "        3.09087276e-01,  4.95480925e-01, -2.92191178e-01, -9.11880061e-02,\n",
       "        2.14381844e-01,  3.29387307e-01,  4.94447768e-01,  2.88881123e-01,\n",
       "        2.18618318e-01,  1.11556542e+00, -3.66235882e-01,  9.14424896e-01,\n",
       "       -1.65037364e-01, -4.73027766e-01,  1.36960506e-01, -5.63737571e-01,\n",
       "        2.33124569e-02,  7.28372157e-01,  1.65699825e-01,  3.04243863e-01,\n",
       "        9.34237465e-02,  1.10079989e-01,  1.28052437e+00,  3.98371637e-01,\n",
       "        4.08617437e-01,  1.25757195e-02, -1.20222598e-01, -1.43996164e-01,\n",
       "       -7.93763876e-01, -6.58689976e-01, -5.10024130e-01,  3.59660715e-01,\n",
       "       -5.27194083e-01, -2.53076494e-01,  1.67795762e-01,  2.53522187e-01,\n",
       "        1.10873677e-01, -3.47040564e-01,  6.00493789e-01,  3.81792486e-01,\n",
       "        2.87995964e-01,  2.06481516e-01, -6.39455140e-01,  1.02348101e+00,\n",
       "        6.35936081e-01, -4.77539785e-02, -2.26785377e-01,  1.97234020e-01,\n",
       "       -1.00337577e+00, -6.71954274e-01,  1.98273450e-01, -2.60309070e-01,\n",
       "       -2.42127970e-01, -1.25726229e-02, -4.33521658e-01,  1.07011271e+00,\n",
       "       -1.24290156e+00,  5.53302884e-01,  7.39748180e-02,  2.71052793e-02,\n",
       "       -1.57925799e-01, -1.23981042e-02, -5.04622638e-01, -5.52304327e-01,\n",
       "        6.67569488e-02, -5.73764741e-01, -1.56483471e-01, -3.78071576e-01,\n",
       "        2.56941050e-01, -3.92897993e-01, -6.18597746e-01,  4.37419623e-01,\n",
       "        2.23567918e-01, -4.77006018e-01,  3.50799948e-01, -3.91258150e-01,\n",
       "       -2.67805904e-01,  1.40300663e-02, -1.65818334e-02,  8.48150074e-01,\n",
       "       -2.98096985e-01, -9.98136625e-02, -9.58897173e-01,  4.14639384e-01,\n",
       "       -2.53653347e-01, -6.40071690e-01, -9.93518174e-01,  7.31792003e-02,\n",
       "       -1.90482542e-01, -1.88642085e-01, -4.83175069e-01,  6.67820513e-01,\n",
       "        6.56524226e-02, -2.27450933e-02, -1.46132097e-01, -1.64260894e-01,\n",
       "        4.01201732e-02,  5.50691724e-01, -8.68775547e-02, -2.48262193e-02,\n",
       "        4.10976470e-01, -6.68220758e-01, -2.50384003e-01,  6.00253403e-01,\n",
       "        4.07353312e-01,  2.25556433e-01,  2.95093685e-01, -3.51233155e-01,\n",
       "       -1.26598299e-01, -4.13820893e-01, -6.47246838e-01, -2.49381617e-01,\n",
       "        1.93787277e-01, -1.26536712e-01,  2.87262917e-01,  7.63801992e-01,\n",
       "       -3.50595772e-01,  2.74002701e-01, -2.49498576e-01, -6.28360093e-01,\n",
       "       -3.00323904e-01,  5.87848090e-02, -7.01534227e-02,  2.44178131e-01,\n",
       "       -2.10702717e-01,  5.80395699e-01,  4.02444154e-01,  2.63653398e-01,\n",
       "       -2.23695487e-01,  3.34101379e-01, -2.26955041e-01,  1.09416842e+00,\n",
       "        1.92697138e-01,  3.31270307e-01,  1.89709291e-01, -1.16035856e-01,\n",
       "        4.08127576e-01,  4.96598661e-01, -2.33453244e-01, -5.70286870e-01,\n",
       "       -2.67265290e-01, -1.19209206e+00,  1.06999733e-01, -2.32660457e-01,\n",
       "        1.39805663e+00,  6.58572197e-01,  4.71810013e-01,  5.24436533e-01,\n",
       "       -9.69486117e-01,  2.83686072e-01, -2.04515412e-01, -3.83172929e-01,\n",
       "       -7.14477122e-01,  1.32165745e-01,  3.40481967e-01, -1.25867724e-01,\n",
       "       -3.46711129e-01, -4.00349945e-01,  1.56287938e-01, -5.58821633e-02,\n",
       "        3.19616318e-01,  7.83927739e-01, -1.02804769e-02,  3.68561864e-01,\n",
       "       -5.26364744e-01, -7.74780512e-01, -7.63358057e-01,  6.47036135e-02,\n",
       "        3.27213049e+00,  5.89779198e-01, -3.77421767e-01,  7.14211166e-01,\n",
       "        3.15304518e-01, -2.23377660e-01,  4.44009393e-01, -5.15036166e-01,\n",
       "       -5.56204259e-01, -6.90936744e-01, -1.60696700e-01, -9.30598795e-01,\n",
       "       -5.21759391e-02,  2.63652876e-02,  7.23630860e-02, -3.43298346e-01,\n",
       "       -3.93086016e-01, -4.06182855e-01, -9.95316505e-02, -4.27507818e-01,\n",
       "        2.98993915e-01,  3.72879416e-01, -1.97123960e-01,  5.24325892e-02,\n",
       "        5.19005418e-01,  1.62122190e-01, -7.07927585e-01, -6.42470658e-01,\n",
       "       -1.98254496e-01,  5.35562560e-02,  8.93019810e-02, -6.06498607e-02,\n",
       "       -6.15206540e-01,  1.25850178e-02,  4.65882033e-01,  7.83509016e-03,\n",
       "       -7.87709773e-01, -3.82955194e-01, -3.55947345e-01,  5.00154734e-01,\n",
       "        3.22182119e-01, -1.32328749e-01, -1.49764621e+00,  5.62468767e-02,\n",
       "       -5.77562869e-01,  4.99364853e-01, -1.24175683e-01, -8.27333033e-01,\n",
       "       -1.22279622e-01,  9.25279260e-02,  3.95555824e-01, -7.81903267e-01,\n",
       "       -4.26684499e-01, -6.84138060e-01,  5.20059168e-01, -1.54799476e-01,\n",
       "       -2.78577447e-01, -8.21258247e-01,  3.63249838e-01,  3.56158167e-01,\n",
       "        3.33594345e-02,  1.79761052e-01, -3.97856951e-01, -4.48097661e-02,\n",
       "        5.20440340e-01, -8.67395639e-01,  1.71053022e-01,  2.72320658e-01,\n",
       "        2.87111908e-01,  1.93345115e-01,  4.19425398e-01,  6.37853801e-01,\n",
       "        3.38940680e-01, -6.74139857e-02, -8.04026127e-02, -5.91280282e-01,\n",
       "       -5.86427152e-01,  4.16565180e-01,  2.85448551e-01, -4.31063652e-01,\n",
       "       -8.24572682e-01,  4.57644135e-01, -1.06996514e-01, -3.18905622e-01,\n",
       "       -1.86565265e-01, -4.78225291e-01,  1.29967093e-01,  6.31631771e-03,\n",
       "        9.96367708e-02,  1.15668960e-01, -6.81880116e-01, -1.14854775e-01,\n",
       "       -1.19810477e-01, -5.34585491e-02, -4.40567940e-01,  3.27660680e-01,\n",
       "       -6.90796152e-02, -3.89911681e-01,  6.62942350e-01, -5.15460312e-01,\n",
       "       -2.75921911e-01,  2.96471249e-02, -4.61456299e-01,  6.04591556e-02,\n",
       "        3.54608446e-01,  3.97481397e-02,  6.28662467e-01, -8.01499262e-02,\n",
       "        1.63288176e-01, -2.28238925e-01,  2.42097154e-02,  1.13232088e+00,\n",
       "        1.28836572e+00,  2.93002814e-01, -3.19191962e-01,  4.90187079e-01,\n",
       "        4.84913677e-01,  6.01830818e-02, -5.41902661e-01, -3.08259875e-01,\n",
       "       -4.97272015e-01, -1.15431941e+00, -5.17723858e-01, -1.42510521e+00,\n",
       "        3.63069959e-02,  1.58507034e-01, -3.81949633e-01,  2.75915116e-01,\n",
       "       -1.05957083e-01, -1.33597210e-01,  4.64540899e-01, -5.40970504e-01,\n",
       "       -3.64521086e-01,  5.14637269e-02,  2.23259181e-01, -1.41200736e-01,\n",
       "       -7.65305534e-02, -1.68547690e+00,  4.03402567e-01,  6.63839996e-01,\n",
       "       -1.36066973e-01, -2.53432393e-01,  1.31190911e-01,  2.03339830e-01,\n",
       "       -4.08153445e-01,  1.64559148e-02, -1.02263725e+00, -5.29721260e-01,\n",
       "        2.93015599e-01,  2.07916632e-01, -1.66827679e-01, -3.45093161e-02,\n",
       "       -3.16836625e-01,  5.44936299e-01,  1.07792816e+01,  1.86982360e-02,\n",
       "        6.05607033e-01, -3.07683527e-01,  7.19226837e-01, -2.70718277e-01,\n",
       "        4.19056356e-01,  2.44006127e-01,  2.33909398e-01,  7.63592198e-02,\n",
       "        2.94700861e-01,  6.77816719e-02,  3.89021337e-01,  9.61946025e-02,\n",
       "       -4.60266173e-01,  4.68762547e-01, -6.36625111e-01,  4.31698561e-02,\n",
       "       -5.06226346e-02, -6.46756172e-01, -2.63950080e-01, -2.46525630e-01,\n",
       "       -2.46835813e-01, -8.42320085e-01, -4.85057414e-01, -9.52250302e-01,\n",
       "       -8.35917294e-02, -6.12736583e-01,  2.91431248e-01, -2.12742999e-01,\n",
       "       -1.13800466e+00,  1.71467066e-01,  6.38398290e-01, -1.63847521e-01,\n",
       "       -2.59628415e-01,  5.57528377e-01, -2.85925359e-01, -1.88971117e-01,\n",
       "       -1.72448322e-01,  5.79647347e-02,  1.12349048e-01, -6.41030669e-01,\n",
       "        3.58509719e-01, -2.30800048e-01,  2.55174696e-01,  4.05068517e-01,\n",
       "        3.37466329e-01, -4.29176956e-01,  5.35818756e-01,  7.15663806e-02,\n",
       "       -2.10687844e-03, -1.70706660e-01,  6.10828064e-02,  7.39408508e-02,\n",
       "        4.04251950e-05, -2.46065408e-01,  3.34838450e-01,  5.99150181e-01,\n",
       "        4.46871489e-01,  3.10681731e-01, -4.19141024e-01, -4.13735397e-02,\n",
       "       -4.41984326e-01,  4.18553144e-01,  2.03890771e-01, -3.51402611e-01,\n",
       "       -3.14044893e-01, -1.86607912e-01,  6.97338641e-01,  1.27384618e-01,\n",
       "        6.18886687e-02, -2.81961504e-02,  5.13785601e-01,  2.81067550e-01,\n",
       "        6.67443514e-01, -3.51636887e-01, -1.24699511e-01, -3.54855388e-01,\n",
       "        1.13237120e-01, -5.12120664e-01, -1.40129849e-01,  1.67510360e-01,\n",
       "        6.62170127e-02,  1.25359014e-01, -1.82687130e+01,  1.75045133e-01,\n",
       "        1.57963157e-01,  2.87590653e-01, -5.76973110e-02,  8.00928324e-02,\n",
       "        6.29461408e-01, -2.21039858e-02,  3.05533074e-02, -9.04661715e-02,\n",
       "       -1.23769164e-01, -1.82594314e-01, -2.07805157e-01, -1.03543788e-01,\n",
       "        4.65853631e-01,  2.89064199e-01,  4.79676984e-02,  2.45451108e-01,\n",
       "       -7.83009361e-03, -2.24676922e-01, -2.09569111e-02, -2.22197607e-01,\n",
       "       -5.17682493e-01,  3.02606553e-01,  9.25775915e-02, -3.51141185e-01,\n",
       "       -4.84385975e-02,  2.02323809e-01,  3.04778248e-01, -3.50193352e-01,\n",
       "       -3.93997192e-01, -2.76191026e-01,  2.02335194e-01, -1.09045315e+00,\n",
       "       -4.32792634e-01, -1.59398653e-02, -2.41621971e-01, -2.10206896e-01,\n",
       "        7.73137957e-02,  1.33806184e-01, -3.90459746e-01,  2.87546843e-01,\n",
       "       -8.72306824e-02, -2.32808366e-02,  2.79620975e-01, -4.92472380e-01,\n",
       "       -4.09662426e-02,  3.07071298e-01, -4.69790995e-01, -3.63606364e-01,\n",
       "       -1.62156686e-01,  6.36463940e-01,  1.66553974e-01, -3.59001100e-01,\n",
       "        2.79381365e-01, -7.99951434e-01,  5.40951610e-01,  2.41960958e-01,\n",
       "       -1.14993602e-01,  7.43303597e-02, -1.94432691e-01,  1.97424553e-02,\n",
       "       -8.82966965e-02,  7.79808536e-02,  2.14091599e-01,  1.55400455e-01,\n",
       "        3.03319991e-01,  2.36437749e-02,  3.04489970e-01, -6.50935769e-02,\n",
       "       -2.08268128e-02, -7.36307681e-01, -2.20951125e-01,  2.77485520e-01,\n",
       "       -2.43948013e-01, -7.06991196e-01,  9.83766019e-01,  2.11679433e-02,\n",
       "        1.69660058e-02,  5.40165566e-02, -2.77636439e-01,  2.98103392e-01,\n",
       "        2.74790555e-01, -3.17363024e-01,  6.84877574e-01, -5.54622769e-01,\n",
       "       -1.61193684e-01,  1.88656092e-01,  3.72532576e-01, -4.17252071e-02,\n",
       "       -1.80273846e-01, -3.40432115e-02,  3.93116951e-01,  2.41205513e-01,\n",
       "       -1.75874606e-01, -1.76910639e-01,  1.94907546e-01,  6.75418004e-02,\n",
       "       -8.07724297e-01, -1.67684391e-01, -5.93262136e-01,  3.70400101e-01,\n",
       "        4.54010278e-01, -3.47549111e-01, -1.93407595e-01,  7.77594149e-02,\n",
       "       -2.08627790e-01, -9.97128412e-02,  3.26006472e-01,  6.43639147e-01,\n",
       "       -1.00500800e-01, -1.78514584e-03, -1.18593149e-01,  1.73165768e-01,\n",
       "       -5.97903907e-01,  2.20771849e-01, -4.46661189e-02,  7.66299441e-02,\n",
       "        9.33557749e-02, -3.84525359e-01, -3.18999350e-01, -1.52821720e-01,\n",
       "       -1.62326768e-01, -3.66429716e-01,  5.76991029e-02, -1.62103951e-01,\n",
       "       -1.50648326e-01,  5.73019266e-01, -1.21988547e+00,  7.07646132e-01,\n",
       "        6.57313392e-02, -2.52549440e-01,  5.98730564e-01,  2.96956718e-01,\n",
       "        2.72493422e-01,  1.71504855e-01,  5.90252161e-01, -8.85133073e-02,\n",
       "        3.44681181e-02, -2.96856523e-01, -8.05793703e-02, -3.22761610e-02,\n",
       "        5.39694607e-01, -5.65937817e-01,  2.42853090e-01,  8.87703374e-02,\n",
       "        3.96248773e-02, -1.37044027e-01,  2.20405638e-01, -3.79712768e-02,\n",
       "       -1.15357108e-01,  7.89986253e-02,  1.44810766e-01, -1.14928402e-01,\n",
       "       -7.10110962e-01, -1.44300714e-01,  6.31126881e-01,  3.52999806e-01,\n",
       "       -7.46489644e-01,  2.06964552e-01, -2.83485856e-02, -2.22584933e-01,\n",
       "       -8.05333704e-02,  1.82901486e-03,  2.17749216e-02,  1.28878042e-01,\n",
       "        6.91846907e-01,  1.59819007e-01,  1.11318536e-01,  8.86692554e-02,\n",
       "        2.60809541e-01,  6.43635571e-01, -3.25554758e-02,  4.45465624e-01,\n",
       "       -2.53391892e-01,  7.88161397e-01,  5.71447134e-01,  1.88024849e-01,\n",
       "       -2.43319958e-01, -3.62224519e-01,  3.07111651e-01,  1.70967072e-01,\n",
       "        1.38065264e-01, -3.63006473e-01,  3.21643353e-01, -7.22597688e-02,\n",
       "        5.29794872e-01,  7.36877695e-02, -3.30920845e-01, -4.18896228e-02,\n",
       "        1.47901401e-01,  1.09179936e-01, -1.77323654e-01, -3.50139618e-01,\n",
       "       -3.62937480e-01, -3.36521603e-02, -3.62401813e-01, -1.04478307e-01,\n",
       "       -7.73901790e-02,  4.41404074e-01,  2.82711178e-01, -1.86124772e-01,\n",
       "        1.07278824e-01, -3.85480404e-01, -2.53820837e-01, -4.94713247e-01,\n",
       "        4.54439789e-01,  1.45484999e-01, -1.84918225e-01,  1.81204855e-01,\n",
       "        4.08408642e-01, -5.11503220e-01, -5.27809322e-01, -6.20953739e-01,\n",
       "        7.24184155e-01, -7.93976068e-01, -2.94105440e-01,  2.18042374e-01,\n",
       "        1.60190556e-02, -3.90283912e-01,  1.42618502e-02,  8.94635543e-02,\n",
       "        2.29462117e-01,  6.73645854e-01, -5.30748442e-02, -1.27826974e-01,\n",
       "       -5.01891017e-01,  3.94176729e-02, -5.53516522e-02, -2.33430222e-01,\n",
       "        7.35339403e-01,  7.24106804e-02,  2.60392815e-01, -5.41475534e-01,\n",
       "        1.63428828e-01,  6.68221116e-02,  4.63573664e-01, -7.82971233e-02,\n",
       "        1.41939104e-01,  4.23625529e-01,  4.18002129e-01, -2.58458525e-01,\n",
       "        6.77919865e-01, -1.91083968e-01, -9.33631063e-02,  3.04483473e-01,\n",
       "       -1.27697676e-01,  2.34190181e-01, -2.73788780e-01, -5.43030083e-01,\n",
       "       -3.67360026e-01,  5.28676435e-02,  4.73345339e-01, -4.04099584e-01,\n",
       "       -9.62959528e-02, -1.81841403e-01,  5.97119145e-02,  1.80695370e-01,\n",
       "        1.53288320e-01, -5.98667979e-01, -7.04566389e-02,  2.13703126e-01,\n",
       "       -3.98127347e-01, -1.85754091e-01,  2.90939242e-01,  3.74014527e-01,\n",
       "        3.22453976e-01,  1.70940414e-01, -7.59931982e-01, -3.29750553e-02,\n",
       "       -6.32192731e-01,  1.06368899e-01,  1.37523651e-01, -4.70006377e-01,\n",
       "       -3.05218369e-01, -1.65479869e-01, -3.69434804e-01, -5.65126240e-01,\n",
       "        6.31709039e-01, -2.07674429e-01,  1.54108241e-01,  4.41959143e-01,\n",
       "        3.12545240e-01, -5.12741320e-02, -8.53147432e-02, -2.72129685e-01,\n",
       "        4.67988223e-01,  5.98744154e-02,  5.64920250e-03,  6.77513421e-01,\n",
       "       -2.82682002e-01, -3.38974744e-01, -1.98895797e-01, -2.49660254e-01,\n",
       "        3.28034833e-02,  1.11414753e-01, -4.04109865e-01, -5.25466204e-01,\n",
       "       -9.95582119e-02, -2.11763963e-01, -1.39809757e-01,  1.36803053e-02,\n",
       "        1.69221789e-01,  1.31760195e-01, -7.07841571e-03,  2.88691878e-01,\n",
       "        4.75936264e-01, -1.35400727e-01,  8.57423365e-01,  3.24501425e-01,\n",
       "       -1.93496972e-01,  5.62453531e-02, -1.90155253e-01,  5.13374150e-01,\n",
       "        3.92409176e-01,  7.16418251e-02,  3.38975340e-01,  4.41238016e-01,\n",
       "       -4.15981673e-02, -9.97466385e-01,  3.25467438e-01,  3.30013752e-01,\n",
       "       -3.71709675e-01,  3.92087400e-01, -4.53510396e-02, -2.04554394e-01,\n",
       "       -1.23508669e-01,  5.81971295e-02, -5.12797058e-01, -4.23767447e-01,\n",
       "       -2.73016691e-01, -7.76978791e-01, -5.79919696e-01, -1.37348235e-01,\n",
       "        3.35803866e-01, -2.84134299e-01,  6.51581958e-02,  1.98228836e-01,\n",
       "        1.93325132e-01, -1.68630555e-01,  6.05466776e-02, -6.20496878e-03,\n",
       "       -3.65197450e-01, -3.52541119e-01, -4.00837749e-01,  2.87430584e-01,\n",
       "       -7.84504056e-01, -4.13515002e-01,  5.94185926e-02,  1.14052035e-02,\n",
       "       -4.43559498e-01,  4.52393293e-02, -1.25369751e+00,  1.03545949e-01,\n",
       "       -3.38857979e-01, -4.25473124e-01,  1.51669383e-01, -8.30171585e-01,\n",
       "        1.32485583e-01, -5.38753867e-01, -6.56814575e-02, -3.04471795e-02,\n",
       "        5.11359990e-01,  3.58795226e-01,  1.82852093e-02, -2.36832835e-02,\n",
       "        2.62507826e-01,  2.38269597e-01,  3.38702530e-01,  3.75214368e-02,\n",
       "        1.90185577e-01,  7.05478013e-01, -1.34161100e-01,  1.46841049e-01,\n",
       "       -5.22543728e-01, -3.69739234e-01, -7.93435890e-03, -6.23909950e-01,\n",
       "       -1.20660901e-01,  5.00702322e-01,  7.04551220e-01, -7.45221460e-03,\n",
       "        1.02991268e-01,  2.64586657e-02,  6.06508851e-01,  1.11610569e-01,\n",
       "        4.35408026e-01,  4.15511727e-01, -8.92846063e-02, -6.78102493e-01,\n",
       "       -5.74794590e-01, -6.20294809e-02, -5.46850502e-01,  2.29644403e-01,\n",
       "       -4.47783530e-01,  3.47298890e-01,  1.18644796e-01,  3.26707840e-01,\n",
       "        1.18571930e-01, -4.05578196e-01, -3.72680873e-01, -7.43327439e-02,\n",
       "       -5.78152277e-02,  2.41513252e-01,  2.25392610e-01,  8.25977743e-01,\n",
       "       -1.19558787e-02, -1.21715821e-01, -7.02283531e-02,  4.50853974e-01,\n",
       "       -1.65563256e-01, -5.55635393e-01,  5.03723808e-02, -3.43837202e-01,\n",
       "       -1.61629021e-01,  1.64286196e-02, -3.13800246e-01,  4.95674282e-01,\n",
       "       -8.15275371e-01,  4.90269244e-01,  4.71537262e-01, -1.16849607e-02,\n",
       "        5.17397374e-02, -3.18689495e-02, -1.80893779e-01, -2.40359545e-01,\n",
       "        5.54829501e-02, -7.05754280e-01, -3.56684774e-01, -1.12317361e-01,\n",
       "        2.73823321e-01, -4.18840557e-01, -2.23328188e-01,  3.91648114e-01,\n",
       "        6.22852258e-02, -3.25590044e-01,  2.14157686e-01, -3.34095120e-01,\n",
       "       -6.85230866e-02,  8.95877853e-02, -6.01569302e-02,  5.28929174e-01,\n",
       "        6.76199049e-02,  3.65571320e-01, -3.11101556e-01, -1.92665175e-01,\n",
       "        1.54834986e-01, -1.28619283e-01, -2.40270332e-01,  1.11205848e-02,\n",
       "       -8.25332701e-02, -1.82230204e-01, -1.98171094e-01,  1.47105530e-01,\n",
       "       -1.95922211e-01,  1.01384327e-01, -8.55865628e-02, -4.04112458e-01,\n",
       "        1.18271776e-01,  4.72012371e-01,  4.15684164e-01, -1.45220160e-01,\n",
       "       -4.95631248e-02, -4.45280939e-01,  3.06763858e-01, -1.55586421e-01,\n",
       "        2.01034382e-01,  6.26611486e-02,  4.79414053e-02, -4.75310445e-01,\n",
       "        4.92622435e-01, -3.76594752e-01, -5.70544064e-01,  8.77781287e-02,\n",
       "       -4.27279547e-02, -2.22092852e-01,  5.65840527e-02,  1.36741444e-01,\n",
       "       -2.07265690e-02, -7.14106718e-03, -1.76565990e-01, -1.19449295e-01,\n",
       "       -1.45537898e-01,  5.83235435e-02,  2.41910145e-01,  2.34738782e-01,\n",
       "        2.31336966e-01,  3.90270144e-01,  3.77037734e-01,  1.29324775e-02,\n",
       "       -4.96047810e-02,  1.33406118e-01, -1.28815517e-01,  3.49737793e-01,\n",
       "        1.04828753e-01,  4.38155234e-03,  4.72974569e-01, -3.27124059e-01,\n",
       "       -4.98717517e-01,  4.48021680e-01, -7.96900466e-02, -5.12081921e-01,\n",
       "       -7.08821639e-02, -5.32126427e-01,  1.49261609e-01, -1.26008227e-01,\n",
       "        1.20085609e+00,  8.75831068e-01, -1.91023219e-02, -1.41049638e-01,\n",
       "       -1.15148175e+00, -1.42563313e-01,  1.90632880e-01, -4.65347916e-01,\n",
       "       -8.16584453e-02,  4.07110043e-02, -1.42590493e-01, -1.14652172e-01,\n",
       "        2.47982875e-01, -9.05915722e-02,  3.34582061e-01,  2.47199699e-01,\n",
       "        1.16118908e-01,  4.04449433e-01,  1.25069335e-01,  7.64207006e-01,\n",
       "       -3.12967114e-02, -6.57739580e-01, -5.52214801e-01,  1.02827586e-01,\n",
       "        4.40452623e+00,  8.23884070e-01, -4.04868752e-01,  7.67044663e-01,\n",
       "        1.11148015e-01,  3.11910093e-01,  7.66022727e-02, -4.08356696e-01,\n",
       "       -5.51996410e-01, -2.16945469e-01,  2.53527313e-01, -8.32797348e-01,\n",
       "       -3.24182391e-01,  2.10554108e-01,  6.21720478e-02,  2.22407579e-02,\n",
       "       -3.91279250e-01,  2.86496878e-01,  1.26425356e-01,  1.98410466e-01,\n",
       "       -8.53292197e-02, -5.19771218e-01, -3.57097201e-02,  5.63167743e-02,\n",
       "        1.55460965e-02, -4.54565912e-01, -3.68464321e-01, -2.52441347e-01,\n",
       "        1.35989368e-01, -2.11511940e-01,  1.72172368e-01, -3.45040113e-01,\n",
       "       -3.51351917e-01,  3.87300879e-01,  4.18568045e-01, -1.24966074e-02,\n",
       "       -6.53457224e-01, -8.11136663e-02, -3.95452380e-02, -2.16119885e-01,\n",
       "       -6.01662137e-02, -5.05195916e-01, -3.90260339e-01, -1.16417512e-01,\n",
       "       -2.05212235e-01,  3.94470900e-01, -2.02452317e-01, -3.67242843e-01,\n",
       "       -4.08728689e-01,  3.45066279e-01,  7.29530901e-02, -8.03353131e-01,\n",
       "       -3.57268125e-01, -4.92897362e-01, -1.74180105e-01,  2.72233993e-01,\n",
       "        7.24365264e-02,  8.49029124e-02, -3.38598303e-02,  4.91394192e-01,\n",
       "        2.22309247e-01,  5.47235966e-01, -2.62930602e-01, -9.25419107e-02,\n",
       "        8.10151920e-02, -1.04010904e+00,  2.76829988e-01, -8.03095475e-02,\n",
       "        2.53749520e-01,  6.71494305e-02,  1.97160169e-01,  2.32350215e-01,\n",
       "        3.89094740e-01, -2.77804762e-01,  1.11328110e-01, -1.55428246e-01,\n",
       "       -2.50430554e-01,  9.47241113e-02,  2.97077447e-01, -7.07634985e-02,\n",
       "        3.39271277e-02, -2.03037933e-02, -5.08849859e-01,  2.22784746e-02,\n",
       "       -2.59519875e-01, -2.24848881e-01,  4.46936876e-01,  3.44176650e-01,\n",
       "        1.59174994e-01, -4.24366951e-01, -4.57636952e-01,  3.60298604e-01,\n",
       "       -2.91446686e-01,  3.37956697e-01,  2.22740307e-01,  2.30405539e-01,\n",
       "        5.63386261e-01, -2.71683484e-01,  5.20526230e-01,  4.05609682e-02,\n",
       "       -1.94461554e-01,  3.13108027e-01, -3.30550879e-01,  1.68967143e-01,\n",
       "       -1.36973038e-01,  2.18851771e-02,  1.83451012e-01, -1.89167932e-01,\n",
       "        3.31884325e-01, -4.70392227e-01, -2.88707554e-01, -2.47672632e-01,\n",
       "        6.99079692e-01,  3.41090471e-01, -2.64904380e-01, -1.54866114e-01,\n",
       "        2.17765197e-01, -1.62194550e-01, -4.95995522e-01, -5.75327754e-01,\n",
       "        2.13321611e-01, -1.06897366e+00,  6.88444674e-02, -1.84633636e+00,\n",
       "        3.56175363e-01,  2.94585139e-01, -4.73566592e-01,  6.13338947e-01,\n",
       "        3.42251688e-01,  9.27420080e-01,  6.32841408e-01, -2.63311416e-01,\n",
       "       -4.60950192e-03,  2.45108977e-02,  7.47890444e-03, -4.02942985e-01,\n",
       "       -4.13955271e-01, -1.61278677e+00, -1.13721490e-02,  5.29811382e-01,\n",
       "        2.20993944e-02,  1.58259600e-01, -3.90684940e-02,  1.68281421e-01,\n",
       "        1.46006811e-02, -2.21017003e-01, -7.08702147e-01, -9.07935668e-03,\n",
       "        1.49217052e-02,  2.20173433e-01,  3.60946059e-02, -5.98431468e-01,\n",
       "        1.69947464e-02,  5.84136963e-01,  6.26606989e+00,  2.62831718e-01,\n",
       "        6.30687833e-01, -1.64866641e-01,  3.77308398e-01, -3.37574869e-01,\n",
       "       -8.89921486e-02,  2.53994912e-01,  1.26126511e-02, -4.04714011e-02,\n",
       "        1.36103570e-01,  1.46200523e-01,  1.33959532e-01,  3.31118032e-02,\n",
       "       -1.15784287e-01,  1.28370345e-01, -7.06740856e-01,  2.17617657e-02,\n",
       "        1.91804454e-01, -2.07374290e-01, -1.20435864e-01, -2.62717873e-01,\n",
       "       -3.19447070e-01, -3.97481084e-01, -3.17337275e-01, -5.46071887e-01,\n",
       "       -2.49415770e-01, -4.59013313e-01,  6.01675212e-01,  6.11583255e-02,\n",
       "       -8.84815454e-01, -1.56210408e-01,  2.80953616e-01,  3.74328613e-01,\n",
       "       -3.16038072e-01,  6.89270258e-01,  4.28284034e-02,  5.82961977e-01,\n",
       "        1.18901625e-01,  3.11895281e-01, -4.86677706e-01, -4.86539960e-01,\n",
       "       -2.21689805e-01, -1.15315421e-02,  2.10985228e-01, -1.40479833e-01,\n",
       "        4.36454803e-01, -6.62527233e-02,  9.10896599e-01,  9.37100907e-04,\n",
       "       -4.04036433e-01, -2.26169139e-01, -3.21257383e-01, -1.42619327e-01,\n",
       "       -4.83240373e-02,  1.57546997e-01,  3.83692563e-01,  4.14262205e-01,\n",
       "        1.53000295e-01,  2.34902546e-01, -2.95907736e-01,  9.59487259e-02,\n",
       "       -5.34472391e-02, -8.18603709e-02,  2.46729534e-02, -3.43994528e-01,\n",
       "       -3.82895321e-01, -4.41520065e-01,  6.69057727e-01, -1.96257651e-01,\n",
       "        6.99542090e-02,  2.82815188e-01,  1.04874149e-01,  3.39003086e-01,\n",
       "        4.55585331e-01, -2.08524436e-01, -3.33463073e-01, -1.26716793e-01,\n",
       "       -6.87591657e-02, -1.71083421e-01, -1.05313398e-02,  1.65231019e-01,\n",
       "       -2.41613999e-01, -6.83969585e-03, -1.74674587e+01,  1.15035072e-01,\n",
       "        5.35471588e-02,  5.29141612e-02, -7.63868093e-02,  1.39751956e-01,\n",
       "        4.23909932e-01,  1.18936926e-01,  2.27336466e-01, -1.59705088e-01,\n",
       "       -4.08136964e-01,  1.90937817e-02, -2.72925735e-01, -1.31031856e-01,\n",
       "        8.34932148e-01,  1.24093957e-01,  1.71244889e-01,  2.20487252e-01,\n",
       "        2.23573610e-01, -5.70071265e-02, -1.92267001e-01, -3.33581060e-01,\n",
       "       -2.04926193e-01,  1.05440222e-01,  1.67532474e-01, -7.19120875e-02,\n",
       "       -2.33576261e-02,  3.76349121e-01, -1.40335364e-02, -2.85781860e-01,\n",
       "       -2.17858464e-01, -2.30933025e-01,  2.38264620e-01, -8.15338373e-01,\n",
       "       -5.70151694e-02, -2.50037368e-02, -2.70008057e-01, -2.26205990e-01,\n",
       "        5.76082543e-02,  7.43442848e-02, -1.11974716e-01,  2.48028070e-01,\n",
       "       -2.96840876e-01,  1.26508266e-01,  9.41051319e-02, -3.95845830e-01,\n",
       "       -1.77347008e-02,  7.10150525e-02, -1.74322203e-01, -1.89114600e-01,\n",
       "       -2.65612751e-01,  6.50155723e-01,  1.62408561e-01,  4.19925936e-02,\n",
       "        3.42703372e-01, -6.93799496e-01,  3.22782397e-01,  1.90316588e-01,\n",
       "        6.26437292e-02,  1.93208054e-01, -1.80191144e-01, -1.32654645e-02,\n",
       "       -3.58845443e-01,  2.25609571e-01,  2.25638896e-01,  2.19143450e-01,\n",
       "        2.89463222e-01,  1.71599731e-01,  2.85041928e-01, -1.57721817e-01,\n",
       "       -2.30144262e-01, -4.81966287e-01, -1.50894582e-01,  5.65077066e-02,\n",
       "       -3.92216295e-01, -8.09876800e-01,  1.10008419e+00,  6.76715076e-02,\n",
       "       -5.47502525e-02,  3.96162301e-01, -1.63492829e-01,  1.77525729e-01,\n",
       "        3.63402098e-01, -2.52621382e-01,  2.36422941e-01, -7.19198346e-01,\n",
       "       -1.47727117e-01,  7.63517618e-02,  3.79844576e-01, -1.08687669e-01,\n",
       "        5.58165573e-02, -1.48175135e-01,  2.59539723e-01,  1.61739558e-01,\n",
       "       -1.42538905e-01,  6.13627164e-03,  2.93788373e-01, -2.37472564e-01,\n",
       "       -6.83749735e-01, -4.31757011e-02, -4.95976865e-01,  4.04279344e-02,\n",
       "        2.46363059e-01,  3.78661491e-02, -2.02935427e-01,  1.03043586e-01,\n",
       "       -3.60181928e-02,  3.05754334e-01, -4.10419628e-02,  5.56885004e-01,\n",
       "       -1.64000958e-01, -3.92763019e-02,  4.90596406e-02,  1.53837174e-01,\n",
       "       -5.35131872e-01,  1.53270289e-01, -2.61099756e-01, -1.87411264e-01,\n",
       "       -2.62366105e-02, -2.37959549e-01, -1.64252236e-01, -2.56012052e-01,\n",
       "        1.86095610e-01,  4.47554700e-02,  3.30504656e-01, -1.88110858e-01,\n",
       "        1.52571306e-01,  3.04115981e-01, -8.82649243e-01,  4.93167877e-01,\n",
       "        7.94336498e-02, -1.29022524e-01,  4.68205094e-01,  2.52179533e-01,\n",
       "        1.15744218e-01,  3.09069067e-01,  4.32370812e-01, -1.77027524e-01,\n",
       "       -8.09978247e-02, -2.45729208e-01,  2.89199185e-02, -1.46857072e-02,\n",
       "        4.67997760e-01, -3.50911081e-01,  6.11962490e-02, -7.15065375e-02,\n",
       "        2.70808220e-01, -2.23489925e-01,  2.88458198e-01,  1.47116095e-01,\n",
       "        7.90583044e-02,  8.27690661e-02,  4.90949415e-02,  1.50746573e-02,\n",
       "       -5.59659243e-01, -4.81753767e-01,  2.69376665e-01,  4.20423090e-01,\n",
       "       -1.04713392e+00,  3.18680286e-01, -1.30976215e-01,  8.52596946e-03,\n",
       "        3.83620262e-01, -4.72130394e-03,  7.35548556e-01,  2.38307640e-01,\n",
       "        4.10204351e-01,  3.59222323e-01,  7.27433935e-02,  7.22656101e-02,\n",
       "        3.62209707e-01,  1.75078496e-01, -4.80765179e-02,  1.91574708e-01,\n",
       "       -1.22812010e-01,  8.37247789e-01,  5.12406051e-01,  2.00305179e-01,\n",
       "       -8.62542838e-02,  1.39298365e-01,  4.01305109e-01,  1.50348291e-01,\n",
       "        2.14404259e-02, -2.70130277e-01,  1.34673283e-01,  2.07046606e-02,\n",
       "        3.13407063e-01,  2.09165290e-01, -2.64431447e-01, -9.49222073e-02,\n",
       "        6.68044239e-02, -3.24118257e-01, -1.20346121e-01, -2.38589823e-01,\n",
       "       -1.87778622e-01,  2.02913225e-01, -1.70590192e-01, -1.46466404e-01,\n",
       "       -3.02306801e-01, -6.92667812e-02,  4.35726225e-01, -2.68607259e-01,\n",
       "       -2.03971833e-01, -2.18443230e-01, -7.78417289e-02, -3.39760840e-01,\n",
       "        5.55868149e-01,  2.71410197e-01,  1.32561788e-01,  2.95952726e-02,\n",
       "        1.82494089e-01, -4.68969256e-01, -4.01036710e-01, -2.96990395e-01,\n",
       "        6.06995165e-01, -9.32533681e-01, -3.83755833e-01, -1.86132982e-01,\n",
       "        2.46277284e-02, -5.83272517e-01, -3.96333337e-02, -2.59967446e-01,\n",
       "        2.41750821e-01,  4.66285557e-01,  1.93553805e-01, -9.21504870e-02,\n",
       "       -2.70423234e-01,  9.95327234e-02, -1.47858202e-01, -5.36675274e-01,\n",
       "        4.61091638e-01,  5.74396513e-02, -6.50220811e-02, -1.91516671e-02,\n",
       "        2.75879633e-02,  2.53010720e-01,  4.32915807e-01, -4.92591709e-01,\n",
       "        1.62049964e-01, -1.18806668e-01,  5.26825428e-01,  3.44219478e-03,\n",
       "        3.66513044e-01, -2.62986451e-01, -3.07345867e-01,  1.10691056e-01,\n",
       "       -2.26534843e-01,  3.49855691e-01, -2.60603964e-01, -5.33181190e-01,\n",
       "       -1.86144695e-01,  3.16140167e-02,  2.33554736e-01, -5.77430904e-01,\n",
       "        1.47163078e-01, -1.79697633e-01,  2.22824410e-01,  8.39377642e-02,\n",
       "        1.08884186e-01, -4.57598835e-01,  2.42946055e-02,  1.48134762e-02,\n",
       "       -9.79341745e-01, -1.67125672e-01,  1.38731692e-02,  3.91027123e-01,\n",
       "        3.26144814e-01,  2.65541553e-01, -1.18713856e-01,  2.35615708e-02,\n",
       "       -4.10504818e-01,  4.49168324e-01,  2.22163498e-01, -5.53819358e-01,\n",
       "        7.96577185e-02, -4.07691628e-01, -1.24645472e-01, -4.77276266e-01,\n",
       "        7.58503735e-01, -1.70136899e-01, -7.32321199e-03,  8.46999362e-02,\n",
       "       -3.21505815e-02,  4.30593379e-02, -2.97009289e-01, -2.27729768e-01,\n",
       "        3.38216931e-01, -2.21974701e-01, -1.78730162e-03,  5.63867927e-01,\n",
       "       -4.35446911e-02, -2.67710835e-01, -2.13028401e-01,  6.88289180e-02,\n",
       "        7.41445720e-02,  1.42762005e-01, -4.50044692e-01, -3.30579400e-01,\n",
       "        9.82306674e-02, -2.23393753e-01, -2.54473567e-01, -1.17652945e-01,\n",
       "       -4.89944220e-03,  1.38103679e-01,  2.50421226e-01,  9.06682238e-02,\n",
       "        4.49616551e-01,  7.46662393e-02,  7.09434986e-01,  3.52880150e-01,\n",
       "       -1.36035442e-01, -2.16923207e-01, -6.90685958e-02,  1.79532439e-01,\n",
       "        2.40002528e-01, -1.16145879e-01, -2.12491140e-01,  4.15058643e-01,\n",
       "        4.72037978e-02, -9.19516861e-01,  5.99745572e-01, -7.23254457e-02,\n",
       "       -1.01495117e-01,  9.17955637e-02, -2.75923368e-02, -2.42949533e-03,\n",
       "        7.43321180e-02,  4.30145347e-03, -6.74530208e-01, -4.90120828e-01,\n",
       "       -1.96112350e-01, -4.87502307e-01, -4.58652020e-01, -5.06150275e-02,\n",
       "        2.49601707e-01,  9.65367928e-02, -1.15766674e-01, -9.49132815e-02,\n",
       "        3.21130618e-03, -3.69993187e-02, -4.02507447e-02,  2.73789689e-02,\n",
       "       -2.35974923e-01, -2.25227937e-01, -9.93725955e-02,  1.00046039e-01,\n",
       "       -2.74637699e-01, -3.78238767e-01,  6.44666016e-01,  1.73913196e-01,\n",
       "       -4.81953740e-01, -7.36709461e-02, -7.96338201e-01,  3.46590281e-02,\n",
       "       -4.22436237e-01, -9.75529104e-02, -6.62733838e-02, -7.28013515e-01,\n",
       "        3.18003036e-02, -2.75571197e-01, -1.36536151e-01,  1.20954260e-01,\n",
       "        3.04635167e-01,  2.69181460e-01, -1.79680675e-01, -1.71052873e-01,\n",
       "        1.78375572e-01,  1.04429185e-01,  2.93569654e-01,  3.73499274e-01,\n",
       "       -1.05081372e-01,  3.26281697e-01, -1.94678515e-01, -1.55747190e-01,\n",
       "       -6.70274436e-01, -4.25540060e-01, -3.58826399e-01, -3.83924335e-01,\n",
       "        4.22355771e-01,  3.10272902e-01,  4.73600596e-01, -4.96556051e-02,\n",
       "        2.33689412e-01,  1.64043810e-02,  4.54141259e-01,  1.60723731e-01,\n",
       "        3.56366426e-01,  1.23495050e-01, -3.14848781e-01, -4.36212122e-01,\n",
       "       -6.54628932e-01,  2.73219675e-01, -2.79511094e-01,  3.17872912e-01,\n",
       "        1.68871447e-01, -9.41651687e-02,  2.82600760e-01,  4.11615640e-01,\n",
       "        6.05035946e-02,  1.19171329e-01, -5.26348412e-01, -2.09958926e-01,\n",
       "       -5.47414601e-01,  2.18218446e-01, -7.99449347e-03,  7.99474776e-01,\n",
       "        2.49708757e-01, -3.00727755e-01,  3.19955535e-02,  1.98897228e-01,\n",
       "       -1.06555648e-01, -3.84865195e-01,  4.94355634e-02, -4.03128773e-01,\n",
       "       -9.32716802e-02,  1.53287888e-01, -1.77549019e-01, -1.20735087e-01,\n",
       "       -7.22899914e-01,  2.02808574e-01,  4.14407372e-01,  1.12756111e-01,\n",
       "        2.27671921e-01, -3.60939763e-02,  3.09481531e-01, -8.72399751e-03,\n",
       "       -1.33919090e-01, -2.19121292e-01, -1.61253870e-01, -4.58731860e-01,\n",
       "        2.85808416e-03, -1.75984278e-01,  1.50609896e-01,  3.14618826e-01,\n",
       "       -2.04087824e-01,  7.06076846e-02, -1.05015792e-01, -3.37278634e-01,\n",
       "        1.11709543e-01,  1.35316506e-01, -1.05264045e-01,  1.37475997e-01,\n",
       "        2.30291605e-01,  1.21700101e-01, -4.68540788e-01, -4.97562774e-02,\n",
       "       -5.21608405e-02,  1.05437294e-01,  1.52040794e-01,  2.18447689e-02,\n",
       "       -9.89489034e-02, -2.93799788e-01, -1.26438692e-01, -4.49671559e-02,\n",
       "        6.56139553e-02,  9.64188948e-02, -1.05723105e-01, -3.78137916e-01,\n",
       "       -3.96349914e-02,  3.15774113e-01,  2.92671502e-01, -1.56143039e-01,\n",
       "       -7.79471314e-03, -2.88453937e-01, -9.39217359e-02, -2.21877232e-01,\n",
       "        2.73596317e-01,  3.10904123e-02,  1.53777227e-01, -8.33998203e-01,\n",
       "        8.44382107e-01,  2.84769863e-01, -1.75746202e-01, -1.02448322e-01,\n",
       "        7.99675286e-02, -3.64294469e-01, -4.15297300e-02, -5.76225258e-02,\n",
       "        1.49788424e-01, -1.66807190e-01, -2.25054637e-01, -3.72076154e-01,\n",
       "       -1.05310999e-01,  1.86789073e-02,  2.85745293e-01,  4.47342545e-01,\n",
       "       -5.81259513e-03,  1.87460586e-01,  2.93603003e-01, -2.81273216e-01,\n",
       "       -3.75457436e-01,  2.39495233e-01,  1.95500150e-01,  6.87385444e-03,\n",
       "        2.77479231e-01,  1.20097566e-02,  3.09138685e-01, -3.48797530e-01,\n",
       "       -2.91967869e-01,  6.20357037e-01,  9.48285684e-02, -2.49397069e-01,\n",
       "       -2.21483735e-03, -4.58256513e-01,  1.59008741e-01, -1.27955407e-01,\n",
       "        1.46019089e+00,  4.02022064e-01, -3.52173001e-02, -5.87682314e-02,\n",
       "       -7.11369097e-01,  5.06724790e-02,  1.12165317e-01, -1.68436408e-01,\n",
       "        2.51819193e-01,  4.52077985e-02, -5.22822998e-02, -8.07891972e-03,\n",
       "        1.30023554e-01, -5.26638567e-01,  2.95470208e-01, -2.14844793e-01,\n",
       "        7.12604895e-02,  4.42759365e-01,  9.32722539e-02,  2.92015582e-01,\n",
       "       -3.62275243e-01, -1.19567901e-01, -6.00932181e-01,  2.81804860e-01,\n",
       "        4.53440762e+00,  7.97188163e-01,  1.11551553e-01,  4.96707290e-01,\n",
       "        1.79026440e-01,  9.55087766e-02,  2.07035735e-01, -3.94215763e-01,\n",
       "       -3.78616452e-01, -3.63833070e-01, -1.71908867e-02, -5.22456169e-01,\n",
       "        8.11738297e-02,  1.64844587e-01,  1.48814190e-02, -2.35769704e-01,\n",
       "       -2.60521859e-01,  3.97510499e-01, -1.76463559e-01, -3.37679535e-01,\n",
       "       -9.58035365e-02, -6.39655232e-01,  1.76313818e-01, -3.03508509e-02,\n",
       "       -1.50748253e-01, -5.70270181e-01, -1.55105606e-01,  3.24461274e-02,\n",
       "        2.85032570e-01, -2.09615737e-01,  1.34806782e-01, -3.64376724e-01,\n",
       "       -2.80678660e-01,  1.25599414e-01,  1.46828294e-01,  3.32040220e-01,\n",
       "       -3.71954560e-01,  3.87689173e-02, -8.70889425e-02, -1.26996309e-01,\n",
       "       -2.48856887e-01, -3.24973047e-01,  1.82316095e-01, -1.96771864e-02,\n",
       "        1.59787491e-01,  7.32263271e-03, -2.41560996e-01, -1.91979423e-01,\n",
       "       -4.38803881e-01,  2.25334838e-02, -2.01957449e-01, -3.80192369e-01,\n",
       "       -3.19670737e-01, -7.45847151e-02, -9.95827094e-02,  3.57839495e-01,\n",
       "       -3.68127495e-01, -5.96112991e-03, -6.58707470e-02,  5.12391925e-01,\n",
       "        1.92892030e-01,  2.14444742e-01, -3.04206371e-01, -2.71782607e-01,\n",
       "        4.92886975e-02, -9.20289338e-01,  1.09283246e-01, -6.60107881e-02,\n",
       "       -1.98436946e-01,  4.03715037e-02,  1.60245478e-01,  2.71286547e-01,\n",
       "        6.65099144e-01,  7.21906200e-02,  3.99987876e-01, -3.64576221e-01,\n",
       "       -9.41329519e-04,  1.29623473e-01,  6.18095919e-02, -3.88998091e-01,\n",
       "       -2.24497750e-01, -1.69292212e-01, -7.45420396e-01,  3.03818643e-01,\n",
       "        1.58749986e-02, -1.90964177e-01,  3.67096573e-01,  1.01744018e-01,\n",
       "        1.78295031e-01, -1.65119573e-01, -1.96136087e-01,  2.32268199e-01,\n",
       "       -2.53958255e-01,  1.33720040e-01,  1.58398941e-01, -6.72813912e-04,\n",
       "        3.42899352e-01, -2.86205053e-01,  1.16544634e-01,  3.51134576e-02,\n",
       "        2.57225573e-01,  3.07527184e-01, -1.51243359e-01, -2.37714127e-01,\n",
       "       -1.64658725e-01,  1.19849660e-01,  3.13558429e-01, -4.55355868e-02,\n",
       "        5.92740178e-02, -3.72225821e-01, -5.32060802e-01, -1.07775107e-01,\n",
       "        5.18565893e-01,  2.05217898e-01, -1.10245533e-01, -4.30193841e-01,\n",
       "        4.31004316e-01, -1.88014179e-01, -3.51466060e-01, -5.67358017e-01,\n",
       "        5.07378317e-02, -8.63632739e-01,  1.10076718e-01, -1.84740794e+00,\n",
       "        3.92964602e-01,  8.12255661e-04, -2.56229758e-01,  5.59141755e-01,\n",
       "        2.89576203e-01,  2.89689690e-01,  7.02646449e-02, -4.27760184e-01,\n",
       "       -6.23985343e-02,  3.91496792e-02, -5.00824710e-04, -4.72335279e-01,\n",
       "       -3.01245660e-01, -1.55528641e+00,  2.68376678e-01,  1.98327601e-01,\n",
       "        9.95928124e-02,  2.60033071e-01, -1.63427711e-01,  7.07145706e-02,\n",
       "        6.68286905e-02, -5.57654770e-03, -5.41630805e-01, -1.71024010e-01,\n",
       "        1.51251808e-01,  1.21421218e-01,  2.27936372e-01, -8.21600258e-01,\n",
       "        2.26389810e-01,  7.18897760e-01,  5.61210871e+00, -1.65752172e-01,\n",
       "        7.11838841e-01,  1.49948046e-01,  5.35005033e-01, -3.46322268e-01,\n",
       "       -1.88220397e-01,  6.62184507e-02,  2.09409133e-01,  9.27777961e-02,\n",
       "        3.92551661e-01,  4.18290161e-02,  2.96178997e-01, -5.01946732e-02,\n",
       "       -3.68921697e-01,  1.37249544e-01, -5.22431970e-01,  1.00047924e-01,\n",
       "        1.80553883e-01,  3.63234952e-02, -2.84324493e-02, -1.16589203e-01,\n",
       "        1.13645740e-01,  1.35680009e-02, -1.96135268e-01, -4.40676391e-01,\n",
       "       -2.73419749e-02, -4.75281507e-01,  5.85189044e-01,  2.45736554e-01,\n",
       "       -7.87400782e-01,  7.76183382e-02,  4.11622114e-02,  1.65803865e-01,\n",
       "       -1.45248815e-01,  5.71172774e-01,  1.15945883e-01,  1.02025963e-01,\n",
       "        8.27489123e-02,  1.27264395e-01, -2.55404443e-01, -5.10537148e-01,\n",
       "       -6.40067831e-02,  3.35612521e-02,  2.95518041e-01,  1.86820298e-01,\n",
       "        5.31080782e-01, -3.47209573e-02,  4.56400543e-01, -9.96351242e-04])"
      ]
     },
     "execution_count": 15,
     "metadata": {},
     "output_type": "execute_result"
    }
   ],
   "source": [
    "def embed_sentences(sentences):\n",
    "    arr_embedding = np.zeros((MAX_SENT_N, 3072))\n",
    "    for i, sentence in enumerate(sentences):\n",
    "        if len(sentence) > 0 and i < MAX_SENT_N:\n",
    "            sent = Sentence(sentence[:MAX_WORD_SENT_N])\n",
    "\n",
    "            albert_embedding.embed(sent)\n",
    "            x = sent.get_embedding()\n",
    "            x = x.to('cpu').detach().numpy()\n",
    "            arr_embedding[i] = x\n",
    "    \n",
    "    return arr_embedding\n",
    "\n",
    "embed_sentences(split_in_sentences(test_df.articles[0]))[0]"
   ]
  },
  {
   "cell_type": "code",
   "execution_count": 17,
   "metadata": {},
   "outputs": [],
   "source": [
    "def transform_to_numpy(ds):\n",
    "    len_ds = len(ds)\n",
    "    article_np = np.zeros((len_ds, 30, 3072))\n",
    "    \n",
    "    highlight_list = []\n",
    "    n_highlight_list = []\n",
    "    \n",
    "    for i, (article, highlight) in ds.iterrows():\n",
    "        article_sent = split_in_sentences(article)\n",
    "        article_np[i] = embed_sentences(article_sent)\n",
    "        \n",
    "        highlight_ids = np.array(get_ids_from_vocab(highlight))[:MAX_WORD_N]\n",
    "                                 \n",
    "        highlight_list.append(highlight_ids)\n",
    "        n_highlight_list.append(highlight_ids.shape[0]) \n",
    "        \n",
    "    return article_np, n_highlight_list, highlight_list\n",
    "\n",
    "# t_df = test_df[:100]\n",
    "# article_np, n_highlights, highlights = transform_to_numpy(t_df)"
   ]
  },
  {
   "cell_type": "code",
   "execution_count": 19,
   "metadata": {},
   "outputs": [],
   "source": [
    "def compute_and_save_df(df, name):\n",
    "    article_np, n_highlights, highlights = transform_to_numpy(df)\n",
    "\n",
    "    path = \"data/%s\" % (name)\n",
    "    if not os.path.exists(path):\n",
    "        os.mkdir(path)\n",
    "    np.save(str(path + \"/article\" + \".npy\"), article_np)\n",
    "    np.save(str(path + \"/n_highlights\" + \".npy\"), n_highlights)\n",
    "    np.save(str(path + \"/highlights\" + \".npy\"), highlights)\n",
    "\n",
    "# compute_and_save_df(t_df, \"test\")"
   ]
  },
  {
   "cell_type": "code",
   "execution_count": 22,
   "metadata": {},
   "outputs": [],
   "source": [
    "compute_and_save_df(test_df, \"test\")"
   ]
  },
  {
   "cell_type": "code",
   "execution_count": 23,
   "metadata": {
    "pycharm": {
     "name": "#%%\n"
    }
   },
   "outputs": [],
   "source": [
    "compute_and_save_df(val_df, \"val\")"
   ]
  },
  {
   "cell_type": "markdown",
   "metadata": {
    "pycharm": {
     "name": "#%% md\n"
    }
   },
   "source": [
    "### Define Pytorch Dataset and Dataloader"
   ]
  },
  {
   "cell_type": "code",
   "execution_count": 8,
   "metadata": {},
   "outputs": [],
   "source": [
    "def load_np_files(name):\n",
    "    path = \"data/%s\" % (name)\n",
    "    \n",
    "    article_np = np.load(str(path + \"/article\" + \".npy\"), allow_pickle=True)\n",
    "    n_highlights = np.load(str(path + \"/n_highlights\" + \".npy\"), allow_pickle=True)\n",
    "    highlights = np.load(str(path + \"/highlights\" + \".npy\"), allow_pickle=True)\n",
    "    \n",
    "    return article_np, n_highlights, highlights\n",
    "# x,y,z = load_np_files(\"test\")\n",
    "# x.shape"
   ]
  },
  {
   "cell_type": "code",
   "execution_count": 21,
   "metadata": {},
   "outputs": [],
   "source": [
    "class MyDataset(torch.utils.data.Dataset):\n",
    "    def __init__(self, article, n_highlights, highlights,transform=None):\n",
    "        self.x = self.to_tensor_list(article, dtype=torch.float)\n",
    "        \n",
    "        self.y_n = torch.tensor(n_highlights, dtype=torch.long)\n",
    "        self.y = self.to_tensor_list(highlights, dtype=torch.long, pad=MAX_WORD_N)\n",
    "        \n",
    "    def __getitem__(self, index):\n",
    "        x = self.x[index]\n",
    "        y_n = self.y_n[index]\n",
    "        y = self.y[index]\n",
    "            \n",
    "        return x, y_n, y\n",
    "    \n",
    "    @staticmethod\n",
    "    def to_tensor_list(x, dtype, pad=None):\n",
    "\n",
    "        if pad is None:\n",
    "            tensor_list = [torch.tensor(x_i, dtype=dtype) for x_i in x]\n",
    "        else:\n",
    "            tensor_list = [torch.cat((torch.tensor(x_i[:MAX_WORD_N], dtype=dtype), \\\n",
    "                                      torch.zeros(pad - x_i[:MAX_WORD_N].shape[0], dtype=dtype))) for x_i in x]\n",
    "               \n",
    "        return tensor_list\n",
    "    \n",
    "    def __len__(self):\n",
    "        return len(self.x)"
   ]
  },
  {
   "cell_type": "code",
   "execution_count": 22,
   "metadata": {},
   "outputs": [],
   "source": [
    "def load_torch_dataset(name):\n",
    "    x,y,z = load_np_files(name)\n",
    "    return MyDataset(x,y,z)"
   ]
  },
  {
   "cell_type": "code",
   "execution_count": 23,
   "metadata": {},
   "outputs": [],
   "source": [
    "# train_ds = MyDataset(train_np)\n",
    "test_ds = load_torch_dataset(\"test\")\n",
    "train_ds = load_torch_dataset(\"val\")"
   ]
  },
  {
   "cell_type": "code",
   "execution_count": 24,
   "metadata": {
    "pycharm": {
     "name": "#%%\n"
    }
   },
   "outputs": [],
   "source": [
    "# we have diffrent a dynamix input, which the Dataloader can't put together in a batch\n",
    "BATCHSIZE = 10\n",
    "train_loader = torch.utils.data.DataLoader(train_ds, batch_size=BATCHSIZE)\n",
    "test_loader = torch.utils.data.DataLoader(test_ds, batch_size=BATCHSIZE)"
   ]
  },
  {
   "cell_type": "markdown",
   "metadata": {
    "pycharm": {
     "name": "#%% md\n"
    }
   },
   "source": [
    "## Define Decoder\n",
    "- https://towardsdatascience.com/how-to-code-the-transformer-in-pytorch-24db27c8f9ec\n",
    "- https://pytorch.org/tutorials/beginner/transformer_tutorial.html"
   ]
  },
  {
   "cell_type": "code",
   "execution_count": 31,
   "metadata": {},
   "outputs": [],
   "source": [
    "class PositionalEncoding(nn.Module):\n",
    "\n",
    "    def __init__(self, d_model, dropout=0.1, max_len=30000):\n",
    "        super(PositionalEncoding, self).__init__()\n",
    "        self.dropout = nn.Dropout(p=dropout)\n",
    "\n",
    "        pe = torch.zeros(max_len, d_model)\n",
    "        position = torch.arange(0, max_len, dtype=torch.float).unsqueeze(1)\n",
    "        div_term = torch.exp(torch.arange(0, d_model, 2).float() * (-math.log(10000.0) / d_model))\n",
    "        pe[:, 0::2] = torch.sin(position * div_term)\n",
    "        pe[:, 1::2] = torch.cos(position * div_term)\n",
    "        pe = pe.unsqueeze(0).transpose(0, 1)\n",
    "        self.register_buffer('pe', pe)\n",
    "\n",
    "    def forward(self, x):\n",
    "        x = x + self.pe[:x.size(0), :]\n",
    "        return self.dropout(x)"
   ]
  },
  {
   "cell_type": "code",
   "execution_count": 187,
   "metadata": {
    "pycharm": {
     "name": "#%%\n"
    }
   },
   "outputs": [],
   "source": [
    "class ContextDecoder(nn.Module):\n",
    "    def __init__(self, max_sent, d_model, nhead, dim_feedforward, out_dim=150, dropout=0.1):\n",
    "        super().__init__()\n",
    "        self.max_sent = max_sent\n",
    "        transfrom_decode_layer = nn.TransformerDecoderLayer(d_model, nhead, dim_feedforward,\\\n",
    "                                                            dropout=dropout, activation='relu')\n",
    "        \n",
    "        self.transformer_decoder = nn.TransformerDecoder(transfrom_decode_layer, num_layers=1)\n",
    "        self.out_put_layer = nn.Linear(3072, out_dim*200)\n",
    "        \n",
    "        \n",
    "    def forward(self, context, mask=None):\n",
    "        # dims\n",
    "        bs = context.shape[0]\n",
    "        dim_context = context.shape[2]\n",
    "        \n",
    "        context_memory = torch.zeros(context[:,0,:].shape).to(device).reshape(bs,1,dim_context)\n",
    "       \n",
    "        for i in range(self.max_sent):\n",
    "            context_memory = self.transformer_decoder(context[:,0,:].reshape(bs,1,dim_context), context_memory)\n",
    "        \n",
    "        # reshape\n",
    "        context_memory = context_memory.reshape(bs, dim_context)\n",
    "        out = self.out_put_layer(context_memory).reshape(-1,150,200)\n",
    "        return out\n",
    "    \n",
    "\n",
    "\n",
    "class TransformerModel(nn.Module):\n",
    "\n",
    "    def __init__(self, n_vocab, emsize, nhead, nhid, nlayers, max_sent=30, c_d_model=3072, dropout=0.2):\n",
    "        \"\"\"\n",
    "        @param n_vocab: vocab_size\n",
    "        @param emsize: embedding size\n",
    "        @param nhead: the number of heads in the multiheadattention models\n",
    "        @param nhid: the dimension of the feedforward network model in nn.TransformerEncoder\n",
    "        @param nlayers: the number of nn.TransformerEncoderLayer in nn.TransformerEncoder\n",
    "        @param dropout: the dropout value\n",
    "        \"\"\"\n",
    "        super(TransformerModel, self).__init__()\n",
    "        \n",
    "        from torch.nn import TransformerEncoder, TransformerEncoderLayer\n",
    "        self.model_type = 'Transformer'\n",
    "        self.src_mask = None\n",
    "        self.pos_encoder = PositionalEncoding(emsize, dropout)\n",
    "        \n",
    "        encoder_layers = TransformerEncoderLayer(emsize, nhead, nhid, dropout)\n",
    "        \n",
    "        self.transformer_encoder = TransformerEncoder(encoder_layers, nlayers)\n",
    "        self.encoder = nn.Embedding(n_vocab, emsize)\n",
    "        self.emsize = emsize\n",
    "        self.decoder = nn.Linear(emsize, n_vocab)\n",
    "        self.context_decoder = ContextDecoder(max_sent, c_d_model, nhead, nhid, dropout=dropout)\n",
    "        self.init_weights()\n",
    "\n",
    "    def _generate_square_subsequent_mask(self, sz):\n",
    "        mask = (torch.triu(torch.ones(sz, sz)) == 1).transpose(0, 1)\n",
    "        mask = mask.float().masked_fill(mask == 0, float('-inf')).masked_fill(mask == 1, float(0.0))\n",
    "        return mask\n",
    "\n",
    "    def init_weights(self):\n",
    "        initrange = 0.1\n",
    "        self.encoder.weight.data.uniform_(-initrange, initrange)\n",
    "        self.decoder.bias.data.zero_()\n",
    "        self.decoder.weight.data.uniform_(-initrange, initrange)\n",
    "\n",
    "    def forward(self, src, context):\n",
    "        if self.src_mask is None or self.src_mask.size(0) != len(src):\n",
    "            device = src.device\n",
    "            mask = self._generate_square_subsequent_mask(len(src)).to(device)\n",
    "            self.src_mask = mask\n",
    "\n",
    "        src = self.encoder(src) * math.sqrt(self.emsize)\n",
    "        src = self.pos_encoder(src)\n",
    "        output = self.transformer_encoder(src, self.src_mask)\n",
    "        context_sum = self.context_decoder(context)\n",
    "        output += context_sum\n",
    "        output = self.decoder(output)\n",
    "#         print(\"output\", output.shape)\n",
    "        return output\n",
    "    "
   ]
  },
  {
   "cell_type": "markdown",
   "metadata": {
    "pycharm": {
     "name": "#%% md\n"
    }
   },
   "source": [
    "# Train"
   ]
  },
  {
   "cell_type": "code",
   "execution_count": 188,
   "metadata": {},
   "outputs": [],
   "source": [
    "n_vocab = 30000"
   ]
  },
  {
   "cell_type": "code",
   "execution_count": 189,
   "metadata": {},
   "outputs": [],
   "source": [
    "model = TransformerModel(n_vocab=n_vocab, emsize=200, nhead=2, nhid=200,\\\n",
    "                         nlayers=1, max_sent=30, c_d_model=3072, dropout=0.2).to(device)"
   ]
  },
  {
   "cell_type": "code",
   "execution_count": 190,
   "metadata": {},
   "outputs": [],
   "source": [
    "criterion = nn.CrossEntropyLoss()\n",
    "lr = 5.0 # learning rate\n",
    "optimizer = torch.optim.SGD(model.parameters(), lr=lr)\n",
    "scheduler = torch.optim.lr_scheduler.StepLR(optimizer, 1.0, gamma=0.95)"
   ]
  },
  {
   "cell_type": "code",
   "execution_count": 191,
   "metadata": {},
   "outputs": [
    {
     "name": "stdout",
     "output_type": "stream",
     "text": [
      "src torch.Size([10, 150, 200])\n",
      "output torch.Size([10, 150, 30000])\n"
     ]
    },
    {
     "ename": "TypeError",
     "evalue": "view(): argument 'size' must be tuple of ints, but found element of type Tensor at pos 2",
     "output_type": "error",
     "traceback": [
      "\u001b[0;31m---------------------------------------------------------------------------\u001b[0m",
      "\u001b[0;31mTypeError\u001b[0m                                 Traceback (most recent call last)",
      "\u001b[0;32m<ipython-input-191-eb55e156e487>\u001b[0m in \u001b[0;36m<module>\u001b[0;34m\u001b[0m\n\u001b[1;32m     12\u001b[0m         \u001b[0moptimizer\u001b[0m\u001b[0;34m.\u001b[0m\u001b[0mzero_grad\u001b[0m\u001b[0;34m(\u001b[0m\u001b[0;34m)\u001b[0m\u001b[0;34m\u001b[0m\u001b[0;34m\u001b[0m\u001b[0m\n\u001b[1;32m     13\u001b[0m         \u001b[0moutput\u001b[0m \u001b[0;34m=\u001b[0m \u001b[0mmodel\u001b[0m\u001b[0;34m(\u001b[0m\u001b[0my\u001b[0m\u001b[0;34m,\u001b[0m \u001b[0mx\u001b[0m\u001b[0;34m)\u001b[0m\u001b[0;34m\u001b[0m\u001b[0;34m\u001b[0m\u001b[0m\n\u001b[0;32m---> 14\u001b[0;31m         \u001b[0mloss\u001b[0m \u001b[0;34m=\u001b[0m \u001b[0mcriterion\u001b[0m\u001b[0;34m(\u001b[0m\u001b[0moutput\u001b[0m\u001b[0;34m.\u001b[0m\u001b[0mview\u001b[0m\u001b[0;34m(\u001b[0m\u001b[0;34m-\u001b[0m\u001b[0;36m1\u001b[0m\u001b[0;34m,\u001b[0m \u001b[0mn\u001b[0m\u001b[0;34m)\u001b[0m\u001b[0;34m,\u001b[0m \u001b[0my\u001b[0m\u001b[0;34m)\u001b[0m\u001b[0;34m\u001b[0m\u001b[0;34m\u001b[0m\u001b[0m\n\u001b[0m\u001b[1;32m     15\u001b[0m         \u001b[0mloss\u001b[0m\u001b[0;34m.\u001b[0m\u001b[0mbackward\u001b[0m\u001b[0;34m(\u001b[0m\u001b[0;34m)\u001b[0m\u001b[0;34m\u001b[0m\u001b[0;34m\u001b[0m\u001b[0m\n\u001b[1;32m     16\u001b[0m         \u001b[0mtorch\u001b[0m\u001b[0;34m.\u001b[0m\u001b[0mnn\u001b[0m\u001b[0;34m.\u001b[0m\u001b[0mutils\u001b[0m\u001b[0;34m.\u001b[0m\u001b[0mclip_grad_norm_\u001b[0m\u001b[0;34m(\u001b[0m\u001b[0mmodel\u001b[0m\u001b[0;34m.\u001b[0m\u001b[0mparameters\u001b[0m\u001b[0;34m(\u001b[0m\u001b[0;34m)\u001b[0m\u001b[0;34m,\u001b[0m \u001b[0;36m0.5\u001b[0m\u001b[0;34m)\u001b[0m\u001b[0;34m\u001b[0m\u001b[0;34m\u001b[0m\u001b[0m\n",
      "\u001b[0;31mTypeError\u001b[0m: view(): argument 'size' must be tuple of ints, but found element of type Tensor at pos 2"
     ]
    }
   ],
   "source": [
    "EPOCHS = 1\n",
    "\n",
    "for i in range(EPOCHS):\n",
    "    model.train() \n",
    "    total_loss = 0.\n",
    "    start_time = time.time()\n",
    "    for i, (x, n, y) in enumerate(train_loader):\n",
    "        x = x.to(device)\n",
    "        n = n.to(device)\n",
    "        y = y.to(device)\n",
    "        \n",
    "        optimizer.zero_grad()\n",
    "        output = model(y, x)\n",
    "        loss = criterion(output.view(-1, n), y)\n",
    "        loss.backward()\n",
    "        torch.nn.utils.clip_grad_norm_(model.parameters(), 0.5)\n",
    "        optimizer.step()\n",
    "\n",
    "        total_loss += loss.item()\n",
    "        log_interval = 200\n",
    "        if batch % log_interval == 0 and batch > 0:\n",
    "            cur_loss = total_loss / log_interval\n",
    "            elapsed = time.time() - start_time\n",
    "            print('| epoch {:3d} | {:5d}/{:5d} batches | '\n",
    "                  'lr {:02.2f} | ms/batch {:5.2f} | '\n",
    "                  'loss {:5.2f} | ppl {:8.2f}'.format(\n",
    "                    epoch, batch, len(train_data) // bptt, scheduler.get_lr()[0],\n",
    "                    elapsed * 1000 / log_interval,\n",
    "                    cur_loss, math.exp(cur_loss)))\n",
    "            total_loss = 0\n",
    "            start_time = time.time()\n",
    "        break"
   ]
  },
  {
   "cell_type": "code",
   "execution_count": 104,
   "metadata": {
    "pycharm": {
     "name": "#%%\n"
    }
   },
   "outputs": [
    {
     "data": {
      "text/plain": [
       "torch.Size([150])"
      ]
     },
     "execution_count": 104,
     "metadata": {},
     "output_type": "execute_result"
    }
   ],
   "source": [
    "x = torch.zeros((150)).view((-1))\n",
    "x.shape"
   ]
  },
  {
   "cell_type": "code",
   "execution_count": 176,
   "metadata": {
    "pycharm": {
     "name": "#%%\n"
    }
   },
   "outputs": [
    {
     "name": "stdout",
     "output_type": "stream",
     "text": [
      "torch.Size([10, 150, 200])\n"
     ]
    }
   ],
   "source": [
    "m = nn.Linear(3072, (150*200))\n",
    "input = torch.randn(10, 3072)\n",
    "output = m(input).view(-1, 150, 200)\n",
    "print(output.size())"
   ]
  },
  {
   "cell_type": "code",
   "execution_count": null,
   "metadata": {},
   "outputs": [],
   "source": []
  },
  {
   "cell_type": "code",
   "execution_count": null,
   "metadata": {},
   "outputs": [],
   "source": []
  },
  {
   "cell_type": "code",
   "execution_count": null,
   "metadata": {},
   "outputs": [],
   "source": []
  }
 ],
 "metadata": {
  "kernelspec": {
   "display_name": "myenv",
   "language": "python",
   "name": "myenv"
  },
  "language_info": {
   "codemirror_mode": {
    "name": "ipython",
    "version": 3
   },
   "file_extension": ".py",
   "mimetype": "text/x-python",
   "name": "python",
   "nbconvert_exporter": "python",
   "pygments_lexer": "ipython3",
   "version": "3.7.5"
  }
 },
 "nbformat": 4,
 "nbformat_minor": 2
}
