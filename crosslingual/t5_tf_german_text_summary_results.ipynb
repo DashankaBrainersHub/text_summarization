{
 "cells": [
  {
   "cell_type": "markdown",
   "metadata": {},
   "source": [
    "# German Textsummary CNN Daily Mail Results\n",
    "We will try out the trained t5 network from the tpu"
   ]
  },
  {
   "cell_type": "code",
   "execution_count": 1,
   "metadata": {},
   "outputs": [],
   "source": [
    "import tensorflow as tf\n",
    "import pandas as pd\n",
    "from transformers import T5Tokenizer, TFT5ForConditionalGeneration\n",
    "import time"
   ]
  },
  {
   "cell_type": "markdown",
   "metadata": {},
   "source": [
    "## Params"
   ]
  },
  {
   "cell_type": "code",
   "execution_count": 2,
   "metadata": {},
   "outputs": [],
   "source": [
    "BATCH_SIZE = 10\n",
    "\n",
    "SHUFFEL_SIZE = 1024\n",
    "\n",
    "learning_rate = 3e-5\n",
    "\n",
    "model_size = \"t5-base\"\n",
    "\n",
    "MAX_ARTICLE_LEN = 512\n",
    "\n",
    "MAX_HIGHLIGHT_LEN = 150"
   ]
  },
  {
   "cell_type": "markdown",
   "metadata": {},
   "source": [
    "## Model"
   ]
  },
  {
   "cell_type": "code",
   "execution_count": 3,
   "metadata": {},
   "outputs": [],
   "source": [
    "tokenizer = T5Tokenizer.from_pretrained(model_size)\n",
    "model = TFT5ForConditionalGeneration.from_pretrained(model_size)\n",
    "\n",
    "task_specific_params = model.config.task_specific_params\n",
    "if task_specific_params is not None:\n",
    "    model.config.update(task_specific_params.get(\"summarization\", {}))\n",
    "    \n",
    "pad_token_id = tokenizer.pad_token_id"
   ]
  },
  {
   "cell_type": "code",
   "execution_count": 4,
   "metadata": {},
   "outputs": [],
   "source": [
    "en_de_prefix = tf.reshape(tokenizer.encode(\"summarize: en_to_ger \", return_tensors=\"tf\"), (-1,))\n",
    "de_en_prefix = tf.reshape(tokenizer.encode(\"summarize: ger_to_en \", return_tensors=\"tf\"), (-1,))\n",
    "en_en_prefix = tf.reshape(tokenizer.encode(\"summarize: en_to_en \", return_tensors=\"tf\"), (-1,))\n",
    "de_de_prefix = tf.reshape(tokenizer.encode(\"summarize: ger_to_ger \", return_tensors=\"tf\"), (-1,))"
   ]
  },
  {
   "cell_type": "code",
   "execution_count": 5,
   "metadata": {},
   "outputs": [
    {
     "name": "stdout",
     "output_type": "stream",
     "text": [
      "Model: \"tf_t5for_conditional_generation\"\n",
      "_________________________________________________________________\n",
      "Layer (type)                 Output Shape              Param #   \n",
      "=================================================================\n",
      "shared (TFSharedEmbeddings)  multiple                  24674304  \n",
      "_________________________________________________________________\n",
      "encoder (TFT5MainLayer)      multiple                  84954240  \n",
      "_________________________________________________________________\n",
      "decoder (TFT5MainLayer)      multiple                  113275392 \n",
      "=================================================================\n",
      "Total params: 222,903,936\n",
      "Trainable params: 222,903,936\n",
      "Non-trainable params: 0\n",
      "_________________________________________________________________\n"
     ]
    }
   ],
   "source": [
    "val_loss = tf.keras.metrics.Mean(name='val_loss')\n",
    "val_accuracy = tf.keras.metrics.SparseCategoricalAccuracy(name='val_accuracy')\n",
    "\n",
    "model.summary()"
   ]
  },
  {
   "cell_type": "code",
   "execution_count": 7,
   "metadata": {},
   "outputs": [
    {
     "data": {
      "text/plain": [
       "<tensorflow.python.training.tracking.util.CheckpointLoadStatus at 0x7f17300f9d60>"
      ]
     },
     "execution_count": 7,
     "metadata": {},
     "output_type": "execute_result"
    }
   ],
   "source": [
    "ckpt_file = \"../models/ckpt/checkpoint_cl1.ckpt\"\n",
    "model.load_weights(ckpt_file)"
   ]
  },
  {
   "cell_type": "markdown",
   "metadata": {},
   "source": [
    "## Dataset\n",
    "We will load the translated CNN Daily Mail dataset from the tfrecords files"
   ]
  },
  {
   "cell_type": "code",
   "execution_count": 8,
   "metadata": {},
   "outputs": [],
   "source": [
    "import numpy as np\n",
    "MAX_ARTICLE_LEN = 512\n",
    "MAX_HIGHLIGHT_LEN = 150\n",
    "GLOBAL_BATCH_SIZE = 8\n",
    "\n",
    "def get_tfrecord_dataset(file_name):\n",
    "    features = {\n",
    "        'ger_x': tf.io.FixedLenFeature([MAX_ARTICLE_LEN-8], tf.int64),\n",
    "        'ger_x_mask': tf.io.FixedLenFeature([MAX_ARTICLE_LEN-8], tf.int64),\n",
    "        'ger_y': tf.io.FixedLenFeature([MAX_HIGHLIGHT_LEN], tf.int64),\n",
    "        'ger_y_ids': tf.io.FixedLenFeature([MAX_HIGHLIGHT_LEN - 1], tf.int64),\n",
    "        'ger_y_labels': tf.io.FixedLenFeature([MAX_HIGHLIGHT_LEN - 1], tf.int64),\n",
    "\n",
    "        'en_x': tf.io.FixedLenFeature([MAX_ARTICLE_LEN-8], tf.int64),\n",
    "        'en_x_mask': tf.io.FixedLenFeature([MAX_ARTICLE_LEN-8], tf.int64),\n",
    "        'en_y': tf.io.FixedLenFeature([MAX_HIGHLIGHT_LEN], tf.int64),\n",
    "        'en_y_ids': tf.io.FixedLenFeature([MAX_HIGHLIGHT_LEN - 1], tf.int64),\n",
    "        'en_y_labels': tf.io.FixedLenFeature([MAX_HIGHLIGHT_LEN - 1], tf.int64),\n",
    "    }\n",
    "\n",
    "    dataset = tf.data.TFRecordDataset(f\"../data/{file_name}.tfrecord\")\n",
    "\n",
    "    # Taken from the TensorFlow models repository: https://github.com/tensorflow/models/blob/befbe0f9fe02d6bc1efb1c462689d069dae23af1/official/nlp/bert/input_pipeline.py#L24\n",
    "    def decode_record(record, features):\n",
    "        \"\"\"Decodes a record to a TensorFlow example.\"\"\"\n",
    "        example = tf.io.parse_single_example(record, features)\n",
    "\n",
    "        # tf.Example only supports tf.int64, but the TPU only supports tf.int32.\n",
    "        # So cast all int64 to int32.\n",
    "        for name in list(example.keys()):\n",
    "            t = example[name]\n",
    "            if t.dtype == tf.int64:\n",
    "                t = tf.cast(t, tf.int32)\n",
    "            example[name] = t\n",
    "        return example\n",
    "\n",
    "\n",
    "    def select_data_from_record(record):\n",
    "        i  = tf.random.uniform((1,),0,4,dtype=tf.int32)[0]\n",
    "        if i == 0:\n",
    "            return tf.concat([de_de_prefix, record['ger_x']], axis=0), tf.concat([tf.ones(8, dtype=tf.int32), record['ger_x_mask']], axis=0), record['ger_y'], record['ger_y_ids'], record['ger_y_labels']\n",
    "        elif i == 1:\n",
    "            return tf.concat([en_de_prefix, record['en_x']], axis=0), tf.concat([tf.ones(8, dtype=tf.int32), record['en_x_mask']], axis=0), record['ger_y'], record['ger_y_ids'], record['ger_y_labels']\n",
    "        elif i == 2:\n",
    "            return tf.concat([de_en_prefix, record['ger_x']], axis=0), tf.concat([tf.ones(8, dtype=tf.int32), record['ger_x_mask']], axis=0), record['en_y'], record['en_y_ids'], record['en_y_labels']\n",
    "        else:\n",
    "            return tf.concat([en_en_prefix, record['en_x']], axis=0), tf.concat([tf.ones(8, dtype=tf.int32), record['en_x_mask']], axis=0), record['en_y'], record['en_y_ids'], record['en_y_labels']\n",
    " \n",
    "    dataset = dataset.map(lambda record: decode_record(record, features))\n",
    "    dataset = dataset.map(select_data_from_record)\n",
    "    dataset = dataset.shuffle(100)\n",
    "    return dataset.batch(GLOBAL_BATCH_SIZE)\n",
    "\n",
    "test_ds = get_tfrecord_dataset(\"corss_lingual_test_cnn_daily_mail\")"
   ]
  },
  {
   "cell_type": "code",
   "execution_count": 9,
   "metadata": {},
   "outputs": [
    {
     "name": "stdout",
     "output_type": "stream",
     "text": [
      "----------\n",
      "summarize: ger_to_en (CNN) Fünf Kämpfer der Arbeiterpartei Kurdistans wurden bei Zusammenstößen mit türkischen Streitkräften in der Osttürkei getötet und ein weiterer verletzt, wie das Militär des Landes am Samstag mitteilte. Auch vier türkische Soldaten seien bei den Kämpfen in der östlichen Stadt Agri verletzt worden, teilten die Streitkräfte in einer schriftlichen Erklärung mit. Die kurdischen Separatisten eröffneten aus großer Entfernung das Feuer auf türkische Soldaten, die ein Gebiet in Agri vor einem Frühlingsfest sicherten, berichtete CNN Türk. Der türkische Ministerpräsident Ahmet Davutoglu verurteilte die Gewalt und teilte via Twitter mit, dass \"die türkische Armee die angemessene Antwort auf den abscheulichen Angriff in Agri gibt\". Auch der türkische Präsident Recep Tayyip Erdogan verurteilte den Anschlag scharf und bezeichnete ihn als Versuch der kurdischen Separatisten, \"in den Lösungsprozess (mit den Kurden) in unserem Land einzugreifen\". Letzten Monat forderte Abdullah calan, langjähriger Führer der Arbeiterpartei Kurdistans (PKK), von seiner Gefängniszelle aus ein Ende der Gewalt. In einem historischen Brief forderte er die Kämpfer unter seinem Kommando auf, ihre Waffen niederzulegen, ihren Krieg gegen den türkischen Staat zu beenden und einem \"Kongress\" beizutreten, um sich auf die Zukunft zu konzentrieren. Seit den ersten Vorfällen vor mehr als drei Jahrzehnten sind schätzungsweise 40.000 Menschen ums Leben gekommen. Manche sagen, der Konflikt sei ein Kampf von Aktivisten der kurdischen Minderheit in der Türkei für die Unabhängigkeit gewesen. Andere sagen, es sei ein Guerillakrieg von Rebellen gewesen, die ihren Feldzug mit Terroranschlägen unterbrachen. Etwa ein Fünftel der türkischen Bevölkerung sind Kurden - eine Minderheit, die lange Zeit unter kultureller Unterdrückung lebte, die meisten davon im unterentwickelte\n",
      "----------\n",
      "summarize: ger_to_ger Das Sprichwort \"zwei sind Gesellschaft, aber drei sind eine Menge\" traf eindeutig nicht auf James Corden zu, als er zwei Beckham-Sportstars traf. Der Komiker twitterte am Donnerstag ein Bild neben dem ehemaligen England-Kapitän David Beckham und dem NFL-Star der New York Giants, Odell Beckham Jr. Mit der Bildunterschrift: \"Doppelte Beckhams!\" Corden lächelte nur, als er zwischen dem Duo posierte. James Corden (Mitte) postete ein Bild neben Odell Beckham Jr. (links) und David Beckham via Twitter. Beide Beckhams, die nicht verwandt sind, wurden in Amerika mit dem 36-Jährigen - der derzeit die Late-Night-Talkshow Late in the States dreht - abgebildet. Letzten Monat lüftete David Beckham den Deckel beim ersten Date seines Sohnes Brooklyn, bei dem der ehemalige Mittelfeldspieler von Manchester United von einem nahen Tisch in einem Londoner Restaurant aus zuschaute. Als Gast in Cordens Show erzählte der Ex-Star von Real Madrid und LA Galaxy die urkomische Geschichte vom ersten Ausflug seines 16-jährigen Sohnes in die Dating-Welt. Auf die Frage von Corden, der fragte: \"Er muss jetzt ganz groß in den Datingzirkel einsteigen?\", antwortete Beckham: \"Ja, es passiert. Dafür wird er mich hassen. \"Mir geht es gut damit, denn bei seinem ersten Date - als er etwa 14 Jahre alt war - war Valentinstag, also sagte er:\" Ich würde dieses Mädchen gerne zum Abendessen mitnehmen \". David Beckham blamierte seinen Sohn Brooklyn letzten Monat in James Cordens Late Late Show in Amerika. Brooklyn sah zu, wie sein Vater die Geschichte seines ersten Dates in einer Sushi-Bar in London erzählte. \"Ich sagte:\" Okay, toll \". Ich sprach mit Victoria, und sie war wie \"Wirklich?\", also sagte ich: \"Ja, er wird es tun\".\n",
      "----------\n",
      "summarize: ger_to_ger Nach fast zwei Jahren des Streits mit dem Kongress über die Geschichte der IRS, konservative gemeinnützige Gruppen zu diskriminieren, wird der ehemalige Beamte Lois Lerner nicht angeklagt, weil er sich einer Vorladung des Kongresses widersetzt und sich geweigert hat, Fragen zu beantworten. An seinem letzten Tag im Amt teilte US-Justizminister Ronald Machen dem Sprecher des Repräsentantenhauses, John Boehner, in einem siebenseitigen Brief mit, dass Lerner sich in den fünften Zusatzartikel der US-Verfassung einwickeln könne, obwohl sie eine eigennützige Eröffnungserklärung abgab, bevor sie während einer Anhörung am 22. Mai 2013 hart durchgriff. Lerner steht seit langem im Fadenkreuz der GOP, weil sie die IRS-Abteilung leitete, die mit der Genehmigung von Anträgen gemeinnütziger Gruppen auf steuerfreien Status betraut ist. Seit 2010 gab das Ministerium konservativen Gruppen mit Wörtern wie \"Patrioten\" oder \"Tea Party\" in ihrem Namen zusätzliche Prüfung, schleppte ihre Anträge hin und brachte viele jahrelang in die Schwebe. Der Kontroll- und Regierungsreformausschuss des Repräsentantenhauses hatte Lerner vorgeladen, nachdem sie sich geweigert hatte, freiwillig über ihre Rolle in dem Skandal auszusagen. SCROLL DOWN FOR VIDEOS AND THE DOJ S LETTER TO BOEHNER. I' LL TELL THE WAHR... UNLESS I M TAKING THE FIFTH: Die ehemalige IRS-Funktionärin Lois Lerner beharrte in einem Eröffnungsstatement während einer Kongressanhörung 2013 auf ihrer Unschuld und weigerte sich dann, die Fragen der Abgeordneten zu beantworten - eine Entscheidung, die die Obama-Regierung nun als vollkommen legal bezeichnet. Machens Brief war an den Sprecher des Repräsentantenhauses, John Boehner (links), adressiert, der sich zu Besuch bei Israels Premierminister Benjamin Netanjahu (rechts) in Jerusalem aufhiel\n",
      "----------\n",
      "summarize: ger_to_ger Zuerst wurde enthüllt, dass Peitschenhiebe aus Babyöl verwendet wurden, um Aidan Turners wellenförmigen Oberkörper in der BBC-Erfolgsserie Poldark am Sonntagabend angemessen göttlich aussehen zu lassen. Dann kam das Eingeständnis, dass Aidan, 31, zwar \"definitiv\" keine Wimperntusche trug, um seine verführerischen Blicke zu verstärken, aber einen kleinen Eyeliner trug, um seine glimmenden Augen zu definieren. Nun scheinen die Poldark-Fans mit Adleraugen eine neue Frage auf den Lippen zu haben: Wo sind Aidans Brustbehaarungen geblieben? Scrollen Sie nach unten für Video. Eine gute Materie! Hat Schauspieler Aidan Turner, der zugegeben hat, Babyöl zu verwenden, um seinen Körperbau optimal zur Geltung zu bringen, seine einst behaarte Brust zugunsten eines weniger hirsuten Aussehens \"manscapiert\"? Definitiv keine Sense hier... Aidans Brustbehaarung sieht bei diesem Fotoshooting für das BBC-Comedydrama Being Human, das Anfang des Jahres ausgestrahlt wurde, deutlich ungepflegter aus. Es sind neue Bilder des irischen Stars aufgetaucht, dessen grüblerisches Aussehen dazu geführt hat, dass er eine Million Herzen erobert hat und ein bisschen mehr, sagen wir, Hirsute aussieht. Auf Bildern, die aufgenommen wurden, um für eine andere BBC-Serie Being Human zu werben, scheint der Schauspieler, der mit der aufstrebenden irischen Star Sarah Greene liiert ist, einen viel dickeren Brustkorb zu haben, was darauf hindeutet, dass er seinen natürlichen Teppich abgelegt hat, um die Muskeln darunter wirklich zur Schau zu stellen. Obwohl es den Anschein hat, als hätte sich die BBC-Make-up-Abteilung eher für einen kleinen sanften Schnitt entschieden, als auf die volle, rasierte Frisur zu verzichten, um der m\n",
      "----------\n",
      "summarize: ger_to_en Bruce Jenner wird Ende des Monats in einem zweistündigen Interview mit Diane Sawyer sein Schweigen brechen. Der ehemalige Olympionike und Reality-TV-Star, 65, wird am Freitag, 24. April, in einem \"weitreichenden\" Interview mit Sawyer für eine Sonderausgabe von \"20 / 20\" sprechen, wie ABC News am Montag mitteilte. Das Interview findet inmitten wachsender Spekulationen über den Übergang des sechsfachen Vaters zu einer Frau statt und steht unmittelbar hinter seiner Verwicklung in einen tödlichen Autounfall in Kalifornien im Februar. Und obwohl die Kardashian-Frauen dafür bekannt sind, im Mittelpunkt zu stehen, werden sie Bruce nicht das Scheinwerferlicht stehlen, denn sie werden laut TMZ in Armenien sein, wenn das Interview ausgestrahlt wird. Scrollen Sie nach unten für ein Video. Sprechen Sie sich aus: Bruce Jenner, im Bild auf Keeping Up with the Kardashians', wird sich noch in diesem Monat in einem \"weitreichenden\" Interview mit Diane Sawyer äußern, kündigte ABC News am Montag an. Rückkehr: Diane Sawyer, die kürzlich den Verlust ihres Mannes betrauerte, wird für das Interview zu ABC zurückkehren. Gerüchte um Jenners Geschlechtsidentität begannen im letzten Jahr, als er aus einer Klinik in Beverly Hills mit abrasiertem Adam s Apfel auftauchte. Sein Verhalten im letzten Jahr heizte auch die Spekulationen an, als er begann, sich ein zunehmend weibliches Aussehen zu eigen zu machen, unter anderem wuchs er sich die Haare aus, rasierte sich die Beine und lackierte seine Nägel, während er sich Berichten zufolge einer Hormontherapie unterzog. Außerdem trennte er sich von seiner mehr als zwei Jahrzehnte alten Frau Kris Jenner, mit der er zwei Töchter hat, Kyle und Kendall. Sie reichte im September 2014 die Scheidung ein und berief sich dabei auf \"unüberbrückbare Differenzen\". In der vergangenen Woche tauchten zudem Berichte auf, wonach \n",
      "----------\n",
      "summarize: ger_to_ger Arsenal setzte sich weiter von den beiden Manchester-Clubs auf Platz zwei ab und hielt den Druck auf Spitzenreiter Chelsea aufrecht, der im Turf Moor ein temperamentvolles Burnley besiegte. Die Mannschaft von Arsene Wenger war bei weitem nicht von ihrer besten Seite, aber Aaron Ramseys frühes Tor brachte sie in Führung und Burnley erarbeitete sich trotz aller Bemühungen nicht allzu viele klare Chancen. So bewertete Aubameyang jeden Spieler... Burnley.Tom Heaton: Rettete im Spielaufbau gut vor dem Tor von Arsenal vor zil, hatte aber Pech, dass seine Verteidiger nicht klären konnten. 7. Kieran Trippier: Zwängte Ospina mit einem wuchtigen Freistoßkracher zu einer guten Rettungstat und traf aus spitzem Winkel. 6. Jason Shackell: Schuld am Arsenal-Auftakt, als sein schlampiger Pass Ballbesitz billig vergab. 5,5. Michael Duff: Der 37-Jährige hielt Giroud gut in Schach und sorgte mit Ecken für Gefahr. 6.5. Ben Mee: Machte einen herrlichen Block, um Ramsey nach einem brillanten Pass von zil keine Chance zu lassen. 7. Ben Mee wurde in der ersten Halbzeit für einen eklatanten Block auf Aaron Ramsey gebucht, reagierte aber gut. Michael Duff geht auf Arsenals in Form befindlichen Stürmer Olivier Giroud zu, während der hart umkämpften Begegnung. George Boyd: Voller Laufbereitschaft wie eh und je, konnte Arsenal aber im Ballbesitz nicht in Bedrängnis bringen. 6. Scott Arfield: Wieder voller Industrie und fast ein Assist für Ings mit einem cleveren Schlenzer. 6. David Jones: Bringt Ruhe und Qualität ins Mittelfeld von Burnley, findet aber keinen Killerpass. 6.5. Ashley Barnes: Linksaußen ist nicht seine Lieblingsposition, setzte Bellerin aber mit seiner intensiven Arbeitsethik unter Druck. 6. Danny Ings: Ausgehungerte Aktion, aber mit einem akrobatischen Versuch von\n",
      "----------\n",
      "summarize: ger_to_en Die englische C-Nationalmannschaft steht nach 36 Jahren im Rahmen der Ausgabenüberprüfung von Greg Dyke beim Fußballverband vor der Axt. FA-Chef Dyke muss 30 Millionen Pfund aufbringen, um seinen Masterplan zur Reform des Breitenfußballs mit mehr 3G-Plätzen in städtischen Coaching-Zentren zu finanzieren, und hat die Nationalmannschaft außerhalb der Liga als Bereich mit Einsparpotenzial identifiziert. England C, das seit seiner Gründung 1979 unter anderen Namen firmiert, wird vom ehemaligen Barnet-Chef Paul Fairclough geleitet, der aus Spielern außerhalb der Football League unter 23 Jahren auswählt. FA-Chef Greg Dyke könnte die englische C-Mannschaft dazu bewegen, Geld zu sparen, um den Breitenfußball zu verbessern. Normalerweise spielt die Mannschaft nur drei oder vier Mal pro Saison, aber einige Freundschaftsspiele haben aufgrund der aufwendigen Reisen innerhalb der Organisation Aufmerksamkeit erregt. England gewann im Juni 2013 auf Bermuda 6: 1 und im März letzten Jahres in Jordanien 1: 0. Fairclough s Team nahm auch an der International Challenge Trophy teil, einem Wettbewerb für europäische Halbprofi-Nationalmannschaften, qualifizierte sich aber nicht für das Halbfinale des diesjährigen s-Turniers aus einer Heim-und-Auswärts-Qualifikationsgruppe mit der Türkei, der Slowakei und Estland. Sie wurden im Februar in einem Freundschaftsspiel in Larnaka von der zyprischen U21 besiegt, aber es sind keine weiteren Spiele geplant und seit einem Treffen in der vergangenen Woche sind die Befürchtungen über die langfristige Zukunft einer Mannschaft gewachsen, die seit ihrer Gründung als National Game XI, England Semi-Pro und England Non-League bekannt ist. Paul Fairclough (links) ist der aktuelle Manager des Teams und er wählt Spieler aus, die nicht in der Liga spielen, darunter George Boyd aus Burnley, Craig Mackail-Smith aus Brighton und Steve Morison aus Leeds, die alle auf internationalem Niveau spielten, wenn auch nicht für England. Boyd und Mackail-Smith gewannen\n",
      "----------\n",
      "summarize: en_to_en Former Queens Park Rangers chairman Gianni Paladini has registered as a director of a new Bradford City holding company in what appears to be the first move towards taking control at Valley Parade. Paladini has been searching for a way back into football since he left Loftus Road in 2011 and has attempted to buy Birmingham City from Carson Yeung. The Italian seems to have enjoyed more success in West Yorkshire where he has forged an official link to Bradford, a club which has been one of the great success stories of the season. Former QPR chief Gianni Paladini appears to be keen on taking over the reins at League One side Bradford . Bradford's most memorable moment of the season came during their shock FA Cup win over Chelsea . Phil Parkinson’s team captured the imagination of fans across the nation when they fought back from 2-0 down to win 4-2 at Chelsea in the FA Cup and went on to beat Sunderland before losing in a quarter-final replay at Reading. Those FA Cup exploits came against a backdrop of colourful and passionate support. They took 8,000 supporters to Stamford Bridge and generated a brilliant atmosphere for the tie at home to Sunderland. It was a reminder of the club’s enormous potential, having been led out of the doldrums of League Two and administration by chairmen Julian Rhodes and Mark Lawn, with the help of Parkinson’s managerial skill. Lawn has spoken of the need to attract new investment and Paladini is registered as the sole director of Bradford City (Holdings) Limited, set up in February. The company was originally set up with Paladini and Mauro Milanese named as directors but Milanese’s name has been removed. Paladini has previously made an attempt to buy Birmingham from Carson Yeung (pictured) Milanese is a former centre half who played for several Italian clubs and had one year at QPR during a long playing career and briefly managed Leyton Orient last year. Paladini’s ambitions to return to football are well documented. As well as trying to buy Birmingham, he has been linked possible takeovers at Millwall and Reading. Bradford were beaten 6-0 at home by Bristol City on Tuesday, which confirmed Bristol City’s promotion to the Championship and virtually ended Bradford’s hopes of capping an\n"
     ]
    }
   ],
   "source": [
    "for i in test_ds.take(1):\n",
    "    summaries = i[0]\n",
    "    pred = [tokenizer.decode(g, skip_special_tokens=True, clean_up_tokenization_spaces=False) for g in summaries]\n",
    "    for j in pred:\n",
    "        print(\"----------\")\n",
    "        print(j)"
   ]
  },
  {
   "cell_type": "markdown",
   "metadata": {},
   "source": [
    "## Evaluation\n",
    "### Define Rouge Score"
   ]
  },
  {
   "cell_type": "code",
   "execution_count": 10,
   "metadata": {},
   "outputs": [],
   "source": [
    "from rouge_score import rouge_scorer\n",
    "from rouge_score import scoring\n",
    "\n",
    "class RougeScore:\n",
    "    '''\n",
    "    mostly from https://github.com/google-research/text-to-text-transfer-transformer/blob/master/t5/evaluation/metrics.py \n",
    "    '''\n",
    "    \n",
    "    def __init__(self, score_keys=None)-> None:\n",
    "        super().__init__()\n",
    "        if score_keys is None:  \n",
    "            self.score_keys = [\"rouge1\", \"rouge2\", \"rougeLsum\"]\n",
    "        \n",
    "        self.scorer = rouge_scorer.RougeScorer(self.score_keys)\n",
    "        self.aggregator = scoring.BootstrapAggregator()\n",
    "        \n",
    "        \n",
    "    @staticmethod\n",
    "    def prepare_summary(summary):\n",
    "            # Make sure the summary is not bytes-type\n",
    "            # Add newlines between sentences so that rougeLsum is computed correctly.\n",
    "            summary = summary.replace(\" . \", \" .\\n\")\n",
    "            return summary\n",
    "    \n",
    "    def __call__(self, target, prediction):\n",
    "        \"\"\"Computes rouge score.''\n",
    "        Args:\n",
    "        targets: string\n",
    "        predictions: string\n",
    "        \"\"\"\n",
    "\n",
    "        target = self.prepare_summary(target)\n",
    "        prediction = self.prepare_summary(prediction)\n",
    "        \n",
    "        self.aggregator.add_scores(self.scorer.score(target=target, prediction=prediction))\n",
    "\n",
    "        return \n",
    "    \n",
    "    def reset_states(self):\n",
    "        self.rouge_list = []\n",
    "\n",
    "    def result(self):\n",
    "        result = self.aggregator.aggregate()\n",
    "        \n",
    "        for key in self.score_keys:\n",
    "            score_text = \"%s = %.2f, 95%% confidence [%.2f, %.2f]\"%(\n",
    "                key,\n",
    "                result[key].mid.fmeasure*100,\n",
    "                result[key].low.fmeasure*100,\n",
    "                result[key].high.fmeasure*100\n",
    "            )\n",
    "            print(score_text)\n",
    "        \n",
    "        return {key: result[key].mid.fmeasure*100 for key in self.score_keys}"
   ]
  },
  {
   "cell_type": "markdown",
   "metadata": {},
   "source": [
    "### Compute Rouge Score"
   ]
  },
  {
   "cell_type": "code",
   "execution_count": 20,
   "metadata": {},
   "outputs": [
    {
     "name": "stdout",
     "output_type": "stream",
     "text": [
      "0 : time genreate batch: 2.753051686286926\n"
     ]
    }
   ],
   "source": [
    "predictions = []\n",
    "rouge_score = RougeScore()\n",
    "start_time = time.time()\n",
    "\n",
    "for i, (input_ids, input_mask, y, y_ids, y_labels) in enumerate(test_ds):   \n",
    "    summaries = model.generate(\n",
    "        input_ids=input_ids, \n",
    "        attention_mask=input_mask, \n",
    "        early_stopping=True, \n",
    "        max_length=150, \n",
    "        length_penalty=100.0,\n",
    "#         min_length=40, \n",
    "#         do_sample= True, \n",
    "        repetition_penalty=2.0,\n",
    "        top_k=50, \n",
    "        top_p=0.95, \n",
    "        num_return_sequences=1\n",
    "    )\n",
    "\n",
    "    articles = [tokenizer.decode(g, skip_special_tokens=True, clean_up_tokenization_spaces=False) for g in input_ids]\n",
    "    \n",
    "    pred = [tokenizer.decode(g, skip_special_tokens=True, clean_up_tokenization_spaces=False) for g in summaries]\n",
    "    real = [tokenizer.decode(g, skip_special_tokens=True, clean_up_tokenization_spaces=False) for g in y]\n",
    "    \n",
    "    for pred_sent, real_sent, article_sent in zip(pred, real, articles):\n",
    "        rouge_score(pred_sent, real_sent)\n",
    "        predictions.append(str(\"article: \" + article_sent + \"\\n\\npred sentence: \" + pred_sent + \"\\n\\nreal sentence: \" + real_sent))\n",
    "    \n",
    "    if (i % 10) == 0:\n",
    "        elapsed = (time.time() - start_time) / 10\n",
    "        print(i,\": time genreate batch:\", elapsed)\n",
    "        start_time = time.time()\n",
    "    if i > 3:\n",
    "        # otherwise it will take ages\n",
    "        break\n",
    "\n",
    "\n",
    "# rouge_score.result()"
   ]
  },
  {
   "cell_type": "markdown",
   "metadata": {},
   "source": [
    "### Lets have a look at some of these predicted summaries"
   ]
  },
  {
   "cell_type": "code",
   "execution_count": 21,
   "metadata": {},
   "outputs": [],
   "source": [
    "import numpy as np\n",
    "len_predictions = len(predictions)\n",
    "\n",
    "def get_random_prediction():\n",
    "    return predictions[np.random.randint(len_predictions)]"
   ]
  },
  {
   "cell_type": "code",
   "execution_count": 22,
   "metadata": {
    "scrolled": true
   },
   "outputs": [
    {
     "name": "stdout",
     "output_type": "stream",
     "text": [
      "article: summarize: ger_to_en Normale britische Tennisfans stehen in diesem Sommer vor einem Gerangel wie in Wimbledon um Davis-Cup-Viertelfinaltickets und dürften am Ende weniger als die Hälfte der Gesamtsumme erhalten. Für das Spiel gegen Frankreich im Juli im Londoner Queen 's Club wird eine Kapazität von 7.000 Plätzen zur Verfügung stehen, aber für die Art von Fans, die im letzten Monat in Glasgow für eine derart elektrisierende Atmosphäre gesorgt haben, könnten deutlich unter 3.000 Tickets zur Verfügung stehen. Der Rest geht an verschiedene Organisationen und Leitungsgremien, wobei ein beträchtlicher Prozentsatz an die gut betuchten Mitglieder der Queen geht, die im Rahmen des Deals dort das Sagen haben. Britische Tennisfans stehen in diesem Sommer vor einem Gerangel um Davis-Cup-Viertelfinaltickets wie in Wimbledon. Andy Murray genießt an der Seite seines Freundes Ross Hutchins im Camp Nou einen Platz in der Champions League. Die Lawn Tennis Association kam dem Wunsch von Andy Murray und GB-Kapitän Leon Smith nach, das Match auf Rasen zu spielen, wodurch sich ihre Chancen auf das erste Davis-Cup-Viertelfinale zu Hause seit 29 Jahren am besten verbessern. Das schränkte die Auswahl der Austragungsorte für die nur fünf Tage nach Wimbledon beginnende Partie stark ein. Der All England Club war aufgrund des Stresses, den die Rasenplätze während der WM und der laufenden Entwicklungsarbeiten dort nehmen, nie eine Option. Ein Nebenprodukt ist, dass die Karten wahrscheinlich genauso knapp sein werden wie für die großen 14 Tage. Sponsoren und Organisationen wie die LTA, Wimbledon, der Internationale Tennisverband und der Französische Verband müssen bedient werden. Die Mitglieder der Queen werden ebenfalls eine beträchtliche Anzahl an Mitgliedern haben, da die Tribünen dort fast den ganzen Sommer über besetzt sind, wobei die AEGON-Meisterschaften Mitte Juni als Hauptwarmlaufen für SW19 stattfinden. Murray hat eine Affinität zum Club der Königin, nachdem er dort dreimal den AEGON-Titel gewonnen hat. Murray trainiert derzeit in Spanien, bevor er später in diese\n",
      "\n",
      "pred sentence: <extra_id_0>QUICK TICKETS will be available for the game against France in July at Queen's Club . Tickets for the match will have a capacity of 7.000 places, but could be under 3,000 if they sell out - less than half of the total . The rest will go to different organisations and management bodies .\n",
      "\n",
      "real sentence: Davis Cup quarter-final tickets will be hard to find for fans this summer . There will be a capacity of 7,000 for the tie at Londons Queens Club . But well under 3,000 tickets will be released to general fans for the game . The rest will go to various organisations and governing bodies in tennis .\n"
     ]
    }
   ],
   "source": [
    "print(get_random_prediction())"
   ]
  },
  {
   "cell_type": "code",
   "execution_count": 23,
   "metadata": {},
   "outputs": [
    {
     "name": "stdout",
     "output_type": "stream",
     "text": [
      "article: summarize: ger_to_ger West Ham diskutiert einen Deal für das jamaikanische Starlet DeShane Beckford, nachdem er vor Gericht überzeugt hatte. Der geschickte 17-jährige Stürmer von Montego Bay United wurde Anfang des Monats zum Training in die Akademie von West Ham eingeladen und hat die Trainer nach zwei Wochen beim Club beeindruckt. Beckford hat auch Angebote von Vereinen aus Belgien. Beckford, der mit einer Vielzahl europäischer Clubs in Verbindung gebracht wird, gilt als einer der heißesten Kandidaten für den Aufstieg aus der Karibik. Premier League Outfit West Ham nähert sich der Unterschrift des jamaikanischen Starlets DeShane Beckford. Unterdessen hat West Ham enthüllt, dass Dauerkarten im Olympiastadion nur £289 kosten werden. Die Hammers werden die günstigste Preisstrategie in der Barclays Premier League haben, um das 54.000 Zuschauer fassende Stadion zu füllen, wenn sie den Wechsel für die Saison 2016 / 17 vornehmen.\n",
      "\n",
      "pred sentence: toffees nähern sich der Unterschrift des jamaikanischen Starlets DeShan Beckford. Der 17-jährige Stürmer von Montego Bay United wurde Anfang des Monat in die Akkademie von West Ham eingeladen. Beckfreund hat auch Angebote von Vereinen aus Belgien in Verbindung gebracht.\n",
      "\n",
      "real sentence: West Ham möchte unbedingt einen Deal für den 17-jährigen DeShane Beckford abschließen. Das jamaikanische Starlet Beckford wurde mit einer Vielzahl europäischer Clubs in Verbindung gebracht. LESEN SIE UNSERE AUSSCHLIESSLICH: West-Ham-Dauerkarten kosten nur £289.\n"
     ]
    }
   ],
   "source": [
    "print(get_random_prediction())"
   ]
  },
  {
   "cell_type": "code",
   "execution_count": 24,
   "metadata": {},
   "outputs": [
    {
     "name": "stdout",
     "output_type": "stream",
     "text": [
      "article: summarize: en_to_ger Paris Saint-Germain face Nice on Saturday, hoping to take Ligue 1s top spot from Lyon but do so with a host of key stars missing, including captain Thiago Silva who is recuperating at home from a thigh injury. Zlatan Ibrahimovic, Marco Verratti and Thiago Motta all join Silva on the sidelines for the trip to the Mediterranean coast, while David Luiz is still not fully fit as he recovers from a thigh problem, although he is still set to start. Silva was pictured nursing his problem at home ahead of the game, with a full diagnosis yet to be completed by PSG's medical team. Thiago Silva who is recuperating at home from a thigh injury and will miss Paris Saint-Germain's game at Nice . Silva was substituted in the defeat by Barcelona in midweek and the injury is still keeping him out . 'Game Ready', as seen being used by Thiago Silva, is a cold therapy compression system used to treat sports injuries. It circulates cold water around the injury, cooling it down with the aim to bring players back from injury as soon as possible. He posted an update on Instagram, writing: 'Guys, I'm here to thank you all for your prayers! 'Yesterday I had the tests and the injury was very small, otherwise I could have been out for five or six weeks! 'I'm already in treatment to come back soon. Remember, no prayer will be unanswered.' PSG coach Laurent Blanc said on Friday: 'Thiago Silva is out for Nice even if his injury is not as bad as first feared.' The game against Nice comes more than 24 hours before league leaders Lyon face a tough task at home against fifth-place St Etienne. A win in south east France would put the French champions a point clear of their closest rivals. Lyon could take back top spot on Sunday but Blanc's side will have a game in hand at the close of the weekend. 'It is not easy to prepare for this match,' Blanc said. 'We must turn in up in championship mode. In this final stretch, we no longer have room for error.' Laurent Blanc said that Silva's injury is not as\n",
      "\n",
      "pred sentence: <extra_id_0><extra_id_0>SG trifft am Samstag in der Ligue 1 auf Paris Saint-Germain. Thiago Silva, Zlatan Ibrahimovic, Marco Verratti und Thiego Motto stehen neben Silva. David Luiz ist noch immer nicht voll fit, nachdem er sich von einem Oberschenkelproblem erholt hat. PSG-Trainer Laurent Blanc sagte, dass Silva für Nizza auslief.\n",
      "\n",
      "real sentence: Kapitän Thiago Silva von Paris Saint-Germain erlitt am Mittwoch eine Oberschenkelverletzung, der brasilianische Abwehrspieler musste in der Champions League gegen Barcelona ausgewechselt werden, erholt sich zu Hause und steht auf der Abwesenheitsliste für das Spiel in Nizza.\n"
     ]
    }
   ],
   "source": [
    "print(get_random_prediction())"
   ]
  },
  {
   "cell_type": "code",
   "execution_count": 25,
   "metadata": {},
   "outputs": [
    {
     "name": "stdout",
     "output_type": "stream",
     "text": [
      "article: summarize: en_to_en At least 34 people were arrested after hundreds of protesters gathered in New York City on Tuesday night to march against police brutality. The march was organized by National Actions to Stop Murder By Police. Many of the protesters cited the deaths of Eric Garner in Staten Island and Walter Scott in South Carolina. The protesters marched from Manhattans Union Square and across the Brooklyn Bridge where they partially blocked traffic. Scroll down for video . Hundreds of protesters gathered in New York City on Tuesday night to march against police brutality . Demonstrators climb on the Brooklyn Bridge during the protest against police brutality . The march was organized by National Actions to Stop Murder By Police . Stephen Davis, the Police Department's chief spokesman, said 34 people had been arrested by early evening . Many of the protesters cited the deaths of Eric Garner in Staten Island and Walter Scott in South Carolina . Organizers say Tuesday's protest was one of 28 being held across the country . Protesters tried to gain accress to the roadways of the Brooklyn Bridge, but they were blocked by police . Police began making arrests around 4:30 p.m. and by late evening at least 34 people had been arrested . Stephen Davis, the Police Department’s chief spokesman, said 34 people had been arrested by 6:40 p.m, reports the New York Times. Police say an off-duty police officer driving home on the bridge was assaulted by two protesters when he got out of his vehicle to investigate. Police say the suspects ran off after he identified himself as a police officer. He was hospitalized with injuries to his face and arm. Mayor Bill de Blasio released a statement condemning the violence - he said it was 'unacceptable and will absolutely not be tolerated.' Traffic was halted as more people gained access to the roads . Protesters were angered by fresh cases of police violence against unarmed black men in the United States . 'And any other person who might use the right to peaceful protest as cover to initiate violence, cause mayhem or incite disorder — whether against the police, the people or property of our great city — should consider themselves on notice that New York City will not stand for it.' Last year, two officers\n",
      "\n",
      "pred sentence: <extra_id_0>Hundreds of protesters gathered in New York City on Tuesday night to march against police brutality . The march was organized by National Actions to Stop Murder By Police - many of the protesters blamed the deaths of Eric Garner in Staten Island and Walter Scott in South Carolina Organizers say Tuesday' is one of 28 protests being held across the country .\n",
      "\n",
      "real sentence: The march was organized by National Actions to Stop Murder By Police . Protesters marched from Manhattans Union Square and across the Brooklyn Bridge where they partially blocked traffic . Marched from Manhattans Union Square and across the Brooklyn Bridge where they partially blocked traffic . Police say an off-duty police officer driving home on the bridge was assaulted by two protesters when he got out of his vehicle to investigate .\n"
     ]
    }
   ],
   "source": [
    "print(get_random_prediction())"
   ]
  },
  {
   "cell_type": "code",
   "execution_count": 26,
   "metadata": {},
   "outputs": [
    {
     "name": "stdout",
     "output_type": "stream",
     "text": [
      "article: summarize: ger_to_en Dougie Freedman steht kurz davor, sich auf einen neuen Zweijahresvertrag bei Nottingham Forest zu einigen. Freedman hat Forest stabilisiert, seit er Kultheld Stuart Pearce abgelöst hat, und die Clubbesitzer sind zufrieden mit seiner Arbeit am City Ground. Dougie Freedman wird einen neuen Vertrag bei Nottingham Forest unterzeichnen. Freedman hat auf dem City Ground beeindruckt, seit er Stuart Pearce im Februar ersetzt hat. Sie haben einen kühnen Versuch auf den Play-off-Plätzen unternommen, als Freedman Pearce ersetzte, aber in den letzten Wochen abgesprungen ist. Das hat Forest 's Eigentum nicht daran gehindert, Schritte zu unternehmen, um Freedman einen Vertrag für die nächsten beiden Spielzeiten zu sichern.\n",
      "\n",
      "pred sentence: <extra_id_0>FULL: Dougie Freedman is set to sign a new contract at Nottingham Forest . Stuart Pearcen has been sacked by the club since February - and the owners are happy with his work he has done at the City Ground if he stays on . Forest have had a long-running bid to secure relegation from the Play-offs cancelled after Freemary Pearcer replaced him .\n",
      "\n",
      "real sentence: Nottingham Forest are close to extending Dougie Freedman's contract . The Forest boss took over from former manager Stuart Pearce in February . Freedman has since lead the club to ninth in the Championship .\n"
     ]
    }
   ],
   "source": [
    "print(get_random_prediction())"
   ]
  },
  {
   "cell_type": "code",
   "execution_count": 27,
   "metadata": {},
   "outputs": [
    {
     "name": "stdout",
     "output_type": "stream",
     "text": [
      "article: summarize: ger_to_en Normale britische Tennisfans stehen in diesem Sommer vor einem Gerangel wie in Wimbledon um Davis-Cup-Viertelfinaltickets und dürften am Ende weniger als die Hälfte der Gesamtsumme erhalten. Für das Spiel gegen Frankreich im Juli im Londoner Queen 's Club wird eine Kapazität von 7.000 Plätzen zur Verfügung stehen, aber für die Art von Fans, die im letzten Monat in Glasgow für eine derart elektrisierende Atmosphäre gesorgt haben, könnten deutlich unter 3.000 Tickets zur Verfügung stehen. Der Rest geht an verschiedene Organisationen und Leitungsgremien, wobei ein beträchtlicher Prozentsatz an die gut betuchten Mitglieder der Queen geht, die im Rahmen des Deals dort das Sagen haben. Britische Tennisfans stehen in diesem Sommer vor einem Gerangel um Davis-Cup-Viertelfinaltickets wie in Wimbledon. Andy Murray genießt an der Seite seines Freundes Ross Hutchins im Camp Nou einen Platz in der Champions League. Die Lawn Tennis Association kam dem Wunsch von Andy Murray und GB-Kapitän Leon Smith nach, das Match auf Rasen zu spielen, wodurch sich ihre Chancen auf das erste Davis-Cup-Viertelfinale zu Hause seit 29 Jahren am besten verbessern. Das schränkte die Auswahl der Austragungsorte für die nur fünf Tage nach Wimbledon beginnende Partie stark ein. Der All England Club war aufgrund des Stresses, den die Rasenplätze während der WM und der laufenden Entwicklungsarbeiten dort nehmen, nie eine Option. Ein Nebenprodukt ist, dass die Karten wahrscheinlich genauso knapp sein werden wie für die großen 14 Tage. Sponsoren und Organisationen wie die LTA, Wimbledon, der Internationale Tennisverband und der Französische Verband müssen bedient werden. Die Mitglieder der Queen werden ebenfalls eine beträchtliche Anzahl an Mitgliedern haben, da die Tribünen dort fast den ganzen Sommer über besetzt sind, wobei die AEGON-Meisterschaften Mitte Juni als Hauptwarmlaufen für SW19 stattfinden. Murray hat eine Affinität zum Club der Königin, nachdem er dort dreimal den AEGON-Titel gewonnen hat. Murray trainiert derzeit in Spanien, bevor er später in diese\n",
      "\n",
      "pred sentence: <extra_id_0>QUICK TICKETS will be available for the game against France in July at Queen's Club . Tickets for the match will have a capacity of 7.000 places, but could be under 3,000 if they sell out - less than half of the total . The rest will go to different organisations and management bodies .\n",
      "\n",
      "real sentence: Davis Cup quarter-final tickets will be hard to find for fans this summer . There will be a capacity of 7,000 for the tie at Londons Queens Club . But well under 3,000 tickets will be released to general fans for the game . The rest will go to various organisations and governing bodies in tennis .\n",
      "article: summarize: en_to_ger Paris Saint-Germain face Nice on Saturday, hoping to take Ligue 1s top spot from Lyon but do so with a host of key stars missing, including captain Thiago Silva who is recuperating at home from a thigh injury. Zlatan Ibrahimovic, Marco Verratti and Thiago Motta all join Silva on the sidelines for the trip to the Mediterranean coast, while David Luiz is still not fully fit as he recovers from a thigh problem, although he is still set to start. Silva was pictured nursing his problem at home ahead of the game, with a full diagnosis yet to be completed by PSG's medical team. Thiago Silva who is recuperating at home from a thigh injury and will miss Paris Saint-Germain's game at Nice . Silva was substituted in the defeat by Barcelona in midweek and the injury is still keeping him out . 'Game Ready', as seen being used by Thiago Silva, is a cold therapy compression system used to treat sports injuries. It circulates cold water around the injury, cooling it down with the aim to bring players back from injury as soon as possible. He posted an update on Instagram, writing: 'Guys, I'm here to thank you all for your prayers! 'Yesterday I had the tests and the injury was very small, otherwise I could have been out for five or six weeks! 'I'm already in treatment to come back soon. Remember, no prayer will be unanswered.' PSG coach Laurent Blanc said on Friday: 'Thiago Silva is out for Nice even if his injury is not as bad as first feared.' The game against Nice comes more than 24 hours before league leaders Lyon face a tough task at home against fifth-place St Etienne. A win in south east France would put the French champions a point clear of their closest rivals. Lyon could take back top spot on Sunday but Blanc's side will have a game in hand at the close of the weekend. 'It is not easy to prepare for this match,' Blanc said. 'We must turn in up in championship mode. In this final stretch, we no longer have room for error.' Laurent Blanc said that Silva's injury is not as\n",
      "\n",
      "pred sentence: <extra_id_0><extra_id_0>SG trifft am Samstag in der Ligue 1 auf Paris Saint-Germain. Thiago Silva, Zlatan Ibrahimovic, Marco Verratti und Thiego Motto stehen neben Silva. David Luiz ist noch immer nicht voll fit, nachdem er sich von einem Oberschenkelproblem erholt hat. PSG-Trainer Laurent Blanc sagte, dass Silva für Nizza auslief.\n",
      "\n",
      "real sentence: Kapitän Thiago Silva von Paris Saint-Germain erlitt am Mittwoch eine Oberschenkelverletzung, der brasilianische Abwehrspieler musste in der Champions League gegen Barcelona ausgewechselt werden, erholt sich zu Hause und steht auf der Abwesenheitsliste für das Spiel in Nizza.\n",
      "article: summarize: en_to_ger The England C team is facing the axe after 36 years as part of Greg Dyke’s spending review at the Football Association. FA chairman Dyke must find £30million to fund his masterplan to reform grassroots football with more 3G pitches in urban coaching hubs, and has identified the non-league national team as an area of potential saving. England C, which has operated under different names since it was formed in 1979, is managed by former Barnet boss Paul Fairclough, who selects from players outside the Football League, aged 23 and under. FA chairman Greg Dyke could axe the England C team to save money to help improve grassroots football . The team normally plays only three or four times a season, but some friendly fixtures have attracted attention inside the organisation because of the elaborate travel involved. England won 6-1 in Bermuda, in June 2013, and won 1-0 in Jordan, in March last year. Fairclough’s team also compete in the International Challenge Trophy, a competition for European semi-pro national teams, but did not qualify for the semi-finals of this year’s tournament from a home-and-away qualifying group featuring Turkey, Slovakia and Estonia. They were beaten by Cyprus U21s in friendly in Larnaca, in February, but there are no more fixtures planned and, since a meeting last week, fears have increased about the long-term future for a team which has been known since its formation as the National Game XI, England Semi-Pro and England Non-League. Paul Fairclough (left) is the current manager of the team and he selects non-league players under 23 . Those capped at this level include George Boyd of Burnley, Craig Mackail-Smith of Brighton and Steve Morison of Leeds, who all went on to play at full international level, although not for England. Boyd and Mackail-Smith won caps for Scotland and Morison for Wales. Former Leicester winger Steve Guppy won one senior England cap after playing once for his country at non-league level. Guppy also won one cap for the U21s and one for England B, which could make him the ultimate one-cap wonder. Barnsley manager Lee Johnson was also capped at non-league level. George Boyd (right) played for the England C team before switching allegiances and playing for Scotland\n",
      "\n",
      "pred sentence: <extra_id_0>EN: Der FA-Vorsitzender Greg Dyke muss 30 Millionen Pfund finden, um seinen Masterplan zur Reform des Basisfußballs zu finanzieren. Der ehemalige Barnet-Boss Paul Fairclough wählt nicht-Liga-Spieler unter 23 Jahren aus. England C spielt normalerweise nur drei oder vier Mal pro Saison.\n",
      "\n",
      "real sentence: Greg Dyke könnte dem englischen C-Team die nötigen 30 Millionen Pfund zur Verfügung stellen, der FA-Vorsitzende braucht das Geld, um seine Pläne an der Basis umzusetzen.\n",
      "article: summarize: en_to_en A mother-of-two claims her face was left covered in angry red welts after drinking a bottle of Tesco wine which reeked of bleach. Justine Jones was left covered in huge sores and in agony after opening the bottle of Tesco Finest Garnacha wine to celebrate her daughters birthday. Her mother Jan Jones had bought the bottle for granddaughter Abi's 18th birthday and they had poured a glass to toast the occasion. Justine Jones was left covered in huge sores and in agony after opening the bottle of Tesco Finest Garnacha wine to celebrate her daughter's birthday . But despite the bottle being sealed and showing no evidence of being tampered with, the family were shocked when they inspected it further and found it contained a clear liquid which smelt of bleach. Mother-of-two Ms Jones, 44, said: 'It tasted foul. I inspected the bottle and found that the liquid was clear and had bits of mucus and bits floating in it. 'My daughters and mum smelt the liquid and thought it had a faint smell of bleach. We were horrified.' Despite the bottle being sealed and showing no evidence of being tampered with, the family were shocked when they inspected it further and found it contained a clear liquid which smelt of bleach . The accountant, from Shropshire, suffers from rare condition pemphigus, which means her immune system is extremely sensitive to certain chemicals and attacks her body leaving serious blisters. The next day she was covered in huge sores and had to be referred to hospital. The bottle, bought from a Tesco branch in Market Weighton, East Yorkshire, was taken back by her mother who demanded it be tested and investigated. She said: 'I felt alarmed, Justine has such a poor immune system we have to be careful really.' A letter from the supermarket giant said a report had been sent to their technologist and that the wine had been provided by a supplier. Tesco wrote: 'The technologist acts as a regulator, and will follow it up with the people who make this product for us, as well as keeping an eye on all incoming complaints.' But Mrs Jones said the response was not good enough\n",
      "\n",
      "pred sentence: <extra_id_0>-of-two Justine Jones was left covered in huge sores and in agony after opening bottle of Tesco wine . Her mother Jan Jones had bought the bottle for granddaughter Abi's 18th birthday a day before . But despite the bottle being sealed and showing no evidence of being tampered with, the family were shocked when they further inspected it further and found it contained a clear liquid which smelled of bleach .\n",
      "\n",
      "real sentence: Jan Jones bought bottle of Tesco Finest Garnacha wine as a present . Her daughter drank a mouthful of the wine and later broke out in welts . The family inspected the liquid they found it was clear and smelt of bleach . Tesco said wine was made by supplier and has launched an investigation .\n",
      "article: summarize: en_to_ger Manchester United target Nathaniel Clyne admits he wants to play Champions League football as the Southampton defender continues to be linked with a move away from the south coast. The right back has been in impressive form this season as the Saints have surprised many with a challenge on the Premier Leagues top four. Clyne, who has earned international recognition with his performances, has courted interest from the Old Trafford club throughout the season. Nathaniel Clyne attended a fund-raising event for the Football Fighting Ebola campaign on Sunday night . Nathaniel Clyne has impressed for Southampton this season and has been linked with move away . 'It's always good to have teams looking out for you, it shows how well you've been doing all season,' Clyne told Sky Sports News. 'I am going to take that, and keep on performing and be the best player I can be. 'Right now I'm concentrating on playing for Southampton, there are still games to play, and try to push for that fourth spot. Ronald Koeman has admitted it may be hard to keep Clyne at the club this summer . The Southampton defender has been capped four times by England this season . 'I am an ambitious person and I want to play Champions League football. To win the title and the FA Cup, that is what I want. Saints boss Ronald Koeman admitted recently that the club face a battle trying to keep hold of the former Crystal Palace defender.\n",
      "\n",
      "pred sentence: tot - Nathaniel Clyne will Champions-League-Fußball spielen. Southampton-Verteidiger hat in dieser Saison eine beeindruckende Form für die Saints erreicht. Ronald Koenman hat zugegeben, dass es schwierig sein könnte, ihn im Old Trafford aufrechtzuerhalten und den Titel zu gewinnen.\n",
      "\n",
      "real sentence: Nathaniel Clyne war in dieser Saison in beeindruckender Form für Southampton. Voller Einsatz wurde mit einem Wechsel zu Manchester United in diesem Sommer in Verbindung gebracht. Clyne gibt zu, dass er ehrgeizig ist und in der Champions League spielen will.\n",
      "article: summarize: ger_to_en Barbie-Sammler markieren ihre Kalender: Diesen Samstag kommt die allererste Barbie-Puppe in Australien wieder in den Handel. Unglaublicherweise werden Kunden die Puppe im Vintage-Stil zum ursprünglichen Verkaufspreis von nur $3,00 erwerben können. Myer hat sich mit Mattel zusammengetan, um die ikonischen Puppen neu zu produzieren, die in fünf ihrer Läden im ganzen Land erhältlich sein werden. Retro: Die originale Barbie Doll aus dem Jahr 1959 wurde reproduziert und kommt diesen Samstag in Australien wieder in den Verkauf. Die ersten 100 Kunden in jedem der Geschäfte in Melbourne, Sydney, Perth, Brisbane und Adelaide City können am Samstag, den 11. April um 9 Uhr, die Sammlerstücke zum Sonderpreis ergattern. Für diejenigen, die die Aktion verpassen, werden die Puppen danach für $34,95 verkauft. Die Puppen sind neu produziert, aber nach dem Vorbild der Original Barbie Doll, die erstmals 1959 auf der New Yorker Spielwarenmesse vorgestellt wurde. Ikonisch: Die Puppen sind neu produziert, aber nach dem Vorbild der Original Barbie Doll, die erstmals 1959 auf der New York Toy Fair vorgestellt wurde. 50er Jahre-Mode: Die Puppe besteht aus einem schwarz-weiß gestreiften Einteiler, schwarzen Absätzen, goldenen Creolen und einer weißen Sonnenbrille. Die Puppe besteht aus einem schwarz-weiß gestreiften Einteiler, schwarzen Absätzen, goldenen Creolen und weißen Sonnenbrillen. \"Barbie ist eine echte Ikone und eine von einer Handvoll Spielzeugen, die Generationen übersteigt\", sagte Daniel Bracken, Chief Merchandise & Marketing Officer und stellvertretender CEO von Myer. \"Es gibt eine echte Nostalgie rund um Barbie, die von den Eltern auf ihre Kinder übergeht und ich denke, alle unsere Kunden - große und kleine Kinder gleichermaßen - werden es lieben, dass wir die Original Barbie mit ihrem coolen Retro-Stil, den jeder genießen kann, nach Myer zurückbringen. Sonderangebot: Myer City \n",
      "\n",
      "pred sentence: <extra_id_0>PRINCIPLES: Myer has teamed up with Mattel to produce the iconic dolls . They will be available in five of its stores across Australia this weekend - Melbourne, Sydney, Perth, Brisbane and Adelaide City . The original doll was first introduced at the New York Toy Fair in 1959 based on the original .\n",
      "\n",
      "real sentence: Original 1959 Barbie has been reproduced and goes back on sale April 11 . Myer have teamed up with Mattel to re-release the iconic doll in Australia . The first 500 dolls will be sold for the original 1959 price of $3.00 . The dolls will be sold for $34.95 after the promotional priced ones are gone . Promotion is at Sydney, Melbourne, Brisbane, Perth, Adelaide City stores .\n",
      "article: summarize: ger_to_ger West Ham diskutiert einen Deal für das jamaikanische Starlet DeShane Beckford, nachdem er vor Gericht überzeugt hatte. Der geschickte 17-jährige Stürmer von Montego Bay United wurde Anfang des Monats zum Training in die Akademie von West Ham eingeladen und hat die Trainer nach zwei Wochen beim Club beeindruckt. Beckford hat auch Angebote von Vereinen aus Belgien. Beckford, der mit einer Vielzahl europäischer Clubs in Verbindung gebracht wird, gilt als einer der heißesten Kandidaten für den Aufstieg aus der Karibik. Premier League Outfit West Ham nähert sich der Unterschrift des jamaikanischen Starlets DeShane Beckford. Unterdessen hat West Ham enthüllt, dass Dauerkarten im Olympiastadion nur £289 kosten werden. Die Hammers werden die günstigste Preisstrategie in der Barclays Premier League haben, um das 54.000 Zuschauer fassende Stadion zu füllen, wenn sie den Wechsel für die Saison 2016 / 17 vornehmen.\n",
      "\n",
      "pred sentence: toffees nähern sich der Unterschrift des jamaikanischen Starlets DeShan Beckford. Der 17-jährige Stürmer von Montego Bay United wurde Anfang des Monat in die Akkademie von West Ham eingeladen. Beckfreund hat auch Angebote von Vereinen aus Belgien in Verbindung gebracht.\n",
      "\n",
      "real sentence: West Ham möchte unbedingt einen Deal für den 17-jährigen DeShane Beckford abschließen. Das jamaikanische Starlet Beckford wurde mit einer Vielzahl europäischer Clubs in Verbindung gebracht. LESEN SIE UNSERE AUSSCHLIESSLICH: West-Ham-Dauerkarten kosten nur £289.\n",
      "article: summarize: en_to_en Russian president Vladimir Putin said Russia has key interests in common with the United States and needs to work with it on a common agenda . Russia has key interests in . common with the United States and needs to work with it on a . common agenda, Russian president Vladimir Putin said on Saturday . in a television interview. In his comments to the state-run Rossiya channel, Putin . appeared to soften his anti-American rhetoric after being highly . critical. Relations between Moscow and Washington, and other . Western powers, have soured over the conflict in Russias . neighbor Ukraine, sinking to an all-time low. 'We have disagreements on several issues on the . international agenda. 'But at the same time there is something . that unites us, that forces us to work together,' Putin said. 'I mean general efforts directed at making the world economy . more democratic, measured and balanced, so that the world order . is more democratic. 'We have a common agenda.' Putin has in the past fiercely attacked the United States . and the West in general, blaming them for the Ukraine crisis, . which Russia says was the result of a Western-backed 'coup' against Ukraine's former leader Viktor Yanukovich. Russia has repeatedly denied accusations from Kiev and the . West that it is supporting pro-Russian rebels with troops and . weapons in eastern Ukraine, where more than 6,000 people have . been killed since last April. His latest remark comes two days after an annual TV phone-in . show in which Putin accused the United States of trying to . dominate world affairs, saying it wanted 'not allies, but . vassals'. On Saturday, Putin (pictured above with U.S. president Obama in November 2014 at the Asia Pacific Economic Cooperation Summit) said the U.S. and Russia have a common agenda of general efforts directed at making the world economy more democratic, measured and balanced . During the Thursday interview, he also made it clear that Russia wants an end to fighting in eastern Ukraine and is interested in rebuilding damaged ties with the United States and other Western nations. The U.S. and the European Union imposed sanctions on Russia over Moscow's annexation of the Crime\n",
      "\n",
      "pred sentence: . Putin appeared to soften his anti-American rhetoric after being highly . critical . Relations between Moscow and Washington, and other Western powers, have soured over the conflict in Russia's . neighbor Ukraine, sinking to an all time low .\n",
      "\n",
      "real sentence: Putin said on Saturday that the countries need to work on common agenda . He said US and Russia are working towards same efforts of making the world order more democratic . Putins latest remarks come two days after saying US wanted 'not allies, but vassals\n",
      "article: summarize: en_to_ger Mirko Cro Cop' Filipovic delivered on his promise to exact revenge as he stopped Gabriel Gonzaga in the third round of their long-awaited heavyweight rematch in Krakow. Eight years after their first encounter in which Gonzaga delivered a stunning knockout, Filipovic endured a tough opening two sessions before making his move. Mirko 'Cro Cop' Filipovic made a slow start against Gabriel Gonzaga . After dropping his rival to the canvas, he finished the job with his elbows before the referee stepped in. Filipovic had not fought in the UFC since 2011 and made a slow start as Gonzaga stalked his opponent, trying to land with his hands. Brazilian Gonzaga attempts a leg lock submission against Filipovic . He took the fight to the floor, looking for the finish, but Filipovic defended well and pulled free, albeit conceding the round in the process. And Gonzaga continued to dominate in the second round, catching a kick and taking Filipovic to the ground and there they stayed for the remainder of a session that also went Gonzaga's way. But the fight was turned on its head in what proved to be the final round. After a clinch against the cage, Filipovic launched an assault on the break, dropping his opponent after repeated blows on the inside. Referee Leon Roberts stops the fight after Filipovic dropped his rival . Once down, Gonzaga was clearly in trouble and as the blows reined in, the referee stepped in to stop the punishment. In the co-main event, Londons Jimi Manuwa made a successful return to the Octagon after a year on the sidelines by outpointing Jan Blachowicz. Manuwa had never been beyond the second round in his career but this cagey affair looked destined to be left in the hands of the judges from the opening stages. Jimi Manuwa celebrates after his decision victory over Jan Blachowicz of Poland . In the end, the visitor was given the nod by scores of 30-27 twice and 29-28. There was mixed results for the other two Brits on the card as Stevie Ray enjoyed a winning debut with a second-round stoppage of Marcin Bandel but Jo\n",
      "\n",
      "pred sentence: <extra_id_0>KO-Kämpfer Mirko \"Cro Cop\" Filipovic stoppte Gabriel Gonzaga in der dritten Runde. Der brasilianische Schwergewichtskämpfer Filipovi hielt den Kampf mit seinen Ellbogen ab. Jimi Manuwa besiegte Jan Blachowicz mit 30-27 und 29-28. Stevie Ray gewinnt sein Debüt mit einem Sieg über Marcin Bandel.\n",
      "\n",
      "real sentence: Cro Cop revanchierte sich mit dem K.o. in der dritten Runde in Krakau. Schiedsrichter schritt ein, nachdem Filipovic Gabriel Gonzaga zu Boden geworfen hatte. Jimi Manuwa kehrte erfolgreich zurück und zeigte Jan Blachowicz an.\n",
      "article: summarize: ger_to_ger Dies ist der Moment, in dem ein Arbeiter der Boxencrew wie eine Stoffpuppe in die Luft geschleudert wird, als er von einem außer Kontrolle geratenen Rennwagen getroffen wird. Überwachungsaufnahmen zeigen, wie der 40-jährige Todd Phillips mit voller Geschwindigkeit angefahren wird, als er während des ersten Indy Grand Prix von Louisiana am Sonntag einen seiner Fahrer niederfährt. Als der Chefmechaniker von Dale Coyne Racing vom hinteren Ende des Fahrzeugs am Bein getroffen wird, überschlägt er sich und vollführt einen Salto, bevor Kollegen herübereilen, um zu überprüfen, ob es ihm gut geht. Erstaunlicherweise erlitt Phillips aus Franklin, Wisconsin, nur leichte Verletzungen am Bein, die mit sechs Stichen genäht werden mussten. Später wurde berichtet, dass er vom Auto von Francesco Dracone niedergemäht wurde, der in Runde 25 Reifen und Treibstoff geholt hatte. Dracone drehte sich beim Verlassen seiner Put Box und schnitt Phillips 'Bein ab. Phillips wurde zur Behandlung ins Infield Care Center gebracht, wo er rasch Entwarnung gab. Er sagte dem Indianapolis Star, dass er in fast 20 Jahren auf der Strecke noch nie von einem Rennwagen angefahren worden sei. Gefangen vor der Kamera: Überwachungsaufnahmen zeigen, wie der 40-jährige Todd Phillips mit voller Geschwindigkeit angefahren wird, als er beim ersten Indy Grand Prix von Louisiana am Sonntag einen seiner Fahrer niederfährt. Akrobatisch: Als der Chefmechaniker des Dale Coyne Racing Teams vom hinteren Ende des Fahrzeugs am Bein getroffen wird, überschlägt er sich und vollführt einen Salto, bevor Kollegen herübereilen, um zu überprüfen, ob es ihm gut geht. Beschnitten: Das Heck des Autos berührte den Arbeiter der Boxencrew, der seine Beine unter sich wegfegte - erstaunlicherweise zog sich Phillips aus Wisconsin nur leichte Verletzungen am Bein zu, die sechs St\n",
      "\n",
      "pred sentence: <extra_id_0>Überwachungsaufnahmen zeigen, wie der 40-jährige Todd Phillip während des ersten Indy Grand Prix von Louisiana am Sonntag einen seiner Fahrer niederfährt. Als der Chefmechaniker von Dale Coynes Racing am Bein getroffen wird, überschlägt er sich und vollführt einen Salto, bevor Kollegen herübereilen, um zu überprüfen, ob es ihm gut geht. Erstaunlicherweise erlitt Phillip aus Franklin, Wisconsin, nur leichte Verletzungen an Bein, die mit sechs Stichen genähten werden mussten. Später wurde berichtet, dass er vom Auto von Francesco Dracon\n",
      "\n",
      "real sentence: Pit-Crewmitglied Todd Phillips wurde am Sonntag während des ersten IndyCar Grand Prix von Louisiana von einem Auto angefahren und verletzt, als er von dem Auto von Francesco Dracone getroffen wurde, der in Runde 25 Reifen und Treibstoff geholt hatte. Phillips wurde genäht, weil er einen Cut am Bein erlitten hatte und entlassen wurde. Dracone beendete das Rennen nicht und wurde 23.\n"
     ]
    }
   ],
   "source": [
    "for i in range(10):\n",
    "    print(get_random_prediction())"
   ]
  },
  {
   "cell_type": "markdown",
   "metadata": {},
   "source": [
    "## Downsides\n",
    "The start token makes usually no sense."
   ]
  },
  {
   "cell_type": "code",
   "execution_count": 14,
   "metadata": {},
   "outputs": [],
   "source": [
    "result_path = \"../data/t5base_result_german.txt\"\n",
    "open(result_path, \"w\")\n",
    "for pred in predictions:\n",
    "    with open(result_path, \"a\") as file:\n",
    "        file.write(pred + \"\\n\")"
   ]
  },
  {
   "cell_type": "code",
   "execution_count": null,
   "metadata": {},
   "outputs": [],
   "source": []
  }
 ],
 "metadata": {
  "kernelspec": {
   "display_name": "textsummary",
   "language": "python",
   "name": "venv"
  },
  "language_info": {
   "codemirror_mode": {
    "name": "ipython",
    "version": 3
   },
   "file_extension": ".py",
   "mimetype": "text/x-python",
   "name": "python",
   "nbconvert_exporter": "python",
   "pygments_lexer": "ipython3",
   "version": "3.8.2"
  }
 },
 "nbformat": 4,
 "nbformat_minor": 4
}
