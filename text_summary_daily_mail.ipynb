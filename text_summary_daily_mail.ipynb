{
 "cells": [
  {
   "cell_type": "markdown",
   "metadata": {},
   "source": [
    "# Text Summary cnn daily mail"
   ]
  },
  {
   "cell_type": "code",
   "execution_count": 86,
   "metadata": {},
   "outputs": [],
   "source": [
    "import numpy as np\n",
    "\n",
    "import tensorflow_datasets as tfds\n",
    "import tensorflow as tf\n",
    "\n",
    "import matplotlib.pyplot as plt\n",
    "%matplotlib inline"
   ]
  },
  {
   "cell_type": "code",
   "execution_count": 5,
   "metadata": {},
   "outputs": [
    {
     "name": "stdout",
     "output_type": "stream",
     "text": [
      "tf-version 2.1.0\n"
     ]
    }
   ],
   "source": [
    "print(\"tf-version\", tf.__version__)"
   ]
  },
  {
   "cell_type": "code",
   "execution_count": 72,
   "metadata": {},
   "outputs": [],
   "source": [
    "MAX_LENGTH = 200\n",
    "\n",
    "BUFFER_SIZE = 20000\n",
    "\n",
    "BATCH_SIZE = 16"
   ]
  },
  {
   "cell_type": "markdown",
   "metadata": {},
   "source": [
    "## Get the dataset"
   ]
  },
  {
   "cell_type": "code",
   "execution_count": 73,
   "metadata": {},
   "outputs": [],
   "source": [
    "cnn_dailymail = tfds.load(name=\"cnn_dailymail\")"
   ]
  },
  {
   "cell_type": "code",
   "execution_count": 74,
   "metadata": {},
   "outputs": [],
   "source": [
    "train = cnn_dailymail['train']\n",
    "test = cnn_dailymail['test']"
   ]
  },
  {
   "cell_type": "code",
   "execution_count": 75,
   "metadata": {},
   "outputs": [
    {
     "name": "stdout",
     "output_type": "stream",
     "text": [
      "dict_keys(['article', 'highlights']) \n",
      "\n",
      "tf.Tensor(b\"By . Associated Press . PUBLISHED: . 14:11 EST, 25 October 2013 . | . UPDATED: . 15:36 EST, 25 October 2013 . The bishop of the Fargo Catholic Diocese in North Dakota has exposed potentially hundreds of church members in Fargo, Grand Forks and Jamestown to the hepatitis A virus in late September and early October. The state Health Department has issued an advisory of exposure for anyone who attended five churches and took communion. Bishop John Folda (pictured) of the Fargo Catholic Diocese in North Dakota has exposed potentially hundreds of church members in Fargo, Grand Forks and Jamestown to the hepatitis A . State Immunization Program Manager Molly Howell says the risk is low, but officials feel it's important to alert people to the possible exposure. The diocese announced on Monday that Bishop John Folda is taking time off after being diagnosed with hepatitis A. The diocese says he contracted the infection through contaminated food while attending a conference for newly ordained bishops in Italy last month. Symptoms of hepatitis A include fever, tiredness, loss of appetite, nausea and abdominal discomfort. Fargo Catholic Diocese in North Dakota (pictured) is where the bishop is located .\", shape=(), dtype=string) \n",
      "\n",
      "tf.Tensor(b'Bishop John Folda, of North Dakota, is taking time off after being diagnosed .\\nHe contracted the infection through contaminated food in Italy .\\nChurch members in Fargo, Grand Forks and Jamestown could have been exposed .', shape=(), dtype=string)\n"
     ]
    }
   ],
   "source": [
    "for item in train.take(1):\n",
    "    print(item.keys(), \"\\n\")\n",
    "    print(item['article'], \"\\n\")\n",
    "    print(item['highlights'])"
   ]
  },
  {
   "cell_type": "markdown",
   "metadata": {},
   "source": [
    "## Clean Dataset\n",
    "- Remove the first part of the article \n",
    "(By . Associated Press . PUBLISHED: . 14:11 EST, 25 October 2013 . | . UPDATED: . 15:36 EST, 25 October 2013 .)\n",
    "\n",
    "- then add a <start> and <stop> Token"
   ]
  },
  {
   "cell_type": "code",
   "execution_count": 97,
   "metadata": {},
   "outputs": [
    {
     "name": "stdout",
     "output_type": "stream",
     "text": [
      "len article: 175\n",
      "tf.Tensor(\n",
      "[b'<start>' b'the' b'bishop' b'of' b'the' b'fargo' b'catholic' b'diocese'\n",
      " b'in' b'north' b'dakota' b'has' b'exposed' b'potentially' b'hundreds'\n",
      " b'of' b'church' b'members' b'in' b'fargo,' b'grand' b'forks' b'and'\n",
      " b'jamestown' b'to' b'the' b'hepatitis' b'a' b'virus' b'in' b'late'\n",
      " b'september' b'and' b'early' b'october.' b'the' b'state' b'health'\n",
      " b'department' b'has' b'issued' b'an' b'advisory' b'of' b'exposure' b'for'\n",
      " b'anyone' b'who' b'attended' b'five' b'churches' b'and' b'took'\n",
      " b'communion.' b'bishop' b'john' b'folda' b'(pictured)' b'of' b'the'\n",
      " b'fargo' b'catholic' b'diocese' b'in' b'north' b'dakota' b'has'\n",
      " b'exposed' b'potentially' b'hundreds' b'of' b'church' b'members' b'in'\n",
      " b'fargo,' b'grand' b'forks' b'and' b'jamestown' b'to' b'the' b'hepatitis'\n",
      " b'astate' b'immunization' b'program' b'manager' b'molly' b'howell'\n",
      " b'says' b'the' b'risk' b'is' b'low,' b'but' b'officials' b'feel' b\"it's\"\n",
      " b'important' b'to' b'alert' b'people' b'to' b'the' b'possible'\n",
      " b'exposure.' b'the' b'diocese' b'announced' b'on' b'monday' b'that'\n",
      " b'bishop' b'john' b'folda' b'is' b'taking' b'time' b'off' b'after'\n",
      " b'being' b'diagnosed' b'with' b'hepatitis' b'a.' b'the' b'diocese'\n",
      " b'says' b'he' b'contracted' b'the' b'infection' b'through'\n",
      " b'contaminated' b'food' b'while' b'attending' b'a' b'conference' b'for'\n",
      " b'newly' b'ordained' b'bishops' b'in' b'italy' b'last' b'month.'\n",
      " b'symptoms' b'of' b'hepatitis' b'a' b'include' b'fever,' b'tiredness,'\n",
      " b'loss' b'of' b'appetite,' b'nausea' b'and' b'abdominal' b'discomfort.'\n",
      " b'fargo' b'catholic' b'diocese' b'in' b'north' b'dakota' b'(pictured)'\n",
      " b'is' b'where' b'the' b'bishop' b'is' b'located' b'.' b'<stop>'], shape=(175,), dtype=string) \n",
      "\n",
      "tf.Tensor(\n",
      "[b'bishop' b'john' b'folda,' b'of' b'north' b'dakota,' b'is' b'taking'\n",
      " b'time' b'off' b'after' b'being' b'diagnosed' b'.' b'he' b'contracted'\n",
      " b'the' b'infection' b'through' b'contaminated' b'food' b'in' b'italy'\n",
      " b'.' b'church' b'members' b'in' b'fargo,' b'grand' b'forks' b'and'\n",
      " b'jamestown' b'could' b'have' b'been' b'exposed' b'.'], shape=(37,), dtype=string)\n"
     ]
    }
   ],
   "source": [
    "def map_func(features):\n",
    "    article_text = tf.strings.split(features[\"article\"], sep=\" . \")[7:]\n",
    "    sum_text = \"<start> \"\n",
    "    for text in article_text:\n",
    "        sum_text += text\n",
    "    sum_text += \" <stop>\"\n",
    "    article = tf.strings.split(tf.strings.lower(sum_text))\n",
    "    highlights = tf.strings.split(tf.strings.lower(features['highlights']))\n",
    "    return article[:MAX_LENGTH], highlights\n",
    "\n",
    "\n",
    "\n",
    "train_ds = train.map(map_func)\n",
    "test_ds = test.map(map_func)\n",
    "for article, highlights in train_ds.take(1):\n",
    "    print(\"len article:\", len(article))\n",
    "    print(article, \"\\n\")\n",
    "    print(highlights)"
   ]
  },
  {
   "cell_type": "code",
   "execution_count": 84,
   "metadata": {},
   "outputs": [],
   "source": [
    "def get_dataset(ds):\n",
    "    ds = ds.cache()\n",
    "    ds = ds.shuffle(BUFFER_SIZE).batch(BATCH_SIZE, drop_remainder=True)\n",
    "    return ds.prefetch(tf.data.experimental.AUTOTUNE)\n",
    "\n",
    "train_ds = get_dataset(train_ds)\n",
    "test_ds = get_dataset(test_ds)"
   ]
  },
  {
   "cell_type": "code",
   "execution_count": null,
   "metadata": {},
   "outputs": [],
   "source": []
  },
  {
   "cell_type": "markdown",
   "metadata": {},
   "source": [
    "# Model\n",
    "## Use a pretrained Model\n",
    "\n",
    "https://towardsdatascience.com/simple-bert-using-tensorflow-2-0-132cb19e9b22"
   ]
  },
  {
   "cell_type": "code",
   "execution_count": null,
   "metadata": {},
   "outputs": [],
   "source": []
  },
  {
   "cell_type": "code",
   "execution_count": null,
   "metadata": {},
   "outputs": [],
   "source": []
  },
  {
   "cell_type": "code",
   "execution_count": null,
   "metadata": {},
   "outputs": [],
   "source": []
  },
  {
   "cell_type": "code",
   "execution_count": null,
   "metadata": {},
   "outputs": [],
   "source": []
  }
 ],
 "metadata": {
  "kernelspec": {
   "display_name": "myenv",
   "language": "python",
   "name": "myenv"
  },
  "language_info": {
   "codemirror_mode": {
    "name": "ipython",
    "version": 3
   },
   "file_extension": ".py",
   "mimetype": "text/x-python",
   "name": "python",
   "nbconvert_exporter": "python",
   "pygments_lexer": "ipython3",
   "version": "3.7.5"
  }
 },
 "nbformat": 4,
 "nbformat_minor": 4
}
