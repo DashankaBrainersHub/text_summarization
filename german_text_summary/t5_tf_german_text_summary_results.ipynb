{
 "cells": [
  {
   "cell_type": "markdown",
   "metadata": {},
   "source": [
    "# German Textsummary CNN Daily Mail Results\n",
    "We will try out the trained t5 network from the tpu"
   ]
  },
  {
   "cell_type": "code",
   "execution_count": 1,
   "metadata": {},
   "outputs": [],
   "source": [
    "import tensorflow as tf\n",
    "import pandas as pd\n",
    "from transformers import T5Tokenizer, TFT5ForConditionalGeneration\n",
    "import time"
   ]
  },
  {
   "cell_type": "markdown",
   "metadata": {},
   "source": [
    "## Params"
   ]
  },
  {
   "cell_type": "code",
   "execution_count": 2,
   "metadata": {},
   "outputs": [],
   "source": [
    "BATCH_SIZE = 10\n",
    "\n",
    "SHUFFEL_SIZE = 1024\n",
    "\n",
    "learning_rate = 3e-5\n",
    "\n",
    "model_size = \"t5-base\"\n",
    "\n",
    "MAX_ARTICLE_LEN = 512\n",
    "\n",
    "MAX_HIGHLIGHT_LEN = 150"
   ]
  },
  {
   "cell_type": "markdown",
   "metadata": {},
   "source": [
    "## Model"
   ]
  },
  {
   "cell_type": "code",
   "execution_count": 3,
   "metadata": {},
   "outputs": [],
   "source": [
    "tokenizer = T5Tokenizer.from_pretrained(model_size)\n",
    "model = TFT5ForConditionalGeneration.from_pretrained(model_size)\n",
    "\n",
    "task_specific_params = model.config.task_specific_params\n",
    "if task_specific_params is not None:\n",
    "    model.config.update(task_specific_params.get(\"summarization\", {}))\n",
    "    \n",
    "pad_token_id = tokenizer.pad_token_id"
   ]
  },
  {
   "cell_type": "code",
   "execution_count": 4,
   "metadata": {},
   "outputs": [
    {
     "name": "stdout",
     "output_type": "stream",
     "text": [
      "Model: \"tf_t5for_conditional_generation\"\n",
      "_________________________________________________________________\n",
      "Layer (type)                 Output Shape              Param #   \n",
      "=================================================================\n",
      "shared (TFSharedEmbeddings)  multiple                  24674304  \n",
      "_________________________________________________________________\n",
      "encoder (TFT5MainLayer)      multiple                  84954240  \n",
      "_________________________________________________________________\n",
      "decoder (TFT5MainLayer)      multiple                  113275392 \n",
      "=================================================================\n",
      "Total params: 222,903,936\n",
      "Trainable params: 222,903,936\n",
      "Non-trainable params: 0\n",
      "_________________________________________________________________\n"
     ]
    }
   ],
   "source": [
    "val_loss = tf.keras.metrics.Mean(name='val_loss')\n",
    "val_accuracy = tf.keras.metrics.SparseCategoricalAccuracy(name='val_accuracy')\n",
    "\n",
    "model.summary()"
   ]
  },
  {
   "cell_type": "code",
   "execution_count": 5,
   "metadata": {},
   "outputs": [
    {
     "data": {
      "text/plain": [
       "<tensorflow.python.training.tracking.util.CheckpointLoadStatus at 0x7f08f03cde50>"
      ]
     },
     "execution_count": 5,
     "metadata": {},
     "output_type": "execute_result"
    }
   ],
   "source": [
    "ckpt_file = \"../models/ckpt/checkpoint.ckpt\"\n",
    "model.load_weights(ckpt_file)"
   ]
  },
  {
   "cell_type": "markdown",
   "metadata": {},
   "source": [
    "## Dataset\n",
    "We will load the translated CNN Daily Mail dataset from the tfrecords files"
   ]
  },
  {
   "cell_type": "code",
   "execution_count": 6,
   "metadata": {},
   "outputs": [],
   "source": [
    "path = \"../data\"\n",
    "\n",
    "def get_tfrecord_dataset(drive_path, file_name):\n",
    "    features = {\n",
    "        'x': tf.io.FixedLenFeature([MAX_ARTICLE_LEN], tf.int64),\n",
    "        'x_mask': tf.io.FixedLenFeature([MAX_ARTICLE_LEN], tf.int64),\n",
    "        'y': tf.io.FixedLenFeature([MAX_HIGHLIGHT_LEN], tf.int64),\n",
    "        'y_ids': tf.io.FixedLenFeature([MAX_HIGHLIGHT_LEN - 1], tf.int64),\n",
    "        'y_labels': tf.io.FixedLenFeature([MAX_HIGHLIGHT_LEN - 1], tf.int64),\n",
    "    }\n",
    "\n",
    "    dataset = tf.data.TFRecordDataset(f\"{drive_path}/{file_name}.tfrecord\")\n",
    "\n",
    "    # Taken from the TensorFlow models repository: https://github.com/tensorflow/models/blob/befbe0f9fe02d6bc1efb1c462689d069dae23af1/official/nlp/bert/input_pipeline.py#L24\n",
    "    def decode_record(record, features):\n",
    "        \"\"\"Decodes a record to a TensorFlow example.\"\"\"\n",
    "        example = tf.io.parse_single_example(record, features)\n",
    "\n",
    "        # tf.Example only supports tf.int64, but the TPU only supports tf.int32.\n",
    "        # So cast all int64 to int32.\n",
    "        for name in list(example.keys()):\n",
    "            t = example[name]\n",
    "            if t.dtype == tf.int64:\n",
    "                t = tf.cast(t, tf.int32)\n",
    "            example[name] = t\n",
    "        return example\n",
    "\n",
    "\n",
    "    def select_data_from_record(record):\n",
    "        return record['x'], record['x_mask'], record['y'], record['y_ids'], record['y_labels']\n",
    "\n",
    "\n",
    "    dataset = dataset.map(lambda record: decode_record(record, features))\n",
    "    dataset = dataset.map(select_data_from_record)\n",
    "    dataset = dataset.shuffle(100)\n",
    "    return dataset.batch(BATCH_SIZE)\n",
    "\n",
    "test_ds = get_tfrecord_dataset(path, \"test_cnn_daily_mail\")"
   ]
  },
  {
   "cell_type": "markdown",
   "metadata": {},
   "source": [
    "## Evaluation\n",
    "### Define Rouge Score"
   ]
  },
  {
   "cell_type": "code",
   "execution_count": 7,
   "metadata": {},
   "outputs": [],
   "source": [
    "from rouge_score import rouge_scorer\n",
    "from rouge_score import scoring\n",
    "\n",
    "class RougeScore:\n",
    "    '''\n",
    "    mostly from https://github.com/google-research/text-to-text-transfer-transformer/blob/master/t5/evaluation/metrics.py \n",
    "    '''\n",
    "    \n",
    "    def __init__(self, score_keys=None)-> None:\n",
    "        super().__init__()\n",
    "        if score_keys is None:  \n",
    "            self.score_keys = [\"rouge1\", \"rouge2\", \"rougeLsum\"]\n",
    "        \n",
    "        self.scorer = rouge_scorer.RougeScorer(self.score_keys)\n",
    "        self.aggregator = scoring.BootstrapAggregator()\n",
    "        \n",
    "        \n",
    "    @staticmethod\n",
    "    def prepare_summary(summary):\n",
    "            # Make sure the summary is not bytes-type\n",
    "            # Add newlines between sentences so that rougeLsum is computed correctly.\n",
    "            summary = summary.replace(\" . \", \" .\\n\")\n",
    "            return summary\n",
    "    \n",
    "    def __call__(self, target, prediction):\n",
    "        \"\"\"Computes rouge score.''\n",
    "        Args:\n",
    "        targets: string\n",
    "        predictions: string\n",
    "        \"\"\"\n",
    "\n",
    "        target = self.prepare_summary(target)\n",
    "        prediction = self.prepare_summary(prediction)\n",
    "        \n",
    "        self.aggregator.add_scores(self.scorer.score(target=target, prediction=prediction))\n",
    "\n",
    "        return \n",
    "    \n",
    "    def reset_states(self):\n",
    "        self.rouge_list = []\n",
    "\n",
    "    def result(self):\n",
    "        result = self.aggregator.aggregate()\n",
    "        \n",
    "        for key in self.score_keys:\n",
    "            score_text = \"%s = %.2f, 95%% confidence [%.2f, %.2f]\"%(\n",
    "                key,\n",
    "                result[key].mid.fmeasure*100,\n",
    "                result[key].low.fmeasure*100,\n",
    "                result[key].high.fmeasure*100\n",
    "            )\n",
    "            print(score_text)\n",
    "        \n",
    "        return {key: result[key].mid.fmeasure*100 for key in self.score_keys}"
   ]
  },
  {
   "cell_type": "markdown",
   "metadata": {},
   "source": [
    "### Compute Rouge Score"
   ]
  },
  {
   "cell_type": "code",
   "execution_count": 8,
   "metadata": {},
   "outputs": [],
   "source": [
    "predictions = []\n",
    "rouge_score = RougeScore()\n",
    "start_time = time.time()\n",
    "\n",
    "for i, (input_ids, input_mask, y, y_ids, y_labels) in enumerate(test_ds):   \n",
    "    summaries = model.generate(\n",
    "        input_ids=input_ids, \n",
    "        attention_mask=input_mask, \n",
    "        early_stopping=True, \n",
    "        max_length=150, \n",
    "        min_length=40, \n",
    "        do_sample= True, \n",
    "        length_penalty=100.0,\n",
    "        repetition_penalty=2.0,\n",
    "        top_k=50, \n",
    "        top_p=0.95, \n",
    "        num_return_sequences=1\n",
    "    )\n",
    "\n",
    "    articles = [tokenizer.decode(g[1:], skip_special_tokens=True, clean_up_tokenization_spaces=False) for g in input_ids]\n",
    "    \n",
    "    pred = [tokenizer.decode(g, skip_special_tokens=True, clean_up_tokenization_spaces=False) for g in summaries]\n",
    "    real = [tokenizer.decode(g, skip_special_tokens=True, clean_up_tokenization_spaces=False) for g in y]\n",
    "    \n",
    "    for pred_sent, real_sent, article_sent in zip(pred, real, articles):\n",
    "        rouge_score(pred_sent, real_sent)\n",
    "        predictions.append(str(\"article: \" + article_sent + \"\\n\\npred sentence: \" + pred_sent + \"\\n\\nreal sentence: \" + real_sent))\n",
    "    break\n",
    "    if (i % 10) == 0:\n",
    "        elapsed = (time.time() - start_time) / 10\n",
    "        print(i,\": time genreate batch:\", elapsed)\n",
    "        start_time = time.time()\n",
    "    if i > 51:\n",
    "        # otherwise it will take ages\n",
    "        break\n",
    "\n",
    "\n",
    "# rouge_score.result()"
   ]
  },
  {
   "cell_type": "markdown",
   "metadata": {},
   "source": [
    "### Lets have a look at some of these predicted summaries"
   ]
  },
  {
   "cell_type": "code",
   "execution_count": 9,
   "metadata": {},
   "outputs": [],
   "source": [
    "import numpy as np\n",
    "len_predictions = len(predictions)\n",
    "\n",
    "def get_random_prediction():\n",
    "    return predictions[np.random.randint(len_predictions)]"
   ]
  },
  {
   "cell_type": "code",
   "execution_count": 10,
   "metadata": {},
   "outputs": [
    {
     "name": "stdout",
     "output_type": "stream",
     "text": [
      "article: : Englands Kapitän Alastair Cook vollendete am zweiten Morgen des Eröffnungsspiels der England-Rundfahrt in den Westindien ein dringend benötigtes Jahrhundert. Cook wurde 95 und erreichte mit minimalem Aufhebens dreistellige Werte, bevor er in den Ruhestand ging. Englands Kapitän Alastair Cook vollendete am zweiten Morgen des Eröffnungsspiels der England Tour ein Jahrhundert. Eine kontrollierte dicke Flanke vom ersten Ball des Tages brachte ihm eine 11. Grenze der Innings und in der Folge drosch er den Ball für zwei vom hinteren Fuß. Er winkte seinem Partner Gary Ballance sanft mit dem Schläger und gab ihm einen Händedruck und ging auf 101 von 200 Lieferungen los. Das ermöglichte Ian Bell, an den Knick zu gelangen, wobei die Schlagzeit für die Touristen wichtiger war als der Versuch, ein Ergebnis in dieser zweitägigen Veranstaltung zu erzwingen. Ian Bell steht am zweiten Tag des St. Kitts und Nevis Invitational XI gegen England im Abseits.\n",
      "\n",
      "pred sentence: retetander Kapitän Alastair Cook vollendete ein Jahrhundert am zweiten Morgen des England-Erfolgsspiels. Er wurde 95 und erreichte mit minimalem Aufheben dreistellige Werte, bevor er in den Ruhestand ging. Ian Bell steht am nächsten Tag des St. Kitts and Nevis Invitational XI gegen England im Abseits. frunzette vom ersten Ball brachte ihm eine 11. Grenze der Innings und in der Folge drosch er den Ball für zwei vom hinteren Fuß. Der Spieler traf 101 von 200 Lieferungen und ging auf 101 von 220 Lieferungen los. Großbri\n",
      "\n",
      "real sentence: Alastair Cook vollendete sein Jahrhundert am zweiten Morgen des Einsatzes. Englands Kapitän nahm seine Arbeit im Jahr 95 wieder auf und erreichte vor seiner Pensionierung eine dreistellige Zahl. Dies ermöglichte es Ian Bell, an der Falte anzukommen, während die Touristen weiter flogen.\n"
     ]
    }
   ],
   "source": [
    "print(get_random_prediction())"
   ]
  },
  {
   "cell_type": "code",
   "execution_count": 11,
   "metadata": {},
   "outputs": [
    {
     "name": "stdout",
     "output_type": "stream",
     "text": [
      "article: : Prinzessin Beatrice wurde beim Großen Preis von Bahrain gesehen, ihrem vierten Urlaub in einem Monat (im Bild beim Großen Preis von Abu Dhabi im vergangenen November). Nach elf Urlauben in weniger als sechs Monaten hätte man gedacht, Prinzessin Beatrice wäre bereit, ihren Weltenbummler zu bremsen. Doch gestern wurde die unterbeschäftigte 26-Jährige wieder einmal in Übersee gesichtet, diesmal beim Großen Preis von Bahrain. Sie befand sich im Golfstaat, regiert von einem umstrittenen König, dessen Regime beschuldigt wird, pro-demokratische Aktivisten gewaltsam zu unterdrücken, laut einem Zuschauer, der sie vor dem Rennen unter Würdenträgern in der Startaufstellung sah. Sie ging hinter dem Kronprinzen von Bahrain her. Sie sei dem kürzlich abgedankten König Carlos von Spanien vorgestellt und beschnitten worden, sagte die Quelle. Angeführt wurde diese Gruppe von Würdenträgern von Bernie Ecclestone. Ich glaube, sie hat das Rennen mit dem Kronprinzen vom Turm hoch über der Rennstrecke aus verfolgt. Es wird vermutet, dass auch Formel-1-Legende Sir Jackie Stewart und Komiker Rory Bremner im Turm waren und die spektakuläre Aussicht genossen, als der Brite Lewis Hamilton das Rennen über 57 Runden mit den Erzrivalen Sebastian Vettel und Nico Rosberg gewann. Obwohl Beatrice keine öffentlichen Mittel erhält, hat ihr Jetset-Lebensstil zu einer Zeit für Stirnrunzeln gesorgt, in der die Königin unbedingt königliche Sparsamkeit fördern will. Auf die Sichtung von Beatrice beim Großen Preis von Bahrain angesprochen, sagte ein Sprecher des Buckingham-Palastes gestern Abend (Sonne): \"Kein Kommentar\". Die 26-jährige Prinzessin (im Bild links im November letzten Jahres in Peking) wurde nach Angaben eines Schaulustigen mit ihrem langjährigen Freund Dave Clark im Golfstaat gesichtet. Beatrice (im Bild beim Feiern von Neujahr in der Karibik) war laut dem Zeugen mit dem Kronprinzen zusammen, \n",
      "\n",
      "pred sentence: formel-1-Legende Sir Jackie Stewart und Rory Bremner genossen das Rennen hoch über der Rennstrecke. Beatrice, 26, wurde beim Großen Preis von Bahrain gesehen, ihr vierter Urlaub in einem Monat. Sie war mit dem Kronprinzen von Bahrain zusammen, sagte ein Zuschauer. Ein Sprecher des Buckingham Palace sagte: \"Kein Kommentar\". Das Rennen findet im Golfstaat statt, regiert durch einen umstrittenen König, dessen Regime beschuldigt wird, pro-demokratische Aktivisten gewaltsam zu unterdrücken. Die Britin hat keine öffentliche Mittel, aber sie hat ihre Jetset-Leben\n",
      "\n",
      "real sentence: Beatrice sah Rennen auf der Terrasse mit dem Kronprinzen des Golfstaates. Mark 13. Urlaub seit November letzten Jahres, und vierte in einem Monat. Prinzessin kündigte ihren Job bei Sony Pictures in New York vor Weihnachten. Trotzdem wird sie als Vollzeit-Arbeiterin auf der Website ihres Vaters beschrieben.\n"
     ]
    }
   ],
   "source": [
    "print(get_random_prediction())"
   ]
  },
  {
   "cell_type": "code",
   "execution_count": 12,
   "metadata": {},
   "outputs": [
    {
     "name": "stdout",
     "output_type": "stream",
     "text": [
      "article: : Englands Kapitän Alastair Cook vollendete am zweiten Morgen des Eröffnungsspiels der England-Rundfahrt in den Westindien ein dringend benötigtes Jahrhundert. Cook wurde 95 und erreichte mit minimalem Aufhebens dreistellige Werte, bevor er in den Ruhestand ging. Englands Kapitän Alastair Cook vollendete am zweiten Morgen des Eröffnungsspiels der England Tour ein Jahrhundert. Eine kontrollierte dicke Flanke vom ersten Ball des Tages brachte ihm eine 11. Grenze der Innings und in der Folge drosch er den Ball für zwei vom hinteren Fuß. Er winkte seinem Partner Gary Ballance sanft mit dem Schläger und gab ihm einen Händedruck und ging auf 101 von 200 Lieferungen los. Das ermöglichte Ian Bell, an den Knick zu gelangen, wobei die Schlagzeit für die Touristen wichtiger war als der Versuch, ein Ergebnis in dieser zweitägigen Veranstaltung zu erzwingen. Ian Bell steht am zweiten Tag des St. Kitts und Nevis Invitational XI gegen England im Abseits.\n",
      "\n",
      "pred sentence: retetander Kapitän Alastair Cook vollendete ein Jahrhundert am zweiten Morgen des England-Erfolgsspiels. Er wurde 95 und erreichte mit minimalem Aufheben dreistellige Werte, bevor er in den Ruhestand ging. Ian Bell steht am nächsten Tag des St. Kitts and Nevis Invitational XI gegen England im Abseits. frunzette vom ersten Ball brachte ihm eine 11. Grenze der Innings und in der Folge drosch er den Ball für zwei vom hinteren Fuß. Der Spieler traf 101 von 200 Lieferungen und ging auf 101 von 220 Lieferungen los. Großbri\n",
      "\n",
      "real sentence: Alastair Cook vollendete sein Jahrhundert am zweiten Morgen des Einsatzes. Englands Kapitän nahm seine Arbeit im Jahr 95 wieder auf und erreichte vor seiner Pensionierung eine dreistellige Zahl. Dies ermöglichte es Ian Bell, an der Falte anzukommen, während die Touristen weiter flogen.\n"
     ]
    }
   ],
   "source": [
    "print(get_random_prediction())"
   ]
  },
  {
   "cell_type": "code",
   "execution_count": 13,
   "metadata": {},
   "outputs": [
    {
     "name": "stdout",
     "output_type": "stream",
     "text": [
      "article: : Englands Kapitän Alastair Cook vollendete am zweiten Morgen des Eröffnungsspiels der England-Rundfahrt in den Westindien ein dringend benötigtes Jahrhundert. Cook wurde 95 und erreichte mit minimalem Aufhebens dreistellige Werte, bevor er in den Ruhestand ging. Englands Kapitän Alastair Cook vollendete am zweiten Morgen des Eröffnungsspiels der England Tour ein Jahrhundert. Eine kontrollierte dicke Flanke vom ersten Ball des Tages brachte ihm eine 11. Grenze der Innings und in der Folge drosch er den Ball für zwei vom hinteren Fuß. Er winkte seinem Partner Gary Ballance sanft mit dem Schläger und gab ihm einen Händedruck und ging auf 101 von 200 Lieferungen los. Das ermöglichte Ian Bell, an den Knick zu gelangen, wobei die Schlagzeit für die Touristen wichtiger war als der Versuch, ein Ergebnis in dieser zweitägigen Veranstaltung zu erzwingen. Ian Bell steht am zweiten Tag des St. Kitts und Nevis Invitational XI gegen England im Abseits.\n",
      "\n",
      "pred sentence: retetander Kapitän Alastair Cook vollendete ein Jahrhundert am zweiten Morgen des England-Erfolgsspiels. Er wurde 95 und erreichte mit minimalem Aufheben dreistellige Werte, bevor er in den Ruhestand ging. Ian Bell steht am nächsten Tag des St. Kitts and Nevis Invitational XI gegen England im Abseits. frunzette vom ersten Ball brachte ihm eine 11. Grenze der Innings und in der Folge drosch er den Ball für zwei vom hinteren Fuß. Der Spieler traf 101 von 200 Lieferungen und ging auf 101 von 220 Lieferungen los. Großbri\n",
      "\n",
      "real sentence: Alastair Cook vollendete sein Jahrhundert am zweiten Morgen des Einsatzes. Englands Kapitän nahm seine Arbeit im Jahr 95 wieder auf und erreichte vor seiner Pensionierung eine dreistellige Zahl. Dies ermöglichte es Ian Bell, an der Falte anzukommen, während die Touristen weiter flogen.\n"
     ]
    }
   ],
   "source": [
    "print(get_random_prediction())"
   ]
  },
  {
   "cell_type": "markdown",
   "metadata": {},
   "source": [
    "## Upsides\n",
    "The results are good readable and they summaries the content of the article.\n",
    "\n",
    "## Downsides\n",
    "A obvious fault of the model is, that it does not stop generating. It's maybe caused by the way the model was trained. The length penalty does not have any effect. If "
   ]
  },
  {
   "cell_type": "code",
   "execution_count": 14,
   "metadata": {},
   "outputs": [],
   "source": [
    "result_path = \"../data/t5base_result_german.txt\"\n",
    "open(result_path, \"w\")\n",
    "for pred in predictions:\n",
    "    with open(result_path, \"a\") as file:\n",
    "        file.write(pred + \"\\n\")"
   ]
  },
  {
   "cell_type": "code",
   "execution_count": null,
   "metadata": {},
   "outputs": [],
   "source": []
  }
 ],
 "metadata": {
  "kernelspec": {
   "display_name": "textsummary",
   "language": "python",
   "name": "venv"
  },
  "language_info": {
   "codemirror_mode": {
    "name": "ipython",
    "version": 3
   },
   "file_extension": ".py",
   "mimetype": "text/x-python",
   "name": "python",
   "nbconvert_exporter": "python",
   "pygments_lexer": "ipython3",
   "version": "3.8.2"
  }
 },
 "nbformat": 4,
 "nbformat_minor": 4
}
