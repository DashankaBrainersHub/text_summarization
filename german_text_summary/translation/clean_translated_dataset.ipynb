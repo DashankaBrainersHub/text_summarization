{
 "cells": [
  {
   "cell_type": "code",
   "execution_count": 9,
   "metadata": {},
   "outputs": [],
   "source": [
    "from pathlib import Path\n",
    "import re\n",
    "import time\n",
    "\n",
    "import tensorflow as tf\n",
    "import tensorflow_datasets as tfds"
   ]
  },
  {
   "cell_type": "markdown",
   "metadata": {},
   "source": [
    "## Original DS "
   ]
  },
  {
   "cell_type": "code",
   "execution_count": 12,
   "metadata": {},
   "outputs": [],
   "source": [
    "cnn_dailymail = tfds.load(name=\"cnn_dailymail\")\n",
    "train_tfds = cnn_dailymail['train']\n",
    "test_tfds = cnn_dailymail['test']\n",
    "val_tfds = cnn_dailymail['validation']"
   ]
  },
  {
   "cell_type": "code",
   "execution_count": 19,
   "metadata": {},
   "outputs": [],
   "source": [
    "len_train = len(list(train_tfds))\n",
    "len_test = len(list(test_tfds))\n",
    "len_val = len(list(val_tfds))"
   ]
  },
  {
   "cell_type": "code",
   "execution_count": 20,
   "metadata": {},
   "outputs": [
    {
     "data": {
      "text/plain": [
       "(287113, 11490, 13368)"
      ]
     },
     "execution_count": 20,
     "metadata": {},
     "output_type": "execute_result"
    }
   ],
   "source": [
    "len_train, len_test, len_val"
   ]
  },
  {
   "cell_type": "code",
   "execution_count": 96,
   "metadata": {},
   "outputs": [],
   "source": [
    "def remove_double_lines(ds):\n",
    "    new_ds = []\n",
    "    last_line = \"\"\n",
    "    for i, line in enumerate(ds):\n",
    "        if line != last_line:\n",
    "            new_ds.append(line)\n",
    "        last_line = line\n",
    "    return new_ds\n",
    "\n",
    "def get_dict_data(list_input):\n",
    "    ret_dict = {}\n",
    "    for input_item in list_input:\n",
    "        data_point = input_item.split(\";\")\n",
    "        data_id = data_point[0]\n",
    "        data = \"\"\n",
    "        for item in data_point[1:]:\n",
    "            data += item\n",
    "        ret_dict[int(data_id)] = data.strip()\n",
    "    return ret_dict\n",
    "    \n",
    "def get_translated_ds(name):\n",
    "    len_tds = 0\n",
    "    if name == \"train\":\n",
    "        len_tds = len_train\n",
    "    elif name == \"test\":\n",
    "        len_tds = len_test\n",
    "    elif name == \"val\":\n",
    "        len_tds = len_val\n",
    "        \n",
    "    article_path = \"../../data/%s/articles_german\" % name\n",
    "    highlights_path = \"../../data/%s/highlights_german\" % name\n",
    "\n",
    "    articles = [x.rstrip() for x in open(article_path).readlines()]\n",
    "    highlights = [x.rstrip() for x in open(highlights_path).readlines()]\n",
    "    articles = remove_double_lines(articles)\n",
    "    highlights = remove_double_lines(highlights)\n",
    "    \n",
    "    len_articles = len(articles)\n",
    "    len_highlights = len(highlights)\n",
    "    print(len_articles, len_highlights)\n",
    "    \n",
    "    assert len_articles == len_tds\n",
    "    assert len_highlights == len_tds\n",
    "    \n",
    "    with open(article_path, \"w\") as file:\n",
    "        file.write(\"\")\n",
    "    for line in articles: \n",
    "        with open(article_path, \"a\") as file:\n",
    "            file.write(line + \"\\n\")\n",
    "    \n",
    "    with open(highlights_path, \"w\") as file:\n",
    "        file.write(\"\")\n",
    "    for line in highlights: \n",
    "        with open(highlights_path, \"a\") as file:\n",
    "            file.write(line + \"\\n\")\n",
    "    \n",
    "    return articles, highlights"
   ]
  },
  {
   "cell_type": "code",
   "execution_count": 97,
   "metadata": {},
   "outputs": [
    {
     "name": "stdout",
     "output_type": "stream",
     "text": [
      "287113 287113\n",
      "11490 11490\n",
      "13368 13368\n"
     ]
    }
   ],
   "source": [
    "train_x, train_y = get_translated_ds(\"train\")\n",
    "test_x, test_y = get_translated_ds(\"test\")\n",
    "val_x, val_y = get_translated_ds(\"val\")"
   ]
  },
  {
   "cell_type": "code",
   "execution_count": null,
   "metadata": {},
   "outputs": [],
   "source": []
  },
  {
   "cell_type": "code",
   "execution_count": null,
   "metadata": {},
   "outputs": [],
   "source": []
  }
 ],
 "metadata": {
  "kernelspec": {
   "display_name": "textsummary",
   "language": "python",
   "name": "venv"
  },
  "language_info": {
   "codemirror_mode": {
    "name": "ipython",
    "version": 3
   },
   "file_extension": ".py",
   "mimetype": "text/x-python",
   "name": "python",
   "nbconvert_exporter": "python",
   "pygments_lexer": "ipython3",
   "version": "3.8.2"
  }
 },
 "nbformat": 4,
 "nbformat_minor": 4
}
