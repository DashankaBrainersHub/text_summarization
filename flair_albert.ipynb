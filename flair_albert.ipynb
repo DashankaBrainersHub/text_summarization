{
 "cells": [
  {
   "cell_type": "code",
   "execution_count": 1,
   "metadata": {},
   "outputs": [],
   "source": [
    "import pickle\n",
    "\n",
    "import torch\n",
    "\n",
    "import tensorflow_datasets as tfds\n",
    "import tensorflow as tf\n",
    "\n",
    "from flair.data import Sentence\n",
    "from flair.embeddings import BertEmbeddings, DocumentPoolEmbeddings\n",
    "from segtok.segmenter import split_single"
   ]
  },
  {
   "cell_type": "markdown",
   "metadata": {},
   "source": [
    "# Embedding Model"
   ]
  },
  {
   "cell_type": "code",
   "execution_count": 2,
   "metadata": {},
   "outputs": [],
   "source": [
    "albert = BertEmbeddings(bert_model_or_path=\"albert-base-v2\")\n",
    "\n",
    "albert_embedding = DocumentPoolEmbeddings([albert])"
   ]
  },
  {
   "cell_type": "code",
   "execution_count": 3,
   "metadata": {},
   "outputs": [
    {
     "name": "stdout",
     "output_type": "stream",
     "text": [
      "torch.Size([3072])\n",
      "tensor([-0.6863, -0.5820,  1.0685,  ...,  0.7118,  0.6721,  0.5402],\n",
      "       device='cuda:0', grad_fn=<CatBackward>)\n"
     ]
    }
   ],
   "source": [
    "sent = Sentence(\"Berlin and Munich are nice cities .\")\n",
    "albert_embedding.embed(sent)\n",
    "\n",
    "embedd_result = sent.get_embedding()\n",
    "print(embedd_result.shape)\n",
    "print(embedd_result)"
   ]
  },
  {
   "cell_type": "markdown",
   "metadata": {},
   "source": [
    "# Dataset"
   ]
  },
  {
   "cell_type": "code",
   "execution_count": 4,
   "metadata": {},
   "outputs": [
    {
     "name": "stderr",
     "output_type": "stream",
     "text": [
      "INFO:absl:No config specified, defaulting to first: cnn_dailymail/plain_text\n",
      "INFO:absl:Overwrite dataset info from restored data version.\n",
      "INFO:absl:Reusing dataset cnn_dailymail (/home/yannik/tensorflow_datasets/cnn_dailymail/plain_text/3.0.0)\n",
      "INFO:absl:Constructing tf.data.Dataset for split None, from /home/yannik/tensorflow_datasets/cnn_dailymail/plain_text/3.0.0\n"
     ]
    }
   ],
   "source": [
    "cnn_dailymail = tfds.load(name=\"cnn_dailymail\")"
   ]
  },
  {
   "cell_type": "code",
   "execution_count": 5,
   "metadata": {},
   "outputs": [],
   "source": [
    "train_tds = cnn_dailymail['train']\n",
    "test_tds = cnn_dailymail['test']\n",
    "val_tds = cnn_dailymail['validation']"
   ]
  },
  {
   "cell_type": "markdown",
   "metadata": {},
   "source": [
    "## Prepare Dataset\n",
    "- for faster training, we will clean the data, compute the Albert-Base Embedding of all articles and save it to Files, so that we don't have to do it while training"
   ]
  },
  {
   "cell_type": "code",
   "execution_count": 6,
   "metadata": {},
   "outputs": [],
   "source": [
    "def normalize_text(text):\n",
    "    \"\"\"Lowercase and remove quotes from a TensorFlow string.\"\"\"\n",
    "    text = tf.strings.lower(text)\n",
    "    text = tf.strings.regex_replace(text,\"'(.*)'\", r\"\\1\")\n",
    "    return text\n",
    "\n",
    "\n",
    "def map_func(features):\n",
    "    article_text = normalize_text(features[\"article\"])\n",
    "    highlights_text = normalize_text(features['highlights'])\n",
    "    \n",
    "    return article_text.numpy().decode('UTF-8'), highlights_text.numpy().decode('UTF-8')\n",
    "        "
   ]
  },
  {
   "cell_type": "code",
   "execution_count": 7,
   "metadata": {},
   "outputs": [],
   "source": [
    "def get_embedding_of_article(article, i):\n",
    "    list_embedding = []\n",
    "    \n",
    "    sentences = split_single(article)\n",
    "    for j, sentence in enumerate(sentences):\n",
    "        # cuts to long sentences of \n",
    "        if len(sentence) > 750:\n",
    "            sentence = sentence[:750]\n",
    "            \n",
    "        if len(sentence) > 1:\n",
    "            sent = Sentence(sentence)\n",
    "\n",
    "            albert_embedding.embed(sent)\n",
    "            x = sent.get_embedding()\n",
    "            x = x.to('cpu').detach().numpy()\n",
    "            list_embedding.append(x)\n",
    "    return list_embedding"
   ]
  },
  {
   "cell_type": "code",
   "execution_count": 8,
   "metadata": {},
   "outputs": [],
   "source": [
    "def embedd_ds(ds):\n",
    "    new_ds = []\n",
    "    for i, item in enumerate(ds):\n",
    "        article, higlights = map_func(item)\n",
    "        x = get_embedding_of_article(article, i)\n",
    "        new_ds.append({\"article\": x, \"article_text\": article, \"highlights\": higlights})\n",
    "    return new_ds"
   ]
  },
  {
   "cell_type": "code",
   "execution_count": 9,
   "metadata": {},
   "outputs": [],
   "source": [
    "def save_file(data, filename):\n",
    "    with open(filename, \"wb\") as f:\n",
    "        pickle.dump(data, f)\n",
    "\n",
    "        \n",
    "def load_file(filename):  \n",
    "    with open(filename, \"rb\") as f:\n",
    "        return pickle.load(f)"
   ]
  },
  {
   "cell_type": "code",
   "execution_count": 10,
   "metadata": {},
   "outputs": [
    {
     "ename": "NameError",
     "evalue": "name 'train_tdf' is not defined",
     "output_type": "error",
     "traceback": [
      "\u001b[0;31m---------------------------------------------------------------------------\u001b[0m",
      "\u001b[0;31mNameError\u001b[0m                                 Traceback (most recent call last)",
      "\u001b[0;32m<ipython-input-10-23b106ef1cc1>\u001b[0m in \u001b[0;36m<module>\u001b[0;34m\u001b[0m\n\u001b[0;32m----> 1\u001b[0;31m \u001b[0mtrain_ds\u001b[0m \u001b[0;34m=\u001b[0m \u001b[0membedd_ds\u001b[0m\u001b[0;34m(\u001b[0m\u001b[0mtrain_tdf\u001b[0m\u001b[0;34m)\u001b[0m\u001b[0;34m\u001b[0m\u001b[0;34m\u001b[0m\u001b[0m\n\u001b[0m\u001b[1;32m      2\u001b[0m \u001b[0msave_file\u001b[0m\u001b[0;34m(\u001b[0m\u001b[0mtrain_ds\u001b[0m\u001b[0;34m,\u001b[0m \u001b[0;34m\"train.pkl\"\u001b[0m\u001b[0;34m)\u001b[0m\u001b[0;34m\u001b[0m\u001b[0;34m\u001b[0m\u001b[0m\n\u001b[1;32m      3\u001b[0m \u001b[0;34m\u001b[0m\u001b[0m\n\u001b[1;32m      4\u001b[0m \u001b[0mtest_ds\u001b[0m \u001b[0;34m=\u001b[0m \u001b[0membedd_ds\u001b[0m\u001b[0;34m(\u001b[0m\u001b[0mtest_df\u001b[0m\u001b[0;34m)\u001b[0m\u001b[0;34m\u001b[0m\u001b[0;34m\u001b[0m\u001b[0m\n\u001b[1;32m      5\u001b[0m \u001b[0msave_file\u001b[0m\u001b[0;34m(\u001b[0m\u001b[0mtest_ds\u001b[0m\u001b[0;34m,\u001b[0m \u001b[0;34m\"test.pkl\"\u001b[0m\u001b[0;34m)\u001b[0m\u001b[0;34m\u001b[0m\u001b[0;34m\u001b[0m\u001b[0m\n",
      "\u001b[0;31mNameError\u001b[0m: name 'train_tdf' is not defined"
     ]
    }
   ],
   "source": [
    "train_ds = embedd_ds(train_tdf)\n",
    "save_file(train_ds, \"train.pkl\")\n",
    "\n",
    "test_ds = embedd_ds(test_df)\n",
    "save_file(test_ds, \"test.pkl\")\n",
    "\n",
    "val_ds = embedd_ds(val_tfd)\n",
    "save_file(val_ds, \"val.pkl\")"
   ]
  },
  {
   "cell_type": "code",
   "execution_count": null,
   "metadata": {},
   "outputs": [],
   "source": []
  },
  {
   "cell_type": "code",
   "execution_count": null,
   "metadata": {},
   "outputs": [],
   "source": []
  },
  {
   "cell_type": "code",
   "execution_count": null,
   "metadata": {},
   "outputs": [],
   "source": []
  }
 ],
 "metadata": {
  "kernelspec": {
   "display_name": "myenv",
   "language": "python",
   "name": "myenv"
  },
  "language_info": {
   "codemirror_mode": {
    "name": "ipython",
    "version": 3
   },
   "file_extension": ".py",
   "mimetype": "text/x-python",
   "name": "python",
   "nbconvert_exporter": "python",
   "pygments_lexer": "ipython3",
   "version": "3.7.5"
  }
 },
 "nbformat": 4,
 "nbformat_minor": 2
}
