{
 "cells": [
  {
   "cell_type": "code",
   "execution_count": 9,
   "metadata": {},
   "outputs": [],
   "source": [
    "import numpy as np\n",
    "\n",
    "import tensorflow_datasets as tfds\n",
    "import tensorflow as tf\n",
    "import pandas as pd\n",
    "\n",
    "\n",
    "import matplotlib.pyplot as plt\n",
    "%matplotlib inline"
   ]
  },
  {
   "cell_type": "code",
   "execution_count": 10,
   "metadata": {},
   "outputs": [],
   "source": [
    "cnn_dailymail = tfds.load(name=\"cnn_dailymail\")"
   ]
  },
  {
   "cell_type": "code",
   "execution_count": 11,
   "metadata": {},
   "outputs": [],
   "source": [
    "train = cnn_dailymail['train']\n",
    "test = cnn_dailymail['test']\n",
    "val = cnn_dailymail['validation']\n"
   ]
  },
  {
   "cell_type": "code",
   "execution_count": 38,
   "metadata": {},
   "outputs": [],
   "source": [
    "def normalize_text(text):\n",
    "    \"\"\"Lowercase and remove quotes from a TensorFlow string.\"\"\"\n",
    "    text = tf.strings.lower(text)\n",
    "    text = tf.strings.regex_replace(text,\"'(.*)'\", r\"\\1\")\n",
    "    return text\n",
    "\n",
    "\n",
    "def map_func(features):\n",
    "    article_text = normalize_text(features[\"article\"])\n",
    "    highlights_text = normalize_text(features['highlights'])\n",
    "    \n",
    "    return {\"article\": article_text.numpy().decode('UTF-8'), \"highlights\": highlights_text.numpy().decode('UTF-8')}\n",
    "\n",
    "def get_csv(ds, name=\"train\"):\n",
    "    df = pd.DataFrame()\n",
    "    for item in ds:\n",
    "        df = df.append(map_func(item), ignore_index=True)\n",
    "    df.to_csv(str(name + \".tsv\"), sep=\"\\t\", index=False)\n",
    "    \n",
    "        \n",
    "get_csv(val, \"val\")"
   ]
  },
  {
   "cell_type": "code",
   "execution_count": 39,
   "metadata": {},
   "outputs": [],
   "source": [
    "get_csv(train, \"train\")"
   ]
  },
  {
   "cell_type": "code",
   "execution_count": 40,
   "metadata": {},
   "outputs": [],
   "source": [
    "get_csv(test, \"test\")"
   ]
  },
  {
   "cell_type": "code",
   "execution_count": null,
   "metadata": {},
   "outputs": [],
   "source": []
  }
 ],
 "metadata": {
  "kernelspec": {
   "display_name": "myenv",
   "language": "python",
   "name": "myenv"
  },
  "language_info": {
   "codemirror_mode": {
    "name": "ipython",
    "version": 3
   },
   "file_extension": ".py",
   "mimetype": "text/x-python",
   "name": "python",
   "nbconvert_exporter": "python",
   "pygments_lexer": "ipython3",
   "version": "3.7.5"
  }
 },
 "nbformat": 4,
 "nbformat_minor": 2
}
